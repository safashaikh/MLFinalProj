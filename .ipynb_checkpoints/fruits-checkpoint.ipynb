{
 "cells": [
  {
   "cell_type": "markdown",
   "metadata": {},
   "source": [
    "# Fruits Dataset"
   ]
  },
  {
   "cell_type": "markdown",
   "metadata": {},
   "source": [
    "## _Extract Data_"
   ]
  },
  {
   "cell_type": "code",
   "execution_count": 46,
   "metadata": {},
   "outputs": [
    {
     "name": "stdout",
     "output_type": "stream",
     "text": [
      "train_pin shape:  (490, 10000, 3)\n",
      "train_limes shape:  (490, 10000, 3)\n",
      "train_ban shape:  (490, 10000, 3)\n"
     ]
    }
   ],
   "source": [
    "import os\n",
    "import numpy as np\n",
    "import glob\n",
    "import cv2\n",
    "from sklearn.decomposition import PCA\n",
    "from sklearn.manifold import TSNE\n",
    "from sklearn.preprocessing import StandardScaler\n",
    "from sklearn.ensemble import RandomForestClassifier\n",
    "from sklearn.model_selection import train_test_split\n",
    "from sklearn.metrics import accuracy_score\n",
    "from sklearn import svm\n",
    "'''\n",
    "tr_pin = glob.glob('fruits/Training/Pineapple/*.jpg')\n",
    "tr_limes = glob.glob('fruits/Training/Limes/*.jpg')\n",
    "tr_ban = glob.glob('fruits/Training/Banana/*.jpg')\n",
    "\n",
    "train_pin = []\n",
    "for img in tr_pin:\n",
    "    img = cv2.imread(img)\n",
    "    img = np.reshape(img,(100*100,3))\n",
    "    train_pin.append(img)\n",
    "train_pin = np.asarray(train_pin)\n",
    "print(\"train_pin shape: \",train_pin.shape)\n",
    "    \n",
    "train_limes = []\n",
    "for img in tr_limes:\n",
    "    img = cv2.imread(img)\n",
    "    img = np.reshape(img,(100*100,3))\n",
    "    train_limes.append(img)\n",
    "train_limes = np.asarray(train_limes)\n",
    "print(\"train_limes shape: \",train_limes.shape)\n",
    "\n",
    "train_ban = []\n",
    "for img in tr_ban:\n",
    "    img = cv2.imread(img)\n",
    "    img = np.reshape(img,(100*100,3))\n",
    "    train_ban.append(img)\n",
    "train_ban = np.asarray(train_ban)\n",
    "print(\"train_ban shape: \",train_ban.shape)'''"
   ]
  },
  {
   "cell_type": "code",
   "execution_count": 49,
   "metadata": {},
   "outputs": [
    {
     "name": "stdout",
     "output_type": "stream",
     "text": [
      "(1470, 45, 45, 3) (1470,)\n",
      "['Banana' 'Banana' 'Banana' ... 'Pineapple' 'Pineapple' 'Pineapple']\n"
     ]
    }
   ],
   "source": [
    "fruits = []\n",
    "labels = [] \n",
    "fruits_f = []\n",
    "for fruit_dir in glob.glob(\"fruits/Training/*\"):\n",
    "    fruit_dir = fruit_dir.replace('\\\\', '/')\n",
    "    fruit_label = fruit_dir.split(\"/\")[-1]\n",
    "    for img in glob.glob(os.path.join(fruit_dir, \"*.jpg\")):\n",
    "        img = cv2.imread(img, cv2.IMREAD_COLOR)\n",
    "        \n",
    "        img = cv2.resize(img, (45, 45))\n",
    "        img = cv2.cvtColor(img, cv2.COLOR_RGB2BGR)\n",
    "        imgf = np.reshape(img,(45*45,3))\n",
    "        fruits.append(img)\n",
    "        fruits_f.append(imgf)\n",
    "        labels.append(fruit_label)\n",
    "fruits = np.array(fruits)\n",
    "labels = np.array(labels)\n",
    "fruits_f = np.array(fruits_f)\n",
    "print(fruits.shape,labels.shape)\n",
    "print(labels)"
   ]
  },
  {
   "cell_type": "code",
   "execution_count": 119,
   "metadata": {},
   "outputs": [
    {
     "name": "stdout",
     "output_type": "stream",
     "text": [
      "{0: 'Banana', 1: 'Limes', 2: 'Pineapple'}\n",
      "[0 0 0 ... 2 2 2]\n"
     ]
    }
   ],
   "source": [
    "id_to_labels = {i:v for i,v in enumerate(np.unique(labels))}\n",
    "print(id_to_labels)\n",
    "label_to_ids = {v:i for i,v in id_to_labels.items()}\n",
    "label_ids = np.array([label_to_ids[x] for x in labels])\n",
    "label_names = [v for i,v in id_to_labels.items()]\n",
    "print(label_ids)"
   ]
  },
  {
   "cell_type": "code",
   "execution_count": 87,
   "metadata": {},
   "outputs": [
    {
     "name": "stdout",
     "output_type": "stream",
     "text": [
      "(1470, 6075)\n"
     ]
    }
   ],
   "source": [
    "import numpy.linalg as la\n",
    "images = np.array([i.flatten() for i in fruits])\n",
    "print(images.shape)\n",
    "m = np.mean(images)\n",
    "im_bar = images - m"
   ]
  },
  {
   "cell_type": "code",
   "execution_count": 88,
   "metadata": {},
   "outputs": [
    {
     "data": {
      "text/plain": [
       "Text(0, 0.5, 'Y (log scale)')"
      ]
     },
     "execution_count": 88,
     "metadata": {},
     "output_type": "execute_result"
    },
    {
     "data": {
      "image/png": "[encoded data removed]",
      "text/plain": [
       "<Figure size 432x288 with 1 Axes>"
      ]
     },
     "metadata": {
      "needs_background": "light"
     },
     "output_type": "display_data"
    }
   ],
   "source": [
    "im_bar = im_bar.transpose()\n",
    "%matplotlib inline\n",
    "import matplotlib.pyplot as plt\n",
    "U,s,VT = la.svd(im_bar)\n",
    "fig = plt.figure()\n",
    "x = np.arange(s.shape[0])\n",
    "y = s\n",
    "ax = fig.add_subplot(111)\n",
    "plt.yscale('log')\n",
    "ax.scatter(x, y, c='c', marker='o')\n",
    "ax.set_title(\"Plot of singular values of Xbar\")\n",
    "ax.set_xlabel('X')\n",
    "ax.set_ylabel('Y (log scale)')"
   ]
  },
  {
   "cell_type": "code",
   "execution_count": 89,
   "metadata": {},
   "outputs": [
    {
     "name": "stdout",
     "output_type": "stream",
     "text": [
      "k is:  50\n"
     ]
    }
   ],
   "source": [
    "#im_bar = im_bar.transpose()\n",
    "#finding smallest k to encompass 90% of data\n",
    "s_sum = 0\n",
    "fnorm = la.norm(im_bar)**2\n",
    "\n",
    "k = 0\n",
    "for i in range(s.shape[0]):\n",
    "    s_sum = s_sum + s[i]**2\n",
    "    t = s_sum/fnorm\n",
    "    if(t >= 0.964):\n",
    "        k = i\n",
    "        break\n",
    "#top k principal components of Xbar\n",
    "\n",
    "print(\"k is: \",k)"
   ]
  },
  {
   "cell_type": "code",
   "execution_count": 100,
   "metadata": {},
   "outputs": [
    {
     "name": "stdout",
     "output_type": "stream",
     "text": [
      "(50, 1470)\n"
     ]
    },
    {
     "name": "stderr",
     "output_type": "stream",
     "text": [
      "Clipping input data to the valid range for imshow with RGB data ([0..1] for floats or [0..255] for integers).\n"
     ]
    },
    {
     "name": "stdout",
     "output_type": "stream",
     "text": [
      "(6075, 1470)\n"
     ]
    },
    {
     "data": {
      "text/plain": [
       "<matplotlib.image.AxesImage at 0x19027533278>"
      ]
     },
     "execution_count": 100,
     "metadata": {},
     "output_type": "execute_result"
    },
    {
     "data": {
      "image/png": "[encoded data removed]",
      "text/plain": [
       "<Figure size 432x288 with 1 Axes>"
      ]
     },
     "metadata": {
      "needs_background": "light"
     },
     "output_type": "display_data"
    }
   ],
   "source": [
    "Uk = U[:,0:k]\n",
    "features = Uk.transpose()@im_bar\n",
    "print(features.shape)\n",
    "recon = Uk@Uk.transpose()@im_bar\n",
    "print(recon.shape)\n",
    "r = np.random.randint(0,im_bar.shape[1])\n",
    "img = np.reshape(recon[:,r],(45,45,3))\n",
    "plt.imshow(img)"
   ]
  },
  {
   "cell_type": "markdown",
   "metadata": {},
   "source": [
    "### Sklearn PCA"
   ]
  },
  {
   "cell_type": "code",
   "execution_count": 59,
   "metadata": {},
   "outputs": [
    {
     "name": "stdout",
     "output_type": "stream",
     "text": [
      "(1470, 6075)\n"
     ]
    }
   ],
   "source": [
    "scaler = StandardScaler()\n",
    "images_scaled = scaler.fit_transform([i.flatten() for i in fruits])\n",
    "print(images_scaled.shape)\n",
    "pca = PCA(n_components=50)\n",
    "pca_result = pca.fit_transform(images_scaled)"
   ]
  },
  {
   "cell_type": "code",
   "execution_count": 60,
   "metadata": {},
   "outputs": [
    {
     "name": "stdout",
     "output_type": "stream",
     "text": [
      "(1470, 50)\n"
     ]
    }
   ],
   "source": [
    "print(pca_result.shape)"
   ]
  },
  {
   "cell_type": "code",
   "execution_count": 104,
   "metadata": {},
   "outputs": [
    {
     "name": "stdout",
     "output_type": "stream",
     "text": [
      "(1470, 2)\n"
     ]
    },
    {
     "data": {
      "image/png": "[encoded data removed]",
      "text/plain": [
       "<Figure size 576x432 with 1 Axes>"
      ]
     },
     "metadata": {
      "needs_background": "light"
     },
     "output_type": "display_data"
    }
   ],
   "source": [
    "tsne = TSNE(n_components=2, perplexity=40.0)\n",
    "tsne_result = tsne.fit_transform(pca_result)\n",
    "tsne_result_scaled = StandardScaler().fit_transform(tsne_result)\n",
    "print(tsne_result_scaled.shape)\n",
    "\n",
    "fig = plt.figure(figsize=(8,6))\n",
    "\n",
    "ax = fig.add_subplot(111)\n",
    "\n",
    "for i in range(tsne_result_scaled.shape[0]):\n",
    "    if (label_ids[i]==0):\n",
    "        zerop = ax.scatter(tsne_result_scaled[i][0], tsne_result_scaled[i][1], c='y', marker='o')\n",
    "    if (label_ids[i]==1):\n",
    "        onep = ax.scatter(tsne_result_scaled[i][0], tsne_result_scaled[i][1], c='g', marker='o')\n",
    "    if (label_ids[i]==2):\n",
    "        twop = ax.scatter(tsne_result_scaled[i][0], tsne_result_scaled[i][1], c='r', marker='o')\n",
    "ax.set_title(\"Plot of PCA Result\")\n",
    "ax.set_xlabel('')\n",
    "ax.set_ylabel('')\n",
    "ax.legend([zerop,onep,twop], [\"Banana\",\"Limes\",\"Pineapple\"],loc=3)\n",
    "plt.show()"
   ]
  },
  {
   "cell_type": "code",
   "execution_count": 113,
   "metadata": {},
   "outputs": [],
   "source": [
    "X_train, X_test, y_train, y_test = train_test_split(pca_result, label_ids, test_size=0.25, random_state=42)"
   ]
  },
  {
   "cell_type": "code",
   "execution_count": 114,
   "metadata": {},
   "outputs": [],
   "source": [
    "svm_clf = svm.SVC(gamma='scale')\n",
    "svm_clf = svm_clf.fit(X_train, y_train) "
   ]
  },
  {
   "cell_type": "code",
   "execution_count": 115,
   "metadata": {},
   "outputs": [],
   "source": [
    "test_predictions = svm_clf.predict(X_test)"
   ]
  },
  {
   "cell_type": "code",
   "execution_count": 116,
   "metadata": {},
   "outputs": [
    {
     "name": "stdout",
     "output_type": "stream",
     "text": [
      "Accuracy with SVM: 99.728261\n"
     ]
    }
   ],
   "source": [
    "precision = accuracy_score(test_predictions, y_test) * 100\n",
    "print(\"Accuracy with SVM: {0:.6f}\".format(precision))"
   ]
  },
  {
   "cell_type": "code",
   "execution_count": 120,
   "metadata": {},
   "outputs": [
    {
     "name": "stdout",
     "output_type": "stream",
     "text": [
      "              precision    recall  f1-score   support\n",
      "\n",
      "      Banana       1.00      0.99      1.00       125\n",
      "       Limes       1.00      1.00      1.00       117\n",
      "   Pineapple       0.99      1.00      1.00       126\n",
      "\n",
      "   micro avg       1.00      1.00      1.00       368\n",
      "   macro avg       1.00      1.00      1.00       368\n",
      "weighted avg       1.00      1.00      1.00       368\n",
      "\n",
      "[[124   0   1]\n",
      " [  0 117   0]\n",
      " [  0   0 126]]\n"
     ]
    }
   ],
   "source": [
    "from sklearn.metrics import classification_report\n",
    "from sklearn.metrics import confusion_matrix\n",
    "print(classification_report(test_predictions, y_test,target_names=label_names))\n",
    "print(confusion_matrix(test_predictions, y_test, labels=range(3)))"
   ]
  },
  {
   "cell_type": "code",
   "execution_count": null,
   "metadata": {},
   "outputs": [],
   "source": []
  }
 ],
 "metadata": {
  "kernelspec": {
   "display_name": "Python 3",
   "language": "python",
   "name": "python3"
  },
  "language_info": {
   "codemirror_mode": {
    "name": "ipython",
    "version": 3
   },
   "file_extension": ".py",
   "mimetype": "text/x-python",
   "name": "python",
   "nbconvert_exporter": "python",
   "pygments_lexer": "ipython3",
   "version": "3.6.5"
  }
 },
 "nbformat": 4,
 "nbformat_minor": 2
}
