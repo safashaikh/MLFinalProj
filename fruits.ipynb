{
 "cells": [
  {
   "cell_type": "markdown",
   "metadata": {},
   "source": [
    "# Fruits Dataset"
   ]
  },
  {
   "cell_type": "markdown",
   "metadata": {},
   "source": [
    "This dataset contains images of various fruits. Our objective is to be able to build a classifier that can recognize a fruit, given its image. For this exercise, we have chosen 3 fruits: Banana, Limes, and Pineapple. We will employ 3 methods of classification: Support Vector Machines (SVM), Logistic Regression, and Classification Trees"
   ]
  },
  {
   "cell_type": "markdown",
   "metadata": {},
   "source": [
    "### _Extract Data_"
   ]
  },
  {
   "cell_type": "code",
   "execution_count": 129,
   "metadata": {},
   "outputs": [],
   "source": [
    "import os\n",
    "import numpy as np\n",
    "import glob\n",
    "import cv2\n",
    "from sklearn.decomposition import PCA\n",
    "from sklearn.manifold import TSNE\n",
    "from sklearn.preprocessing import StandardScaler\n",
    "from sklearn.ensemble import RandomForestClassifier\n",
    "from sklearn.model_selection import train_test_split\n",
    "from sklearn.metrics import accuracy_score\n",
    "from sklearn import svm"
   ]
  },
  {
   "cell_type": "markdown",
   "metadata": {},
   "source": [
    "Extract images from Training folder and convert and resize each image to a $45\\times45\\times3$ sized numpy array. Record the labels for each image."
   ]
  },
  {
   "cell_type": "code",
   "execution_count": 130,
   "metadata": {},
   "outputs": [
    {
     "name": "stdout",
     "output_type": "stream",
     "text": [
      "(1470, 45, 45, 3) (1470,)\n",
      "['Banana' 'Banana' 'Banana' ... 'Pineapple' 'Pineapple' 'Pineapple']\n"
     ]
    }
   ],
   "source": [
    "fruits = []\n",
    "labels = [] \n",
    "fruits_f = []\n",
    "for fruit_dir in glob.glob(\"fruits/Training/*\"):\n",
    "    fruit_dir = fruit_dir.replace('\\\\', '/')\n",
    "    fruit_label = fruit_dir.split(\"/\")[-1]\n",
    "    for img in glob.glob(os.path.join(fruit_dir, \"*.jpg\")):\n",
    "        img = cv2.imread(img, cv2.IMREAD_COLOR)\n",
    "        \n",
    "        img = cv2.resize(img, (45, 45))\n",
    "        img = cv2.cvtColor(img, cv2.COLOR_RGB2BGR)\n",
    "        imgf = np.reshape(img,(45*45,3))\n",
    "        fruits.append(img)\n",
    "        fruits_f.append(imgf)\n",
    "        labels.append(fruit_label)\n",
    "fruits = np.array(fruits)\n",
    "labels = np.array(labels)\n",
    "fruits_f = np.array(fruits_f)\n",
    "print(fruits.shape,labels.shape)\n",
    "print(labels)"
   ]
  },
  {
   "cell_type": "markdown",
   "metadata": {},
   "source": [
    "Our labels are string values and we need to assign numeric IDs to every class. Here, $Banana = 0$, $Limes = 1$, and $Pineapple = 2$."
   ]
  },
  {
   "cell_type": "code",
   "execution_count": 131,
   "metadata": {},
   "outputs": [
    {
     "name": "stdout",
     "output_type": "stream",
     "text": [
      "{0: 'Banana', 1: 'Limes', 2: 'Pineapple'}\n",
      "[0 0 0 ... 2 2 2]\n"
     ]
    }
   ],
   "source": [
    "id_to_labels = {i:v for i,v in enumerate(np.unique(labels))}\n",
    "print(id_to_labels)\n",
    "label_to_ids = {v:i for i,v in id_to_labels.items()}\n",
    "label_ids = np.array([label_to_ids[x] for x in labels])\n",
    "label_names = [v for i,v in id_to_labels.items()]\n",
    "print(label_ids)"
   ]
  },
  {
   "cell_type": "markdown",
   "metadata": {},
   "source": [
    "Flatten each image and mean-center so we can easily manipulate the data for PCA and future processing."
   ]
  },
  {
   "cell_type": "code",
   "execution_count": 132,
   "metadata": {},
   "outputs": [
    {
     "name": "stdout",
     "output_type": "stream",
     "text": [
      "(1470, 6075)\n"
     ]
    }
   ],
   "source": [
    "import numpy.linalg as la\n",
    "images = np.array([i.flatten() for i in fruits])\n",
    "print(images.shape)\n",
    "m = np.mean(images)\n",
    "im_bar = images - m"
   ]
  },
  {
   "cell_type": "code",
   "execution_count": 133,
   "metadata": {},
   "outputs": [
    {
     "data": {
      "text/plain": [
       "Text(0,0.5,'Y (log scale)')"
      ]
     },
     "execution_count": 133,
     "metadata": {},
     "output_type": "execute_result"
    },
    {
     "data": {
      "image/png": "[encoded data removed]",
      "text/plain": [
       "<Figure size 432x288 with 1 Axes>"
      ]
     },
     "metadata": {},
     "output_type": "display_data"
    }
   ],
   "source": [
    "im_bar = im_bar.transpose() # so data is in M x N form\n",
    "%matplotlib inline\n",
    "import matplotlib.pyplot as plt\n",
    "U,s,VT = la.svd(im_bar)\n",
    "fig = plt.figure()\n",
    "x = np.arange(s.shape[0])\n",
    "y = s\n",
    "ax = fig.add_subplot(111)\n",
    "plt.yscale('log')\n",
    "ax.scatter(x, y, c='c', marker='o')\n",
    "ax.set_title(\"Plot of singular values of Imbar\")\n",
    "ax.set_xlabel('X')\n",
    "ax.set_ylabel('Y (log scale)')"
   ]
  },
  {
   "cell_type": "markdown",
   "metadata": {},
   "source": [
    "Find the top k components that encompass most of the data."
   ]
  },
  {
   "cell_type": "code",
   "execution_count": 134,
   "metadata": {},
   "outputs": [
    {
     "name": "stdout",
     "output_type": "stream",
     "text": [
      "k is:  51\n"
     ]
    }
   ],
   "source": [
    "#im_bar = im_bar.transpose()\n",
    "#finding smallest k to encompass 90% of data\n",
    "s_sum = 0\n",
    "fnorm = la.norm(im_bar)**2\n",
    "\n",
    "k = 0\n",
    "for i in range(s.shape[0]):\n",
    "    s_sum = s_sum + s[i]**2\n",
    "    t = s_sum/fnorm\n",
    "    if(t >= 0.964):\n",
    "        k = i\n",
    "        break\n",
    "#top k principal components of Xbar\n",
    "\n",
    "print(\"k is: \",k)"
   ]
  },
  {
   "cell_type": "markdown",
   "metadata": {},
   "source": [
    "Compute features and reconstruct data from principal components. Display a random image from the reconstructed data to check if the data construction matches the overall structure of a fruit."
   ]
  },
  {
   "cell_type": "code",
   "execution_count": 135,
   "metadata": {},
   "outputs": [
    {
     "name": "stdout",
     "output_type": "stream",
     "text": [
      "(51, 1470)\n"
     ]
    },
    {
     "name": "stderr",
     "output_type": "stream",
     "text": [
      "Clipping input data to the valid range for imshow with RGB data ([0..1] for floats or [0..255] for integers).\n"
     ]
    },
    {
     "name": "stdout",
     "output_type": "stream",
     "text": [
      "(6075, 1470)\n"
     ]
    },
    {
     "data": {
      "text/plain": [
       "<matplotlib.image.AxesImage at 0x21e05e1e198>"
      ]
     },
     "execution_count": 135,
     "metadata": {},
     "output_type": "execute_result"
    },
    {
     "data": {
      "image/png": "[encoded data removed]",
      "text/plain": [
       "<Figure size 432x288 with 1 Axes>"
      ]
     },
     "metadata": {},
     "output_type": "display_data"
    }
   ],
   "source": [
    "Uk = U[:,0:k]\n",
    "features = Uk.transpose()@im_bar\n",
    "print(features.shape)\n",
    "recon = Uk@Uk.transpose()@im_bar\n",
    "print(recon.shape)\n",
    "r = np.random.randint(0,im_bar.shape[1])\n",
    "img = np.reshape(recon[:,r],(45,45,3))\n",
    "plt.imshow(img)"
   ]
  },
  {
   "cell_type": "markdown",
   "metadata": {},
   "source": [
    "### Sklearn PCA"
   ]
  },
  {
   "cell_type": "markdown",
   "metadata": {},
   "source": [
    "Sklearn also has it's own pca function. We use it for consistency with sklearn's methods."
   ]
  },
  {
   "cell_type": "code",
   "execution_count": 136,
   "metadata": {},
   "outputs": [
    {
     "name": "stdout",
     "output_type": "stream",
     "text": [
      "(1470, 6075)\n"
     ]
    }
   ],
   "source": [
    "scaler = StandardScaler()\n",
    "images_scaled = scaler.fit_transform([i.flatten() for i in fruits])\n",
    "print(images_scaled.shape)\n",
    "pca = PCA(n_components=50)\n",
    "pca_result = pca.fit_transform(images_scaled)"
   ]
  },
  {
   "cell_type": "code",
   "execution_count": 137,
   "metadata": {},
   "outputs": [
    {
     "name": "stdout",
     "output_type": "stream",
     "text": [
      "(1470, 50)\n"
     ]
    }
   ],
   "source": [
    "print(pca_result.shape) # confirm (1470 x 50)"
   ]
  },
  {
   "cell_type": "markdown",
   "metadata": {},
   "source": [
    "In order to plot the result of the PCA, we need to be able to view a 50-dimensional data point in 2 dimensions. TSNE is function in sklearn (called t-distributed Stochastic Neighbor Embedding) that allows you to reduce dimensionality. Making the data 2D will allow us to see if all classes are relatively disjoint (SVM likely to succeed) or if the classes overlap (SVM likely to have errors)."
   ]
  },
  {
   "cell_type": "code",
   "execution_count": 138,
   "metadata": {},
   "outputs": [
    {
     "name": "stdout",
     "output_type": "stream",
     "text": [
      "(1470, 2)\n"
     ]
    },
    {
     "data": {
      "image/png": "[encoded data removed]",
      "text/plain": [
       "<Figure size 576x432 with 1 Axes>"
      ]
     },
     "metadata": {},
     "output_type": "display_data"
    }
   ],
   "source": [
    "tsne = TSNE(n_components=2, perplexity=40.0)\n",
    "tsne_result = tsne.fit_transform(pca_result)\n",
    "tsne_result_scaled = StandardScaler().fit_transform(tsne_result)\n",
    "print(tsne_result_scaled.shape)\n",
    "\n",
    "fig = plt.figure(figsize=(8,6))\n",
    "\n",
    "ax = fig.add_subplot(111)\n",
    "\n",
    "for i in range(tsne_result_scaled.shape[0]):\n",
    "    if (label_ids[i]==0):\n",
    "        zerop = ax.scatter(tsne_result_scaled[i][0], tsne_result_scaled[i][1], c='y', marker='o')\n",
    "    if (label_ids[i]==1):\n",
    "        onep = ax.scatter(tsne_result_scaled[i][0], tsne_result_scaled[i][1], c='g', marker='o')\n",
    "    if (label_ids[i]==2):\n",
    "        twop = ax.scatter(tsne_result_scaled[i][0], tsne_result_scaled[i][1], c='r', marker='o')\n",
    "ax.set_title(\"Plot of PCA Result\")\n",
    "ax.set_xlabel('')\n",
    "ax.set_ylabel('')\n",
    "ax.legend([zerop,onep,twop], [\"Banana\",\"Limes\",\"Pineapple\"],loc=3)\n",
    "plt.show()"
   ]
  },
  {
   "cell_type": "markdown",
   "metadata": {},
   "source": [
    "## Split into Training and Test Data"
   ]
  },
  {
   "cell_type": "code",
   "execution_count": 139,
   "metadata": {},
   "outputs": [],
   "source": [
    "X_train, X_test, y_train, y_test = train_test_split(pca_result, label_ids, test_size=0.25, random_state=42)"
   ]
  },
  {
   "cell_type": "markdown",
   "metadata": {},
   "source": [
    "### Train Model using SVM"
   ]
  },
  {
   "cell_type": "code",
   "execution_count": 140,
   "metadata": {},
   "outputs": [],
   "source": [
    "svm_clf = svm.SVC()\n",
    "svm_clf = svm_clf.fit(X_train, y_train) "
   ]
  },
  {
   "cell_type": "code",
   "execution_count": 141,
   "metadata": {},
   "outputs": [],
   "source": [
    "test_predictions = svm_clf.predict(X_test)"
   ]
  },
  {
   "cell_type": "code",
   "execution_count": 142,
   "metadata": {},
   "outputs": [
    {
     "name": "stdout",
     "output_type": "stream",
     "text": [
      "Training Accuracy with SVM: 94.293478\n"
     ]
    }
   ],
   "source": [
    "precision = accuracy_score(test_predictions, y_test) * 100\n",
    "print(\"Training Accuracy with SVM: {0:.6f}\".format(precision))"
   ]
  },
  {
   "cell_type": "code",
   "execution_count": 143,
   "metadata": {},
   "outputs": [
    {
     "name": "stdout",
     "output_type": "stream",
     "text": [
      "             precision    recall  f1-score   support\n",
      "\n",
      "     Banana       0.83      1.00      0.91       103\n",
      "      Limes       1.00      1.00      1.00       117\n",
      "  Pineapple       1.00      0.86      0.92       148\n",
      "\n",
      "avg / total       0.95      0.94      0.94       368\n",
      "\n",
      "[[103   0   0]\n",
      " [  0 117   0]\n",
      " [ 21   0 127]]\n"
     ]
    }
   ],
   "source": [
    "from sklearn.metrics import classification_report\n",
    "from sklearn.metrics import confusion_matrix\n",
    "print(classification_report(test_predictions, y_test,target_names=label_names))\n",
    "print(confusion_matrix(test_predictions, y_test, labels=range(3)))"
   ]
  },
  {
   "cell_type": "markdown",
   "metadata": {},
   "source": [
    "### Test SVM Model on Validation Data"
   ]
  },
  {
   "cell_type": "code",
   "execution_count": 144,
   "metadata": {},
   "outputs": [
    {
     "name": "stdout",
     "output_type": "stream",
     "text": [
      "(498, 45, 45, 3) (498,)\n"
     ]
    }
   ],
   "source": [
    "val_fruits = []\n",
    "val_labels = [] \n",
    "val_fruits_f = []\n",
    "for fruit_dir in glob.glob(\"fruits/Test/*\"):\n",
    "    fruit_dir = fruit_dir.replace('\\\\', '/')\n",
    "    fruit_label = fruit_dir.split(\"/\")[-1]\n",
    "    for img in glob.glob(os.path.join(fruit_dir, \"*.jpg\")):\n",
    "        img = cv2.imread(img, cv2.IMREAD_COLOR)\n",
    "        \n",
    "        img = cv2.resize(img, (45, 45))\n",
    "        img = cv2.cvtColor(img, cv2.COLOR_RGB2BGR)\n",
    "        imgf = np.reshape(img,(45*45,3))\n",
    "        val_fruits.append(img)\n",
    "        val_fruits_f.append(imgf)\n",
    "        val_labels.append(fruit_label)\n",
    "val_fruits = np.array(val_fruits)\n",
    "val_labels = np.array(val_labels)\n",
    "val_fruits_f = np.array(val_fruits_f)\n",
    "print(val_fruits.shape,val_labels.shape)"
   ]
  },
  {
   "cell_type": "code",
   "execution_count": 145,
   "metadata": {},
   "outputs": [
    {
     "name": "stdout",
     "output_type": "stream",
     "text": [
      "(498, 50)\n"
     ]
    }
   ],
   "source": [
    "val_label_ids = np.array([label_to_ids[i] for i in val_labels])\n",
    "val_images_scaled = scaler.transform([i.flatten() for i in val_fruits])\n",
    "val_pca_res = pca.transform(val_images_scaled)\n",
    "print(val_pca_res.shape)"
   ]
  },
  {
   "cell_type": "code",
   "execution_count": 146,
   "metadata": {},
   "outputs": [
    {
     "name": "stdout",
     "output_type": "stream",
     "text": [
      "(498, 2)\n"
     ]
    },
    {
     "data": {
      "image/png": "[encoded data removed]",
      "text/plain": [
       "<Figure size 576x432 with 1 Axes>"
      ]
     },
     "metadata": {},
     "output_type": "display_data"
    }
   ],
   "source": [
    "tsne = TSNE(n_components=2, perplexity=40.0)\n",
    "tsne_result = tsne.fit_transform(val_pca_res)\n",
    "tsne_result_scaled = StandardScaler().fit_transform(tsne_result)\n",
    "print(tsne_result_scaled.shape)\n",
    "\n",
    "fig = plt.figure(figsize=(8,6))\n",
    "\n",
    "ax = fig.add_subplot(111)\n",
    "\n",
    "for i in range(tsne_result_scaled.shape[0]):\n",
    "    if (val_label_ids[i]==0):\n",
    "        zerop = ax.scatter(tsne_result_scaled[i][0], tsne_result_scaled[i][1], c='y', marker='o')\n",
    "    if (val_label_ids[i]==1):\n",
    "        onep = ax.scatter(tsne_result_scaled[i][0], tsne_result_scaled[i][1], c='g', marker='o')\n",
    "    if (val_label_ids[i]==2):\n",
    "        twop = ax.scatter(tsne_result_scaled[i][0], tsne_result_scaled[i][1], c='r', marker='o')\n",
    "ax.set_title(\"Plot of PCA Result\")\n",
    "ax.set_xlabel('')\n",
    "ax.set_ylabel('')\n",
    "ax.legend([zerop,onep,twop], [\"Banana\",\"Limes\",\"Pineapple\"],loc=3)\n",
    "plt.show()"
   ]
  },
  {
   "cell_type": "code",
   "execution_count": 147,
   "metadata": {},
   "outputs": [],
   "source": [
    "test_predictions = svm_clf.predict(val_pca_res)"
   ]
  },
  {
   "cell_type": "code",
   "execution_count": 148,
   "metadata": {},
   "outputs": [
    {
     "name": "stdout",
     "output_type": "stream",
     "text": [
      "Validation Accuracy with SVM: 64.056225\n"
     ]
    }
   ],
   "source": [
    "precision = accuracy_score(test_predictions, val_label_ids) * 100\n",
    "print(\"Validation Accuracy with SVM: {0:.6f}\".format(precision))"
   ]
  },
  {
   "cell_type": "markdown",
   "metadata": {},
   "source": [
    "# Logistic Regression"
   ]
  },
  {
   "cell_type": "code",
   "execution_count": 149,
   "metadata": {},
   "outputs": [],
   "source": [
    "from sklearn.linear_model import LogisticRegressionCV\n",
    "from sklearn.metrics import confusion_matrix,precision_recall_curve,auc,roc_auc_score,roc_curve,recall_score,classification_report "
   ]
  },
  {
   "cell_type": "markdown",
   "metadata": {},
   "source": [
    "## Binary Logistic Regression"
   ]
  },
  {
   "cell_type": "code",
   "execution_count": 150,
   "metadata": {},
   "outputs": [],
   "source": [
    "import itertools\n",
    "B= '\\033[1m'\n",
    "E= '\\033[0m'\n",
    "\n",
    "## Define function to plot matrix based on:\n",
    "## [[True Non, False Fraud],[False Non, True Fraud]]\n",
    "\n",
    "def plot_confusion_matrix(cm, title = 'Confusion Matrix'):\n",
    "    \n",
    "    plt.figure()\n",
    "    plt.imshow(cm, interpolation='nearest', cmap=plt.cm.PuBuGn)\n",
    "    plt.title(title)\n",
    "    tick_marks = np.arange(len([0,1]))\n",
    "    plt.xticks(tick_marks, [\"Banana {0}\",\"Lime {1}\"], rotation=0)\n",
    "    plt.yticks(tick_marks, [\"Banana {0}\",\"Lime {1}\"])\n",
    "    plt.xlabel('Predicted label')\n",
    "    plt.ylabel('True label')\n",
    "    plt.colorbar()\n",
    "    \n",
    "    thresh = cm.max() / 2.\n",
    "    for i, j in itertools.product(range(cm.shape[0]), range(cm.shape[1])):\n",
    "        plt.text(j, i, cm[i, j],\n",
    "                 horizontalalignment=\"center\",\n",
    "                 color=\"white\" if cm[i, j] > thresh else \"black\")\n",
    "    plt.show()\n",
    "    print(B+\"Matrix Recall: \"+E+ str(cm[1,1]/(cm[1,0] + cm[1,1])*100) +\" %\")\n",
    "    print(B+\"Matrix Precision: \"+E+ str(cm[1,1]/(cm[1,1] + cm[0,1])*100) +\" %\")\n",
    "    \n",
    "def plot_confusion_matrix2(cm, title = 'Confusion Matrix'):\n",
    "    \n",
    "    plt.figure()\n",
    "    plt.imshow(cm, interpolation='nearest', cmap=plt.cm.PuBuGn)\n",
    "    plt.title(title)\n",
    "    tick_marks = np.arange(3)\n",
    "    plt.xticks(tick_marks, [\"Banana {0}\",\"Lime {1}\", \"Pineapple {2}\"], rotation=0)\n",
    "    plt.yticks(tick_marks, [\"Banana {0}\",\"Lime {1}\", \"Pineapple {2}\"])\n",
    "    plt.xlabel('Predicted label')\n",
    "    plt.ylabel('True label')\n",
    "    plt.colorbar()\n",
    "    \n",
    "    thresh = cm.max() / 2.\n",
    "    for i, j in itertools.product(range(cm.shape[0]), range(cm.shape[1])):\n",
    "        plt.text(j, i, cm[i, j],\n",
    "                 horizontalalignment=\"center\",\n",
    "                 color=\"white\" if cm[i, j] > thresh else \"black\")\n",
    "    plt.show()\n",
    "    #print(B+\"Matrix Recall: \"+E+ str(cm[1,1]/(cm[1,0] + cm[1,1])*100) +\" %\")\n",
    "    #print(B+\"Matrix Precision: \"+E+ str(cm[1,1]/(cm[1,1] + cm[0,1])*100) +\" %\")"
   ]
  },
  {
   "cell_type": "code",
   "execution_count": 151,
   "metadata": {},
   "outputs": [
    {
     "name": "stdout",
     "output_type": "stream",
     "text": [
      "Accuracy with LogisticRegressionCV: 100.000000\n"
     ]
    },
    {
     "data": {
      "image/png": "[encoded data removed]",
      "text/plain": [
       "<Figure size 432x288 with 2 Axes>"
      ]
     },
     "metadata": {},
     "output_type": "display_data"
    },
    {
     "name": "stdout",
     "output_type": "stream",
     "text": [
      "\u001b[1mMatrix Recall: \u001b[0m100.0 %\n",
      "\u001b[1mMatrix Precision: \u001b[0m100.0 %\n"
     ]
    }
   ],
   "source": [
    "two_classes = []\n",
    "two_classes_id = []\n",
    "for i in range(0, label_ids.shape[0]):\n",
    "    if(label_ids[i]!=2):\n",
    "        two_classes.append(pca_result[i,:])\n",
    "        two_classes_id.append(label_ids[i])\n",
    "two_classes_id = np.array(two_classes_id)\n",
    "two_classes = np.array(two_classes)\n",
    "\n",
    "X_train, X_test, y_train, y_test = train_test_split(two_classes, two_classes_id, test_size=0.25, random_state=42)\n",
    "clf = LogisticRegressionCV(cv=5, random_state=0).fit(X_train, y_train)\n",
    "predictions = clf.predict(X_test)\n",
    "\n",
    "precision = accuracy_score(predictions, y_test) * 100\n",
    "print(\"Accuracy with LogisticRegressionCV: {0:.6f}\".format(precision))\n",
    "\n",
    "# Compute confusion matrix\n",
    "cnf_matrix = confusion_matrix(y_test,predictions)\n",
    "np.set_printoptions(precision=2)\n",
    "\n",
    "# Plot non-normalized confusion matrix\n",
    "\n",
    "plot_confusion_matrix(cnf_matrix)"
   ]
  },
  {
   "cell_type": "markdown",
   "metadata": {},
   "source": [
    "## Multi-class Logisitic Regression"
   ]
  },
  {
   "cell_type": "code",
   "execution_count": 152,
   "metadata": {},
   "outputs": [
    {
     "name": "stdout",
     "output_type": "stream",
     "text": [
      "Accuracy with LogisticRegressionCV: 100.000000\n"
     ]
    },
    {
     "data": {
      "image/png": "[encoded data removed]",
      "text/plain": [
       "<Figure size 432x288 with 2 Axes>"
      ]
     },
     "metadata": {},
     "output_type": "display_data"
    },
    {
     "name": "stdout",
     "output_type": "stream",
     "text": [
      "             precision    recall  f1-score   support\n",
      "\n",
      "     Banana       1.00      1.00      1.00       124\n",
      "      Limes       1.00      1.00      1.00       117\n",
      "  Pineapple       1.00      1.00      1.00       127\n",
      "\n",
      "avg / total       1.00      1.00      1.00       368\n",
      "\n"
     ]
    }
   ],
   "source": [
    "X_train, X_test, y_train, y_test = train_test_split(pca_result, label_ids, test_size=0.25, random_state=42)\n",
    "clf = LogisticRegressionCV(cv=5, random_state=0, multi_class='multinomial').fit(X_train, y_train)\n",
    "predictions = clf.predict(X_test)\n",
    "\n",
    "precision = accuracy_score(predictions, y_test) * 100\n",
    "print(\"Accuracy with LogisticRegressionCV: {0:.6f}\".format(precision))\n",
    "\n",
    "# Compute confusion matrix\n",
    "cnf_matrix = confusion_matrix(y_test,predictions)\n",
    "np.set_printoptions(precision=2)\n",
    "\n",
    "# Plot non-normalized confusion matrix\n",
    "\n",
    "plot_confusion_matrix2(cnf_matrix)\n",
    "print(classification_report(predictions, y_test,target_names=label_names))"
   ]
  },
  {
   "cell_type": "markdown",
   "metadata": {},
   "source": [
    "# Classification Trees"
   ]
  },
  {
   "cell_type": "markdown",
   "metadata": {},
   "source": [
    "We use Sklearn's DecisionTreeClassifier, which defaults to using the gini index as a metric for measuring variance. \n",
    "Initially we will randomly choose a training and test split."
   ]
  },
  {
   "cell_type": "code",
   "execution_count": 167,
   "metadata": {},
   "outputs": [],
   "source": [
    "from sklearn.tree import DecisionTreeClassifier\n",
    "import numpy.linalg as LA\n",
    "DT = DecisionTreeClassifier(random_state=0)\n",
    "X_train, X_test, y_train, y_test = train_test_split(pca_result, label_ids, test_size=0.25, random_state=42)"
   ]
  },
  {
   "cell_type": "markdown",
   "metadata": {},
   "source": [
    "Fit the model to training data."
   ]
  },
  {
   "cell_type": "code",
   "execution_count": 168,
   "metadata": {},
   "outputs": [
    {
     "name": "stdout",
     "output_type": "stream",
     "text": [
      "Accuracy with Classification Trees: 99.456522\n"
     ]
    },
    {
     "data": {
      "image/png": "[encoded data removed]",
      "text/plain": [
       "<Figure size 432x288 with 2 Axes>"
      ]
     },
     "metadata": {},
     "output_type": "display_data"
    },
    {
     "name": "stdout",
     "output_type": "stream",
     "text": [
      "             precision    recall  f1-score   support\n",
      "\n",
      "     Banana       0.98      1.00      0.99       122\n",
      "      Limes       1.00      1.00      1.00       117\n",
      "  Pineapple       1.00      0.98      0.99       129\n",
      "\n",
      "avg / total       0.99      0.99      0.99       368\n",
      "\n"
     ]
    }
   ],
   "source": [
    "DT.fit(X_train,y_train)\n",
    "y_pred = DT.predict(X_test)\n",
    "precision = accuracy_score(y_pred, y_test) * 100\n",
    "print(\"Accuracy with Classification Trees: {0:.6f}\".format(precision))\n",
    "\n",
    "# Compute confusion matrix\n",
    "cnf_matrix = confusion_matrix(y_test,y_pred)\n",
    "np.set_printoptions(precision=2)\n",
    "\n",
    "# Plot non-normalized confusion matrix\n",
    "\n",
    "plot_confusion_matrix2(cnf_matrix)\n",
    "\n",
    "print(classification_report(y_pred, y_test,target_names=label_names))"
   ]
  },
  {
   "cell_type": "markdown",
   "metadata": {},
   "source": [
    "Notice we have a 99.46% accuracy on this random test/train split. Let's find the optimal split using K-fold Cross Validation. Create a function for a Decision Tree Classifier."
   ]
  },
  {
   "cell_type": "code",
   "execution_count": 169,
   "metadata": {},
   "outputs": [],
   "source": [
    "def DTClassifier(X_train,X_test,y_train,y_test):\n",
    "    DT = DecisionTreeClassifier(random_state=0)\n",
    "    DT.fit(X_train,y_train)\n",
    "    y_pred = DT.predict(X_test)\n",
    "    precision = accuracy_score(y_pred, y_test) * 100\n",
    "    print(\"Accuracy with Classification Trees: {0:.6f}\".format(precision))\n",
    "    return precision"
   ]
  },
  {
   "cell_type": "code",
   "execution_count": 170,
   "metadata": {},
   "outputs": [
    {
     "name": "stdout",
     "output_type": "stream",
     "text": [
      "KFold(n_splits=3, random_state=None, shuffle=True)\n"
     ]
    }
   ],
   "source": [
    "from sklearn.model_selection import KFold\n",
    "X = pca_result\n",
    "y = label_ids\n",
    "kf = KFold(n_splits=3, shuffle=True)\n",
    "kf.get_n_splits(X)\n",
    "print(kf)\n",
    "X_tr_l = []\n",
    "X_test_l = []\n",
    "y_tr_l = []\n",
    "y_test_l = []\n",
    "for train_index, test_index in kf.split(X):\n",
    "    #print(\"TRAIN:\", train_index, \"TEST:\", test_index)\n",
    "    X_train, X_test = X[train_index], X[test_index]\n",
    "    y_train, y_test = y[train_index], y[test_index]\n",
    "    X_tr_l.append(X_train)\n",
    "    X_test_l.append(X_test)\n",
    "    y_tr_l.append(y_train)\n",
    "    y_test_l.append(y_test)"
   ]
  },
  {
   "cell_type": "markdown",
   "metadata": {},
   "source": [
    "After creating our 3 sets of 3-fold test/train data, we can run fit our classifier to each of the 3 training sets and see which training set performs with the highest accuracy and save the set."
   ]
  },
  {
   "cell_type": "code",
   "execution_count": 171,
   "metadata": {},
   "outputs": [
    {
     "name": "stdout",
     "output_type": "stream",
     "text": [
      "Accuracy with Classification Trees: 100.000000\n",
      "running\n",
      "Accuracy with Classification Trees: 99.387755\n",
      "running\n",
      "Accuracy with Classification Trees: 98.979592\n",
      "running\n",
      "Best fold is:  1\n"
     ]
    }
   ],
   "source": [
    "accuracy = []\n",
    "for i in range(len(X_tr_l)):\n",
    "    accuracy.append(DTClassifier(X_tr_l[i],X_test_l[i],y_tr_l[i],y_test_l[i]))\n",
    "    print(\"running\")\n",
    "idx = np.argmax(accuracy)\n",
    "X_train = X_tr_l[idx]\n",
    "X_test = X_test_l[idx]\n",
    "y_train = y_tr_l[idx]\n",
    "y_test= y_test_l[idx]\n",
    "#print(X_train.shape,X_test.shape)\n",
    "print(\"Best fold is: \",idx+1)"
   ]
  },
  {
   "cell_type": "code",
   "execution_count": 172,
   "metadata": {},
   "outputs": [
    {
     "name": "stdout",
     "output_type": "stream",
     "text": [
      "Accuracy with Classification Tree: 100.000000\n"
     ]
    },
    {
     "data": {
      "image/png": "[encoded data removed]",
      "text/plain": [
       "<Figure size 432x288 with 2 Axes>"
      ]
     },
     "metadata": {},
     "output_type": "display_data"
    },
    {
     "name": "stdout",
     "output_type": "stream",
     "text": [
      "             precision    recall  f1-score   support\n",
      "\n",
      "     Banana       1.00      1.00      1.00       167\n",
      "      Limes       1.00      1.00      1.00       168\n",
      "  Pineapple       1.00      1.00      1.00       155\n",
      "\n",
      "avg / total       1.00      1.00      1.00       490\n",
      "\n"
     ]
    }
   ],
   "source": [
    "DT = DecisionTreeClassifier(random_state=0)\n",
    "DT.fit(X_train,y_train)\n",
    "y_pred = DT.predict(X_test)\n",
    "precision = accuracy_score(y_pred, y_test) * 100\n",
    "print(\"Accuracy with Classification Tree: {0:.6f}\".format(precision))\n",
    "\n",
    "# Compute confusion matrix\n",
    "cnf_matrix = confusion_matrix(y_test,y_pred)\n",
    "np.set_printoptions(precision=2)\n",
    "\n",
    "# Plot non-normalized confusion matrix\n",
    "\n",
    "plot_confusion_matrix2(cnf_matrix)\n",
    "print(classification_report(y_pred, y_test,target_names=label_names))"
   ]
  },
  {
   "cell_type": "markdown",
   "metadata": {},
   "source": [
    "Now that we have trained our data, we can test it on a validation set and see how our classifier performs. "
   ]
  },
  {
   "cell_type": "code",
   "execution_count": 173,
   "metadata": {},
   "outputs": [
    {
     "name": "stdout",
     "output_type": "stream",
     "text": [
      "Validation Accuracy with Classification Trees: 99.196787\n"
     ]
    },
    {
     "data": {
      "image/png": "[encoded data removed]",
      "text/plain": [
       "<Figure size 432x288 with 2 Axes>"
      ]
     },
     "metadata": {},
     "output_type": "display_data"
    },
    {
     "name": "stdout",
     "output_type": "stream",
     "text": [
      "             precision    recall  f1-score   support\n",
      "\n",
      "     Banana       1.00      0.98      0.99       170\n",
      "      Limes       0.98      1.00      0.99       162\n",
      "  Pineapple       1.00      1.00      1.00       166\n",
      "\n",
      "avg / total       0.99      0.99      0.99       498\n",
      "\n"
     ]
    }
   ],
   "source": [
    "val_pred = DT.predict(val_pca_res)\n",
    "precision = accuracy_score(val_pred, val_label_ids) * 100\n",
    "print(\"Validation Accuracy with Classification Trees: {0:.6f}\".format(precision))\n",
    "\n",
    "# Compute confusion matrix\n",
    "cnf_matrix = confusion_matrix(val_label_ids,val_pred)\n",
    "np.set_printoptions(precision=2)\n",
    "\n",
    "# Plot non-normalized confusion matrix\n",
    "\n",
    "plot_confusion_matrix2(cnf_matrix)\n",
    "print(classification_report(val_pred, val_label_ids,target_names=label_names))"
   ]
  },
  {
   "cell_type": "markdown",
   "metadata": {},
   "source": [
    "### Random Forest "
   ]
  },
  {
   "cell_type": "markdown",
   "metadata": {},
   "source": [
    "Random Forest is a type of classification tree technique that uses bootstrapping. Let's see if this method will work better or worse than general classification trees:"
   ]
  },
  {
   "cell_type": "code",
   "execution_count": 174,
   "metadata": {},
   "outputs": [
    {
     "name": "stdout",
     "output_type": "stream",
     "text": [
      "Accuracy with RandomForest: 100.000000\n"
     ]
    },
    {
     "data": {
      "image/png": "[encoded data removed]",
      "text/plain": [
       "<Figure size 432x288 with 2 Axes>"
      ]
     },
     "metadata": {},
     "output_type": "display_data"
    },
    {
     "name": "stdout",
     "output_type": "stream",
     "text": [
      "             precision    recall  f1-score   support\n",
      "\n",
      "     Banana       1.00      1.00      1.00       167\n",
      "      Limes       1.00      1.00      1.00       168\n",
      "  Pineapple       1.00      1.00      1.00       155\n",
      "\n",
      "avg / total       1.00      1.00      1.00       490\n",
      "\n"
     ]
    }
   ],
   "source": [
    "from sklearn.ensemble import RandomForestClassifier\n",
    "forest = RandomForestClassifier(n_estimators=10)\n",
    "forest = forest.fit(X_train, y_train)\n",
    "test_predictions = forest.predict(X_test)\n",
    "precision = accuracy_score(test_predictions, y_test) * 100\n",
    "print(\"Accuracy with RandomForest: {0:.6f}\".format(precision))\n",
    "\n",
    "# Compute confusion matrix\n",
    "cnf_matrix = confusion_matrix(y_test,test_predictions)\n",
    "np.set_printoptions(precision=2)\n",
    "\n",
    "# Plot non-normalized confusion matrix\n",
    "\n",
    "plot_confusion_matrix2(cnf_matrix)\n",
    "print(classification_report(test_predictions, y_test,target_names=label_names))"
   ]
  },
  {
   "cell_type": "code",
   "execution_count": 175,
   "metadata": {},
   "outputs": [
    {
     "name": "stdout",
     "output_type": "stream",
     "text": [
      "Validation Accuracy with Random Forest: 100.000000\n"
     ]
    },
    {
     "data": {
      "image/png": "[encoded data removed]",
      "text/plain": [
       "<Figure size 432x288 with 2 Axes>"
      ]
     },
     "metadata": {},
     "output_type": "display_data"
    },
    {
     "name": "stdout",
     "output_type": "stream",
     "text": [
      "             precision    recall  f1-score   support\n",
      "\n",
      "     Banana       1.00      1.00      1.00       167\n",
      "      Limes       1.00      1.00      1.00       168\n",
      "  Pineapple       1.00      1.00      1.00       155\n",
      "\n",
      "avg / total       1.00      1.00      1.00       490\n",
      "\n"
     ]
    }
   ],
   "source": [
    "val_predictions = forest.predict(val_pca_res)\n",
    "precision = accuracy_score(val_predictions, val_label_ids) * 100\n",
    "print(\"Validation Accuracy with Random Forest: {0:.6f}\".format(precision))\n",
    "\n",
    "# Compute confusion matrix\n",
    "cnf_matrix = confusion_matrix(val_label_ids,val_predictions)\n",
    "np.set_printoptions(precision=2)\n",
    "\n",
    "# Plot non-normalized confusion matrix\n",
    "\n",
    "plot_confusion_matrix2(cnf_matrix)\n",
    "print(classification_report(test_predictions, y_test,target_names=label_names))"
   ]
  },
  {
   "cell_type": "markdown",
   "metadata": {},
   "source": [
    "In this case, random forest seems to be the optimal classifier since it operates at 100% accuracy, just like logistic regression."
   ]
  },
  {
   "cell_type": "code",
   "execution_count": null,
   "metadata": {},
   "outputs": [],
   "source": []
  }
 ],
 "metadata": {
  "kernelspec": {
   "display_name": "Python 3",
   "language": "python",
   "name": "python3"
  },
  "language_info": {
   "codemirror_mode": {
    "name": "ipython",
    "version": 3
   },
   "file_extension": ".py",
   "mimetype": "text/x-python",
   "name": "python",
   "nbconvert_exporter": "python",
   "pygments_lexer": "ipython3",
   "version": "3.6.5"
  }
 },
 "nbformat": 4,
 "nbformat_minor": 2
}
