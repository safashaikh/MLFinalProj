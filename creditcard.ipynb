{
 "cells": [
  {
   "cell_type": "markdown",
   "metadata": {},
   "source": [
    "# ECE 445 (ML for ENGG): Credit Card Fraud Detection\n",
    "\n",
    "*Eric Jiang ewj12 158002948*\n",
    "\n",
    "12/14/2018"
   ]
  },
  {
   "cell_type": "markdown",
   "metadata": {},
   "source": [
    "This dataset contains transactions from European credit cards in September 2013. \n",
    "\n",
    "The variables are unknown due to confidentiality issues.\n",
    "\n",
    "*The only known variables are:*\n",
    "\n",
    "**Time** - Time it takes to reach final transaction\n",
    "\n",
    "**Amount** - Amount in the transaction\n",
    "\n",
    "**Class** - Determines if fraud (1) or non-fraud (0)"
   ]
  },
  {
   "cell_type": "code",
   "execution_count": 1,
   "metadata": {},
   "outputs": [],
   "source": [
    "import csv\n",
    "import pandas as pd\n",
    "import matplotlib.pyplot as plt\n",
    "import numpy as np\n",
    "B= '\\033[1m'\n",
    "E= '\\033[0m'"
   ]
  },
  {
   "cell_type": "code",
   "execution_count": 2,
   "metadata": {},
   "outputs": [
    {
     "data": {
      "text/html": [
       "<div>\n",
       "<style scoped>\n",
       "    .dataframe tbody tr th:only-of-type {\n",
       "        vertical-align: middle;\n",
       "    }\n",
       "\n",
       "    .dataframe tbody tr th {\n",
       "        vertical-align: top;\n",
       "    }\n",
       "\n",
       "    .dataframe thead th {\n",
       "        text-align: right;\n",
       "    }\n",
       "</style>\n",
       "<table border=\"1\" class=\"dataframe\">\n",
       "  <thead>\n",
       "    <tr style=\"text-align: right;\">\n",
       "      <th></th>\n",
       "      <th>Time</th>\n",
       "      <th>V1</th>\n",
       "      <th>V2</th>\n",
       "      <th>V3</th>\n",
       "      <th>V4</th>\n",
       "      <th>V5</th>\n",
       "      <th>V6</th>\n",
       "      <th>V7</th>\n",
       "      <th>V8</th>\n",
       "      <th>V9</th>\n",
       "      <th>...</th>\n",
       "      <th>V21</th>\n",
       "      <th>V22</th>\n",
       "      <th>V23</th>\n",
       "      <th>V24</th>\n",
       "      <th>V25</th>\n",
       "      <th>V26</th>\n",
       "      <th>V27</th>\n",
       "      <th>V28</th>\n",
       "      <th>Amount</th>\n",
       "      <th>Class</th>\n",
       "    </tr>\n",
       "  </thead>\n",
       "  <tbody>\n",
       "    <tr>\n",
       "      <th>0</th>\n",
       "      <td>0.0</td>\n",
       "      <td>-1.359807</td>\n",
       "      <td>-0.072781</td>\n",
       "      <td>2.536347</td>\n",
       "      <td>1.378155</td>\n",
       "      <td>-0.338321</td>\n",
       "      <td>0.462388</td>\n",
       "      <td>0.239599</td>\n",
       "      <td>0.098698</td>\n",
       "      <td>0.363787</td>\n",
       "      <td>...</td>\n",
       "      <td>-0.018307</td>\n",
       "      <td>0.277838</td>\n",
       "      <td>-0.110474</td>\n",
       "      <td>0.066928</td>\n",
       "      <td>0.128539</td>\n",
       "      <td>-0.189115</td>\n",
       "      <td>0.133558</td>\n",
       "      <td>-0.021053</td>\n",
       "      <td>149.62</td>\n",
       "      <td>0</td>\n",
       "    </tr>\n",
       "    <tr>\n",
       "      <th>1</th>\n",
       "      <td>0.0</td>\n",
       "      <td>1.191857</td>\n",
       "      <td>0.266151</td>\n",
       "      <td>0.166480</td>\n",
       "      <td>0.448154</td>\n",
       "      <td>0.060018</td>\n",
       "      <td>-0.082361</td>\n",
       "      <td>-0.078803</td>\n",
       "      <td>0.085102</td>\n",
       "      <td>-0.255425</td>\n",
       "      <td>...</td>\n",
       "      <td>-0.225775</td>\n",
       "      <td>-0.638672</td>\n",
       "      <td>0.101288</td>\n",
       "      <td>-0.339846</td>\n",
       "      <td>0.167170</td>\n",
       "      <td>0.125895</td>\n",
       "      <td>-0.008983</td>\n",
       "      <td>0.014724</td>\n",
       "      <td>2.69</td>\n",
       "      <td>0</td>\n",
       "    </tr>\n",
       "    <tr>\n",
       "      <th>2</th>\n",
       "      <td>1.0</td>\n",
       "      <td>-1.358354</td>\n",
       "      <td>-1.340163</td>\n",
       "      <td>1.773209</td>\n",
       "      <td>0.379780</td>\n",
       "      <td>-0.503198</td>\n",
       "      <td>1.800499</td>\n",
       "      <td>0.791461</td>\n",
       "      <td>0.247676</td>\n",
       "      <td>-1.514654</td>\n",
       "      <td>...</td>\n",
       "      <td>0.247998</td>\n",
       "      <td>0.771679</td>\n",
       "      <td>0.909412</td>\n",
       "      <td>-0.689281</td>\n",
       "      <td>-0.327642</td>\n",
       "      <td>-0.139097</td>\n",
       "      <td>-0.055353</td>\n",
       "      <td>-0.059752</td>\n",
       "      <td>378.66</td>\n",
       "      <td>0</td>\n",
       "    </tr>\n",
       "    <tr>\n",
       "      <th>3</th>\n",
       "      <td>1.0</td>\n",
       "      <td>-0.966272</td>\n",
       "      <td>-0.185226</td>\n",
       "      <td>1.792993</td>\n",
       "      <td>-0.863291</td>\n",
       "      <td>-0.010309</td>\n",
       "      <td>1.247203</td>\n",
       "      <td>0.237609</td>\n",
       "      <td>0.377436</td>\n",
       "      <td>-1.387024</td>\n",
       "      <td>...</td>\n",
       "      <td>-0.108300</td>\n",
       "      <td>0.005274</td>\n",
       "      <td>-0.190321</td>\n",
       "      <td>-1.175575</td>\n",
       "      <td>0.647376</td>\n",
       "      <td>-0.221929</td>\n",
       "      <td>0.062723</td>\n",
       "      <td>0.061458</td>\n",
       "      <td>123.50</td>\n",
       "      <td>0</td>\n",
       "    </tr>\n",
       "    <tr>\n",
       "      <th>4</th>\n",
       "      <td>2.0</td>\n",
       "      <td>-1.158233</td>\n",
       "      <td>0.877737</td>\n",
       "      <td>1.548718</td>\n",
       "      <td>0.403034</td>\n",
       "      <td>-0.407193</td>\n",
       "      <td>0.095921</td>\n",
       "      <td>0.592941</td>\n",
       "      <td>-0.270533</td>\n",
       "      <td>0.817739</td>\n",
       "      <td>...</td>\n",
       "      <td>-0.009431</td>\n",
       "      <td>0.798278</td>\n",
       "      <td>-0.137458</td>\n",
       "      <td>0.141267</td>\n",
       "      <td>-0.206010</td>\n",
       "      <td>0.502292</td>\n",
       "      <td>0.219422</td>\n",
       "      <td>0.215153</td>\n",
       "      <td>69.99</td>\n",
       "      <td>0</td>\n",
       "    </tr>\n",
       "  </tbody>\n",
       "</table>\n",
       "<p>5 rows × 31 columns</p>\n",
       "</div>"
      ],
      "text/plain": [
       "   Time        V1        V2        V3        V4        V5        V6        V7  \\\n",
       "0   0.0 -1.359807 -0.072781  2.536347  1.378155 -0.338321  0.462388  0.239599   \n",
       "1   0.0  1.191857  0.266151  0.166480  0.448154  0.060018 -0.082361 -0.078803   \n",
       "2   1.0 -1.358354 -1.340163  1.773209  0.379780 -0.503198  1.800499  0.791461   \n",
       "3   1.0 -0.966272 -0.185226  1.792993 -0.863291 -0.010309  1.247203  0.237609   \n",
       "4   2.0 -1.158233  0.877737  1.548718  0.403034 -0.407193  0.095921  0.592941   \n",
       "\n",
       "         V8        V9  ...         V21       V22       V23       V24  \\\n",
       "0  0.098698  0.363787  ...   -0.018307  0.277838 -0.110474  0.066928   \n",
       "1  0.085102 -0.255425  ...   -0.225775 -0.638672  0.101288 -0.339846   \n",
       "2  0.247676 -1.514654  ...    0.247998  0.771679  0.909412 -0.689281   \n",
       "3  0.377436 -1.387024  ...   -0.108300  0.005274 -0.190321 -1.175575   \n",
       "4 -0.270533  0.817739  ...   -0.009431  0.798278 -0.137458  0.141267   \n",
       "\n",
       "        V25       V26       V27       V28  Amount  Class  \n",
       "0  0.128539 -0.189115  0.133558 -0.021053  149.62      0  \n",
       "1  0.167170  0.125895 -0.008983  0.014724    2.69      0  \n",
       "2 -0.327642 -0.139097 -0.055353 -0.059752  378.66      0  \n",
       "3  0.647376 -0.221929  0.062723  0.061458  123.50      0  \n",
       "4 -0.206010  0.502292  0.219422  0.215153   69.99      0  \n",
       "\n",
       "[5 rows x 31 columns]"
      ]
     },
     "execution_count": 2,
     "metadata": {},
     "output_type": "execute_result"
    }
   ],
   "source": [
    "#Import the CSV and display the header\n",
    "df = pd.read_csv(\"creditcard.csv\")\n",
    "df.head()"
   ]
  },
  {
   "cell_type": "code",
   "execution_count": 50,
   "metadata": {},
   "outputs": [
    {
     "data": {
      "image/png": "[encoded data removed]",
      "text/plain": [
       "<Figure size 432x288 with 1 Axes>"
      ]
     },
     "metadata": {
      "needs_background": "light"
     },
     "output_type": "display_data"
    },
    {
     "name": "stdout",
     "output_type": "stream",
     "text": [
      "\u001b[1mNumber of Correct Samples:\u001b[0m 284315\n",
      "\u001b[1mNumber of Fraud Samples:\u001b[0m 492\n",
      "\u001b[1mRatio of Fraud to Correct:\u001b[0m 0.0017304750013189597\n"
     ]
    }
   ],
   "source": [
    "#Portray the frequency of fraud\n",
    "count_classes = pd.value_counts(df['Class'], sort = True).sort_index()\n",
    "count_classes.plot(kind = 'bar')\n",
    "plt.title(\"Non-fraud Vs. Fraud\")\n",
    "plt.xlabel(\"Class: {0} = Correct \\n{1} = Fraud\")\n",
    "plt.ylabel(\"Samples\")\n",
    "plt.show()\n",
    "\n",
    "correct = count_classes.tolist()[0]\n",
    "fraud = count_classes.tolist()[1]\n",
    "print(B+\"Number of Correct Samples:\"+E, correct)\n",
    "print(B+\"Number of Fraud Samples:\"+E, fraud)\n",
    "print(B+\"Ratio of Fraud to Correct:\"+E, fraud/correct)"
   ]
  },
  {
   "cell_type": "markdown",
   "metadata": {},
   "source": [
    "**Since the # of fraud samples is only 0.17% of the dataset, the data needs to be undersampled for processing classifiers.** \n",
    "\n",
    "**In addition 285,000 samples is way too massive to process**"
   ]
  },
  {
   "cell_type": "markdown",
   "metadata": {},
   "source": [
    "**Undersample the data (with 50% fraud and 50% non-fraud) to manipulate for PCA and graphing purposes**"
   ]
  },
  {
   "cell_type": "code",
   "execution_count": 25,
   "metadata": {},
   "outputs": [],
   "source": [
    "#fraud data\n",
    "dff = df.loc[df.Class==1]\n",
    "\n",
    "#fraud data w/ amount > $1 stolen\n",
    "dffa = dff.loc[dff.Amount>1.0]\n",
    "\n",
    "#fraud data with times\n",
    "dfft = dff.loc[dff.Amount>1.0, 'Time']\n",
    "\n",
    "#convert into numpy array\n",
    "dft = np.asarray(dfft)\n",
    "#xdlist = dfft.tolist()\n",
    "\n",
    "#Data\n",
    "X = df.loc[:, df.columns != 'Class']\n",
    "\n",
    "#Labels\n",
    "Y = df.loc[:, df.columns == 'Class']\n",
    "\n",
    "# Number of data points in the minority class\n",
    "number_records_fraud = len(df[df.Class == 1])\n",
    "fraud_indices = np.array(df[df.Class == 1].index)\n",
    "\n",
    "# Picking the indices of the normal classes\n",
    "normal_indices = df[df.Class == 0].index\n",
    "\n",
    "# Out of the indices we picked, randomly select \"x\" number (number_records_fraud)\n",
    "random_normal_indices = np.random.choice(normal_indices, number_records_fraud, replace = False)\n",
    "random_normal_indices = np.array(random_normal_indices)\n",
    "\n",
    "\n",
    "# Appending the 2 indices\n",
    "under_sample_indices = np.concatenate([fraud_indices,random_normal_indices])\n",
    "\n",
    "# Under sample dataset\n",
    "usd = df.iloc[under_sample_indices,:]\n",
    "\n",
    "#scramble the dataset so fraud isn't ordered first\n",
    "usd = usd.sample(frac=1)\n",
    "\n",
    "#Undersampled X data and Y labels via Class\n",
    "Xu = usd.loc[:, usd.columns != 'Class'] \n",
    "Yu = usd.loc[:, usd.columns == 'Class'] # Yu == 1 then fraud otherwise 0"
   ]
  },
  {
   "cell_type": "markdown",
   "metadata": {},
   "source": [
    "# Approach 1) K-Nearest Neighbor Classifier\n",
    "\n",
    "**First obtain 2-D PCA of Data**\n",
    "\n",
    "Create Training and Test sets for k-NN"
   ]
  },
  {
   "cell_type": "code",
   "execution_count": 33,
   "metadata": {},
   "outputs": [],
   "source": [
    "#Optimize the train/test lengths (this uses 15% of data as test)\n",
    "test_percent = .15\n",
    "test_len = (np.floor(test_percent*len(Xu))).astype(int)\n",
    "train_len = (len(Xu)-test_len).astype(int)\n",
    "\n",
    "#Create Training Data\n",
    "training_data = Xu[:train_len]\n",
    "training_labels = Yu[:train_len]\n",
    "\n",
    "#Create Test Data\n",
    "test_data = Xu[train_len:]\n",
    "test_labels = Yu[train_len:]"
   ]
  },
  {
   "cell_type": "code",
   "execution_count": 34,
   "metadata": {
    "scrolled": false
   },
   "outputs": [
    {
     "data": {
      "image/png": "[encoded data removed]",
      "text/plain": [
       "<Figure size 720x576 with 1 Axes>"
      ]
     },
     "metadata": {
      "needs_background": "light"
     },
     "output_type": "display_data"
    }
   ],
   "source": [
    "# Transpose the data matrix so each sample is a column\n",
    "X = training_data.T\n",
    "\n",
    "mean_vec = (np.sum(X, axis=1))/(X.shape[1])\n",
    "mean_mat = np.tile(mean_vec.values.reshape(X.shape[0],1),[1,X.shape[1]])\n",
    "\n",
    "#center the matrix\n",
    "centered_X = X - mean_mat\n",
    "\n",
    "#Singular Value Decomp centered matrix\n",
    "U, s, Vh = np.linalg.svd(centered_X)\n",
    "\n",
    "#Top 2 principal components of the centered data matrix\n",
    "U2 = U[:,0:2]\n",
    "\n",
    "#PCA features\n",
    "X_tilde = U2.T@centered_X\n",
    "\n",
    "#reconstruction\n",
    "X_hat = U2@X_tilde + mean_mat\n",
    "\n",
    "# Scatter plot for Fraud Vs. Non-Fraud\n",
    "plt.figure(figsize=(10,8))\n",
    "plt.scatter(X_tilde.T[np.where(training_labels==0),0],X_tilde.T[np.where(training_labels==0),1],c='g',marker='.',label='Non-Fraud')\n",
    "plt.scatter(X_tilde.T[np.where(training_labels==1),0],X_tilde.T[np.where(training_labels==1),1],c='r',marker='.',label='Fraud')\n",
    "plt.title('2D PCA Fraud vs. Non-Fraud')\n",
    "plt.legend()\n",
    "plt.show()"
   ]
  },
  {
   "cell_type": "markdown",
   "metadata": {},
   "source": [
    "**From this 2D PCA plot, it seems that Fraud is very hard to seperate from non-fraud. However, there seems to be a lot of fraudulent class points in the center of axis = 1.**"
   ]
  },
  {
   "cell_type": "code",
   "execution_count": 35,
   "metadata": {},
   "outputs": [],
   "source": [
    "##### Find the 2D PCA features of test_data set #####\n",
    "\n",
    "# Transpose the data matrix so each sample is a column\n",
    "X = test_data.T\n",
    "\n",
    "mean_vec = (np.sum(X, axis=1))/(X.shape[1])\n",
    "mean_mat = np.tile(mean_vec.values.reshape(X.shape[0],1),[1,X.shape[1]])\n",
    "\n",
    "#center the matrix\n",
    "centered_X = X - mean_mat\n",
    "\n",
    "#Singular Value Decomp centered matrix\n",
    "U, s, Vh = np.linalg.svd(centered_X)\n",
    "\n",
    "#Top 2 principal components of the centered data matrix\n",
    "U2 = U[:,0:2]\n",
    "\n",
    "#X_tilde1 = 2D PCA features of test_set\n",
    "X_tilde1 = U2.T@centered_X"
   ]
  },
  {
   "cell_type": "markdown",
   "metadata": {},
   "source": [
    "**Creating k-NN algorithm**"
   ]
  },
  {
   "cell_type": "code",
   "execution_count": 36,
   "metadata": {},
   "outputs": [],
   "source": [
    "#Create class imagelabel(image = norm, label = 0,1)\n",
    "#Use for knn to sort images based on norm while keeping its label\n",
    "class imagelabel:\n",
    "    def __init__(self, image, label):\n",
    "        self.image = image\n",
    "        self.label = label\n",
    "    def __repr__(self):\n",
    "        return repr((self.image, self.label))\n",
    "\n",
    "#Create k-NN function to calculate the norms to the desired 'point'\n",
    "#Using closest 'k' # of points to classify labels\n",
    "def knn(point,k):\n",
    "    #Create a matrix to store all the norm distances w/ labels\n",
    "    norm_mat = []\n",
    "    \n",
    "    #Use the 300 pt training_images set\n",
    "    for i in range (0,train_len):\n",
    "        #Use X_tilde the 2D PCA features of training_images\n",
    "        #Find norm between point and training set\n",
    "        norm = np.linalg.norm(point-X_tilde.T[i])\n",
    "        \n",
    "        #append each (norm, label) using class imagelabel(norm,label)\n",
    "        if training_labels.values[i] == 0: \n",
    "            norm_mat.append(imagelabel(norm,0))\n",
    "        else:\n",
    "            norm_mat.append(imagelabel(norm,1))\n",
    "    \n",
    "    #sort based on image's closest norms\n",
    "    nmsort = sorted(norm_mat, key=lambda pt: pt.image)\n",
    "    \n",
    "    #Create counters to determine labels for k closest pts.\n",
    "    counter0 = 0\n",
    "    counter1 = 0\n",
    "    \n",
    "    #loop through k closest points\n",
    "    for i in range (0,k):\n",
    "        nms = nmsort[i]\n",
    "        if nms.label == 0: #if label = 0 counter0++\n",
    "            counter0+=1\n",
    "        else:\n",
    "            counter1+=1 #else label = 1 counter1++\n",
    "    \n",
    "    #output 0,1 label corresponding to highest counter\n",
    "    if counter0 >= counter1:\n",
    "        output = 0\n",
    "    else:\n",
    "        output = 1\n",
    "    \n",
    "    #return norm matrix, sorted norm matrix, 0-1 output\n",
    "    return norm_mat, nmsort, output"
   ]
  },
  {
   "cell_type": "markdown",
   "metadata": {},
   "source": [
    "**Plotting k-NN Data with k = 5**"
   ]
  },
  {
   "cell_type": "code",
   "execution_count": 43,
   "metadata": {},
   "outputs": [],
   "source": [
    "#create right/wrong 2D pts for plotting\n",
    "xtright = []\n",
    "ytright = []\n",
    "xtwrong = []\n",
    "ytwrong = []\n",
    "\n",
    "#loop through the test_len to compare k-NN output to label\n",
    "for i in range (0, test_len):\n",
    "    nm, nm2, o = knn(X_tilde1.T[i],5)\n",
    "    xn = X_tilde1.T[i,0]\n",
    "    yn = X_tilde1.T[i,1]\n",
    "    \n",
    "    #if output = test_label then k-NN classified right\n",
    "    #else classified wrong\n",
    "    if o == test_labels.values[i]:\n",
    "        xtright.append(xn) #append right pts for plot\n",
    "        ytright.append(yn)\n",
    "        #print('index',i, o, 'right')\n",
    "    else:\n",
    "        xtwrong.append(xn) #append wrong pts for plot\n",
    "        ytwrong.append(yn)\n",
    "        #print('index:',i, o, 'wrong')\n"
   ]
  },
  {
   "cell_type": "code",
   "execution_count": 44,
   "metadata": {},
   "outputs": [
    {
     "data": {
      "image/png": "[encoded data removed]",
      "text/plain": [
       "<Figure size 720x576 with 1 Axes>"
      ]
     },
     "metadata": {
      "needs_background": "light"
     },
     "output_type": "display_data"
    },
    {
     "name": "stdout",
     "output_type": "stream",
     "text": [
      "\u001b[1mError with k = 5:\u001b[0m 0.3877551020408163\n"
     ]
    }
   ],
   "source": [
    "#Plotting on graph and displaying error\n",
    "\n",
    "plt.figure(figsize=(10,8))\n",
    "plt.scatter(X_tilde.T[:,0],X_tilde.T[:,1], color = 'green', marker = '.', label = '2D PCA Training_Data')\n",
    "plt.scatter(xtright,ytright, color = 'blue', marker = '.', label = 'Correctly Classified')\n",
    "plt.scatter(xtwrong,ytwrong, color = 'black', marker = '.', label = 'Incorrectly Classified')\n",
    "plt.title('2D PCA k-NN testing_data vs. training_data')\n",
    "plt.legend()\n",
    "plt.show()\n",
    "\n",
    "err = len(xtwrong)/test_len\n",
    "print(B+'Error with k = 5:'+E, err)"
   ]
  },
  {
   "cell_type": "markdown",
   "metadata": {},
   "source": [
    "**As shown above, k-NN is a poor model to classify this problem as the dataset does not have defining features that seperate the two classes** \n",
    "\n",
    "**Regular PCA feature engineering does not work. Instead the dataset requires analyzing performance metrics of the model to maximize precision. Thus, the approach of Logistic Regression Classifier is used.**"
   ]
  },
  {
   "cell_type": "markdown",
   "metadata": {},
   "source": [
    "# Approach 2) Logistic Regression Classifier"
   ]
  },
  {
   "cell_type": "code",
   "execution_count": 54,
   "metadata": {},
   "outputs": [
    {
     "name": "stdout",
     "output_type": "stream",
     "text": [
      "Number transactions train dataset:  199364\n",
      "Number transactions test dataset:  85443\n",
      "Total number of transactions:  284807\n",
      "\n",
      "Number transactions train dataset:  688\n",
      "Number transactions test dataset:  296\n",
      "Total number of transactions:  984\n"
     ]
    }
   ],
   "source": [
    "from sklearn.cross_validation import train_test_split\n",
    "\n",
    "X = df.iloc[:, df.columns != 'Class']\n",
    "Y = df.iloc[:, df.columns == 'Class']\n",
    "\n",
    "# Whole dataset\n",
    "X_train, X_test, y_train, y_test = train_test_split(X,Y,test_size = 0.3, random_state = 0)\n",
    "\n",
    "print(\"Number transactions train dataset: \", len(X_train))\n",
    "print(\"Number transactions test dataset: \", len(X_test))\n",
    "print(\"Total number of transactions: \", len(X_train)+len(X_test))\n",
    "\n",
    "# Undersampled dataset\n",
    "X_train_undersample, X_test_undersample, y_train_undersample, y_test_undersample = train_test_split(Xu\n",
    "                                                                                                   ,Yu\n",
    "                                                                                                   ,test_size = 0.3\n",
    "                                                                                                   ,random_state = 0)\n",
    "print(\"\")\n",
    "print(\"Number transactions train dataset: \", len(X_train_undersample))\n",
    "print(\"Number transactions test dataset: \", len(X_test_undersample))\n",
    "print(\"Total number of transactions: \", len(X_train_undersample)+len(X_test_undersample))"
   ]
  },
  {
   "cell_type": "code",
   "execution_count": 55,
   "metadata": {},
   "outputs": [],
   "source": [
    "from sklearn.linear_model import LogisticRegression\n",
    "from sklearn.cross_validation import KFold, cross_val_score\n",
    "from sklearn.metrics import confusion_matrix,precision_recall_curve,auc,roc_auc_score,roc_curve,recall_score,classification_report"
   ]
  },
  {
   "cell_type": "code",
   "execution_count": 62,
   "metadata": {},
   "outputs": [],
   "source": [
    "def printing_Kfold_scores(x_train_data,y_train_data):\n",
    "    fold = KFold(len(y_train_data),5,shuffle=False) \n",
    "\n",
    "    # Different C parameters\n",
    "    c_param_range = [0.01,0.1,1,10,100]\n",
    "\n",
    "    results_table = pd.DataFrame(index = range(len(c_param_range),2), columns = ['C_parameter','Mean recall score'])\n",
    "    results_table['C_parameter'] = c_param_range\n",
    "\n",
    "    # the k-fold will give 2 lists: train_indices = indices[0], test_indices = indices[1]\n",
    "    j = 0\n",
    "    for c_param in c_param_range:\n",
    "        print('-------------------------------------------')\n",
    "        print('C parameter: ', c_param)\n",
    "        print('-------------------------------------------')\n",
    "        print('')\n",
    "\n",
    "        recall_accs = []\n",
    "        for iteration, indices in enumerate(fold,start=1):\n",
    "\n",
    "            # Call the logistic regression model with a certain C parameter\n",
    "            lr = LogisticRegression(C = c_param, penalty = 'l1')\n",
    "\n",
    "            # Use the training data to fit the model. In this case, we use the portion of the fold to train the model\n",
    "            # with indices[0]. We then predict on the portion assigned as the 'test cross validation' with indices[1]\n",
    "            lr.fit(x_train_data.iloc[indices[0],:],y_train_data.iloc[indices[0],:].values.ravel())\n",
    "\n",
    "            # Predict values using the test indices in the training data\n",
    "            y_pred_undersample = lr.predict(x_train_data.iloc[indices[1],:].values)\n",
    "\n",
    "            # Calculate the recall score and append it to a list for recall scores representing the current c_parameter\n",
    "            recall_acc = recall_score(y_train_data.iloc[indices[1],:].values,y_pred_undersample)\n",
    "            recall_accs.append(recall_acc)\n",
    "            print('Iteration ', iteration,': recall score = ', recall_acc)\n",
    "\n",
    "        # The mean value of those recall scores is the metric we want to save and get hold of.\n",
    "        results_table.loc[j,'Mean recall score'] = np.mean(recall_accs)\n",
    "        j += 1\n",
    "        print('')\n",
    "        print('Mean recall score ', np.mean(recall_accs))\n",
    "        print('')\n",
    "\n",
    "    best_c = results_table\n",
    "    best_c.dtypes.eq(object) # you can see the type of best_c\n",
    "    new = best_c.columns[best_c.dtypes.eq(object)] #get the object column of the best_c\n",
    "    best_c[new] = best_c[new].apply(pd.to_numeric, errors = 'coerce', axis=0) # change the type of object\n",
    "    best_c\n",
    "    best_c = results_table.loc[results_table['Mean recall score'].idxmax()]['C_parameter'] #calculate the mean values\n",
    "    \n",
    "    # Finally, we can check which C parameter is the best amongst the chosen.\n",
    "    print('*********************************************************************************')\n",
    "    print('Best model to choose from cross validation is with C parameter = ', best_c)\n",
    "    print('*********************************************************************************')\n",
    "    \n",
    "    return best_c"
   ]
  },
  {
   "cell_type": "code",
   "execution_count": 69,
   "metadata": {},
   "outputs": [
    {
     "name": "stdout",
     "output_type": "stream",
     "text": [
      "-------------------------------------------\n",
      "C parameter:  0.01\n",
      "-------------------------------------------\n",
      "\n",
      "Iteration  1 : recall score =  0.7936507936507936\n",
      "Iteration  2 : recall score =  0.8648648648648649\n",
      "Iteration  3 : recall score =  0.8923076923076924\n",
      "Iteration  4 : recall score =  0.855072463768116\n",
      "Iteration  5 : recall score =  0.9285714285714286\n",
      "\n",
      "Mean recall score  0.866893448632579\n",
      "\n",
      "-------------------------------------------\n",
      "C parameter:  0.1\n",
      "-------------------------------------------\n",
      "\n",
      "Iteration  1 : recall score =  0.873015873015873\n",
      "Iteration  2 : recall score =  0.8783783783783784\n",
      "Iteration  3 : recall score =  0.9230769230769231\n",
      "Iteration  4 : recall score =  0.9130434782608695\n",
      "Iteration  5 : recall score =  0.9428571428571428\n",
      "\n",
      "Mean recall score  0.9060743591178374\n",
      "\n",
      "-------------------------------------------\n",
      "C parameter:  1\n",
      "-------------------------------------------\n",
      "\n",
      "Iteration  1 : recall score =  0.8888888888888888\n",
      "Iteration  2 : recall score =  0.9054054054054054\n",
      "Iteration  3 : recall score =  0.9230769230769231\n",
      "Iteration  4 : recall score =  0.927536231884058\n",
      "Iteration  5 : recall score =  0.9571428571428572\n",
      "\n",
      "Mean recall score  0.9204100612796264\n",
      "\n",
      "-------------------------------------------\n",
      "C parameter:  10\n",
      "-------------------------------------------\n",
      "\n",
      "Iteration  1 : recall score =  0.8888888888888888\n",
      "Iteration  2 : recall score =  0.9054054054054054\n",
      "Iteration  3 : recall score =  0.9230769230769231\n",
      "Iteration  4 : recall score =  0.927536231884058\n",
      "Iteration  5 : recall score =  0.9571428571428572\n",
      "\n",
      "Mean recall score  0.9204100612796264\n",
      "\n",
      "-------------------------------------------\n",
      "C parameter:  100\n",
      "-------------------------------------------\n",
      "\n",
      "Iteration  1 : recall score =  0.8888888888888888\n",
      "Iteration  2 : recall score =  0.9054054054054054\n",
      "Iteration  3 : recall score =  0.9230769230769231\n",
      "Iteration  4 : recall score =  0.927536231884058\n",
      "Iteration  5 : recall score =  0.9571428571428572\n",
      "\n",
      "Mean recall score  0.9204100612796264\n",
      "\n",
      "*********************************************************************************\n",
      "Best model to choose from cross validation is with C parameter =  1.0\n",
      "*********************************************************************************\n"
     ]
    }
   ],
   "source": [
    "best_c = printing_Kfold_scores(X_train_undersample,y_train_undersample)"
   ]
  },
  {
   "cell_type": "code",
   "execution_count": 64,
   "metadata": {},
   "outputs": [],
   "source": [
    "import itertools\n",
    "\n",
    "def plot_confusion_matrix(cm, classes,\n",
    "                          normalize=False,\n",
    "                          title='Confusion matrix',\n",
    "                          cmap=plt.cm.Blues):\n",
    "    \"\"\"\n",
    "    This function prints and plots the confusion matrix.\n",
    "    Normalization can be applied by setting `normalize=True`.\n",
    "    \"\"\"\n",
    "    plt.imshow(cm, interpolation='nearest', cmap=cmap)\n",
    "    plt.title(title)\n",
    "    plt.colorbar()\n",
    "    tick_marks = np.arange(len(classes))\n",
    "    plt.xticks(tick_marks, classes, rotation=0)\n",
    "    plt.yticks(tick_marks, classes)\n",
    "\n",
    "    if normalize:\n",
    "        cm = cm.astype('float') / cm.sum(axis=1)[:, np.newaxis]\n",
    "        #print(\"Normalized confusion matrix\")\n",
    "    else:\n",
    "        1#print('Confusion matrix, without normalization')\n",
    "\n",
    "    #print(cm)\n",
    "\n",
    "    thresh = cm.max() / 2.\n",
    "    for i, j in itertools.product(range(cm.shape[0]), range(cm.shape[1])):\n",
    "        plt.text(j, i, cm[i, j],\n",
    "                 horizontalalignment=\"center\",\n",
    "                 color=\"white\" if cm[i, j] > thresh else \"black\")\n",
    "\n",
    "    plt.tight_layout()\n",
    "    plt.ylabel('True label')\n",
    "    plt.xlabel('Predicted label')"
   ]
  },
  {
   "cell_type": "code",
   "execution_count": 78,
   "metadata": {},
   "outputs": [
    {
     "name": "stdout",
     "output_type": "stream",
     "text": [
      "Recall metric in the testing dataset:  0.8742138364779874\n"
     ]
    },
    {
     "data": {
      "image/png": "[encoded data removed]",
      "text/plain": [
       "<Figure size 432x288 with 2 Axes>"
      ]
     },
     "metadata": {
      "needs_background": "light"
     },
     "output_type": "display_data"
    }
   ],
   "source": [
    "# Use this C_parameter to build the final model with the whole training dataset and predict the classes in the test\n",
    "# dataset\n",
    "lr = LogisticRegression(C = best_c, penalty = 'l1')\n",
    "lr.fit(X_train_undersample,y_train_undersample.values.ravel())\n",
    "y_pred_undersample = lr.predict(X_test_undersample.values)\n",
    "\n",
    "# Compute confusion matrix\n",
    "cnf_matrix = confusion_matrix(y_test_undersample,y_pred_undersample)\n",
    "np.set_printoptions(precision=2)\n",
    "\n",
    "print(\"Recall metric in the testing dataset: \", cnf_matrix[0,0]/(cnf_matrix[0,0]+cnf_matrix[1,0]))\n",
    "\n",
    "# Plot non-normalized confusion matrix\n",
    "class_names = [0,1]\n",
    "plt.figure()\n",
    "plot_confusion_matrix(cnf_matrix\n",
    "                      , classes=class_names\n",
    "                      , title='Confusion matrix')\n",
    "plt.show()"
   ]
  },
  {
   "cell_type": "code",
   "execution_count": null,
   "metadata": {},
   "outputs": [],
   "source": []
  }
 ],
 "metadata": {
  "kernelspec": {
   "display_name": "Python 3",
   "language": "python",
   "name": "python3"
  },
  "language_info": {
   "codemirror_mode": {
    "name": "ipython",
    "version": 3
   },
   "file_extension": ".py",
   "mimetype": "text/x-python",
   "name": "python",
   "nbconvert_exporter": "python",
   "pygments_lexer": "ipython3",
   "version": "3.7.0"
  }
 },
 "nbformat": 4,
 "nbformat_minor": 2
}
