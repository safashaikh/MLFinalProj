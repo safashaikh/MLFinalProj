{
 "cells": [
  {
   "cell_type": "markdown",
   "metadata": {},
   "source": [
    "# ECE 445 (ML for ENGG): Credit Card Fraud Detection\n",
    "\n",
    "*Eric Jiang ewj12 158002948*\n",
    "\n",
    "12/14/2018"
   ]
  },
  {
   "cell_type": "markdown",
   "metadata": {},
   "source": [
    "**This dataset contains transactions from European credit cards in September 2013.**\n",
    "\n",
    "The variables are unknown due to confidentiality issues.\n",
    "\n",
    "*The only known variables are:*\n",
    "\n",
    "**Time** - Time it takes to reach final transaction\n",
    "\n",
    "**Amount** - Amount in the transaction\n",
    "\n",
    "**Class** - Determines if fraud (1) or non-fraud (0)"
   ]
  },
  {
   "cell_type": "code",
   "execution_count": 1,
   "metadata": {},
   "outputs": [],
   "source": [
    "import matplotlib.pyplot as plt\n",
    "import numpy as np\n",
    "import pandas as pd\n",
    "import csv\n",
    "\n",
    "B= '\\033[1m'\n",
    "E= '\\033[0m'"
   ]
  },
  {
   "cell_type": "code",
   "execution_count": 2,
   "metadata": {},
   "outputs": [
    {
     "data": {
      "text/html": [
       "<div>\n",
       "<style scoped>\n",
       "    .dataframe tbody tr th:only-of-type {\n",
       "        vertical-align: middle;\n",
       "    }\n",
       "\n",
       "    .dataframe tbody tr th {\n",
       "        vertical-align: top;\n",
       "    }\n",
       "\n",
       "    .dataframe thead th {\n",
       "        text-align: right;\n",
       "    }\n",
       "</style>\n",
       "<table border=\"1\" class=\"dataframe\">\n",
       "  <thead>\n",
       "    <tr style=\"text-align: right;\">\n",
       "      <th></th>\n",
       "      <th>Time</th>\n",
       "      <th>V1</th>\n",
       "      <th>V2</th>\n",
       "      <th>V3</th>\n",
       "      <th>V4</th>\n",
       "      <th>V5</th>\n",
       "      <th>V6</th>\n",
       "      <th>V7</th>\n",
       "      <th>V8</th>\n",
       "      <th>V9</th>\n",
       "      <th>...</th>\n",
       "      <th>V21</th>\n",
       "      <th>V22</th>\n",
       "      <th>V23</th>\n",
       "      <th>V24</th>\n",
       "      <th>V25</th>\n",
       "      <th>V26</th>\n",
       "      <th>V27</th>\n",
       "      <th>V28</th>\n",
       "      <th>Amount</th>\n",
       "      <th>Class</th>\n",
       "    </tr>\n",
       "  </thead>\n",
       "  <tbody>\n",
       "    <tr>\n",
       "      <th>0</th>\n",
       "      <td>0.0</td>\n",
       "      <td>-1.359807</td>\n",
       "      <td>-0.072781</td>\n",
       "      <td>2.536347</td>\n",
       "      <td>1.378155</td>\n",
       "      <td>-0.338321</td>\n",
       "      <td>0.462388</td>\n",
       "      <td>0.239599</td>\n",
       "      <td>0.098698</td>\n",
       "      <td>0.363787</td>\n",
       "      <td>...</td>\n",
       "      <td>-0.018307</td>\n",
       "      <td>0.277838</td>\n",
       "      <td>-0.110474</td>\n",
       "      <td>0.066928</td>\n",
       "      <td>0.128539</td>\n",
       "      <td>-0.189115</td>\n",
       "      <td>0.133558</td>\n",
       "      <td>-0.021053</td>\n",
       "      <td>149.62</td>\n",
       "      <td>0</td>\n",
       "    </tr>\n",
       "    <tr>\n",
       "      <th>1</th>\n",
       "      <td>0.0</td>\n",
       "      <td>1.191857</td>\n",
       "      <td>0.266151</td>\n",
       "      <td>0.166480</td>\n",
       "      <td>0.448154</td>\n",
       "      <td>0.060018</td>\n",
       "      <td>-0.082361</td>\n",
       "      <td>-0.078803</td>\n",
       "      <td>0.085102</td>\n",
       "      <td>-0.255425</td>\n",
       "      <td>...</td>\n",
       "      <td>-0.225775</td>\n",
       "      <td>-0.638672</td>\n",
       "      <td>0.101288</td>\n",
       "      <td>-0.339846</td>\n",
       "      <td>0.167170</td>\n",
       "      <td>0.125895</td>\n",
       "      <td>-0.008983</td>\n",
       "      <td>0.014724</td>\n",
       "      <td>2.69</td>\n",
       "      <td>0</td>\n",
       "    </tr>\n",
       "    <tr>\n",
       "      <th>2</th>\n",
       "      <td>1.0</td>\n",
       "      <td>-1.358354</td>\n",
       "      <td>-1.340163</td>\n",
       "      <td>1.773209</td>\n",
       "      <td>0.379780</td>\n",
       "      <td>-0.503198</td>\n",
       "      <td>1.800499</td>\n",
       "      <td>0.791461</td>\n",
       "      <td>0.247676</td>\n",
       "      <td>-1.514654</td>\n",
       "      <td>...</td>\n",
       "      <td>0.247998</td>\n",
       "      <td>0.771679</td>\n",
       "      <td>0.909412</td>\n",
       "      <td>-0.689281</td>\n",
       "      <td>-0.327642</td>\n",
       "      <td>-0.139097</td>\n",
       "      <td>-0.055353</td>\n",
       "      <td>-0.059752</td>\n",
       "      <td>378.66</td>\n",
       "      <td>0</td>\n",
       "    </tr>\n",
       "    <tr>\n",
       "      <th>3</th>\n",
       "      <td>1.0</td>\n",
       "      <td>-0.966272</td>\n",
       "      <td>-0.185226</td>\n",
       "      <td>1.792993</td>\n",
       "      <td>-0.863291</td>\n",
       "      <td>-0.010309</td>\n",
       "      <td>1.247203</td>\n",
       "      <td>0.237609</td>\n",
       "      <td>0.377436</td>\n",
       "      <td>-1.387024</td>\n",
       "      <td>...</td>\n",
       "      <td>-0.108300</td>\n",
       "      <td>0.005274</td>\n",
       "      <td>-0.190321</td>\n",
       "      <td>-1.175575</td>\n",
       "      <td>0.647376</td>\n",
       "      <td>-0.221929</td>\n",
       "      <td>0.062723</td>\n",
       "      <td>0.061458</td>\n",
       "      <td>123.50</td>\n",
       "      <td>0</td>\n",
       "    </tr>\n",
       "    <tr>\n",
       "      <th>4</th>\n",
       "      <td>2.0</td>\n",
       "      <td>-1.158233</td>\n",
       "      <td>0.877737</td>\n",
       "      <td>1.548718</td>\n",
       "      <td>0.403034</td>\n",
       "      <td>-0.407193</td>\n",
       "      <td>0.095921</td>\n",
       "      <td>0.592941</td>\n",
       "      <td>-0.270533</td>\n",
       "      <td>0.817739</td>\n",
       "      <td>...</td>\n",
       "      <td>-0.009431</td>\n",
       "      <td>0.798278</td>\n",
       "      <td>-0.137458</td>\n",
       "      <td>0.141267</td>\n",
       "      <td>-0.206010</td>\n",
       "      <td>0.502292</td>\n",
       "      <td>0.219422</td>\n",
       "      <td>0.215153</td>\n",
       "      <td>69.99</td>\n",
       "      <td>0</td>\n",
       "    </tr>\n",
       "  </tbody>\n",
       "</table>\n",
       "<p>5 rows × 31 columns</p>\n",
       "</div>"
      ],
      "text/plain": [
       "   Time        V1        V2        V3        V4        V5        V6        V7  \\\n",
       "0   0.0 -1.359807 -0.072781  2.536347  1.378155 -0.338321  0.462388  0.239599   \n",
       "1   0.0  1.191857  0.266151  0.166480  0.448154  0.060018 -0.082361 -0.078803   \n",
       "2   1.0 -1.358354 -1.340163  1.773209  0.379780 -0.503198  1.800499  0.791461   \n",
       "3   1.0 -0.966272 -0.185226  1.792993 -0.863291 -0.010309  1.247203  0.237609   \n",
       "4   2.0 -1.158233  0.877737  1.548718  0.403034 -0.407193  0.095921  0.592941   \n",
       "\n",
       "         V8        V9  ...         V21       V22       V23       V24  \\\n",
       "0  0.098698  0.363787  ...   -0.018307  0.277838 -0.110474  0.066928   \n",
       "1  0.085102 -0.255425  ...   -0.225775 -0.638672  0.101288 -0.339846   \n",
       "2  0.247676 -1.514654  ...    0.247998  0.771679  0.909412 -0.689281   \n",
       "3  0.377436 -1.387024  ...   -0.108300  0.005274 -0.190321 -1.175575   \n",
       "4 -0.270533  0.817739  ...   -0.009431  0.798278 -0.137458  0.141267   \n",
       "\n",
       "        V25       V26       V27       V28  Amount  Class  \n",
       "0  0.128539 -0.189115  0.133558 -0.021053  149.62      0  \n",
       "1  0.167170  0.125895 -0.008983  0.014724    2.69      0  \n",
       "2 -0.327642 -0.139097 -0.055353 -0.059752  378.66      0  \n",
       "3  0.647376 -0.221929  0.062723  0.061458  123.50      0  \n",
       "4 -0.206010  0.502292  0.219422  0.215153   69.99      0  \n",
       "\n",
       "[5 rows x 31 columns]"
      ]
     },
     "execution_count": 2,
     "metadata": {},
     "output_type": "execute_result"
    }
   ],
   "source": [
    "#Import the CSV and display the header\n",
    "dfo = pd.read_csv(\"creditcard.csv\")\n",
    "dfo.head()"
   ]
  },
  {
   "cell_type": "code",
   "execution_count": 3,
   "metadata": {},
   "outputs": [
    {
     "data": {
      "image/png": "[encoded data removed]",
      "text/plain": [
       "<Figure size 432x288 with 1 Axes>"
      ]
     },
     "metadata": {
      "needs_background": "light"
     },
     "output_type": "display_data"
    },
    {
     "name": "stdout",
     "output_type": "stream",
     "text": [
      "\u001b[1mNumber of Correct Samples:\u001b[0m 284315\n",
      "\u001b[1mNumber of Fraud Samples:\u001b[0m 492\n",
      "\u001b[1mRatio of Fraud to Correct:\u001b[0m 0.0017304750013189597\n"
     ]
    }
   ],
   "source": [
    "#Portray the frequency of fraud\n",
    "count_classes = pd.value_counts(dfo['Class'], sort = True).sort_index()\n",
    "count_classes.plot(kind = 'bar')\n",
    "plt.title(\"Non-fraud Vs. Fraud\")\n",
    "plt.xlabel(\"Class: {0} = Correct \\n{1} = Fraud\")\n",
    "plt.ylabel(\"Samples\")\n",
    "plt.show()\n",
    "\n",
    "correct = count_classes.tolist()[0]\n",
    "fraud = count_classes.tolist()[1]\n",
    "print(B+\"Number of Correct Samples:\"+E, correct)\n",
    "print(B+\"Number of Fraud Samples:\"+E, fraud)\n",
    "print(B+\"Ratio of Fraud to Correct:\"+E, fraud/correct)"
   ]
  },
  {
   "cell_type": "markdown",
   "metadata": {},
   "source": [
    "**Since the # of fraud samples is only 0.17% of the dataset, the data needs to be undersampled for processing classifiers.** \n"
   ]
  },
  {
   "cell_type": "markdown",
   "metadata": {},
   "source": [
    "**Undersample the data (with 50% fraud and 50% non-fraud) to manipulate for PCA and graphing purposes**\n",
    "\n",
    "*Creating a sub-sample will solve overfitting -* With most samples as non-fraud, the classifiers will assume that almost all cases are non-frauds leading to poor precision."
   ]
  },
  {
   "cell_type": "code",
   "execution_count": 4,
   "metadata": {},
   "outputs": [
    {
     "data": {
      "text/html": [
       "<div>\n",
       "<style scoped>\n",
       "    .dataframe tbody tr th:only-of-type {\n",
       "        vertical-align: middle;\n",
       "    }\n",
       "\n",
       "    .dataframe tbody tr th {\n",
       "        vertical-align: top;\n",
       "    }\n",
       "\n",
       "    .dataframe thead th {\n",
       "        text-align: right;\n",
       "    }\n",
       "</style>\n",
       "<table border=\"1\" class=\"dataframe\">\n",
       "  <thead>\n",
       "    <tr style=\"text-align: right;\">\n",
       "      <th></th>\n",
       "      <th>V1</th>\n",
       "      <th>V2</th>\n",
       "      <th>V3</th>\n",
       "      <th>V4</th>\n",
       "      <th>V5</th>\n",
       "      <th>V6</th>\n",
       "      <th>V7</th>\n",
       "      <th>V8</th>\n",
       "      <th>V9</th>\n",
       "      <th>V10</th>\n",
       "      <th>...</th>\n",
       "      <th>V21</th>\n",
       "      <th>V22</th>\n",
       "      <th>V23</th>\n",
       "      <th>V24</th>\n",
       "      <th>V25</th>\n",
       "      <th>V26</th>\n",
       "      <th>V27</th>\n",
       "      <th>V28</th>\n",
       "      <th>Class</th>\n",
       "      <th>normAmount</th>\n",
       "    </tr>\n",
       "  </thead>\n",
       "  <tbody>\n",
       "    <tr>\n",
       "      <th>0</th>\n",
       "      <td>-1.359807</td>\n",
       "      <td>-0.072781</td>\n",
       "      <td>2.536347</td>\n",
       "      <td>1.378155</td>\n",
       "      <td>-0.338321</td>\n",
       "      <td>0.462388</td>\n",
       "      <td>0.239599</td>\n",
       "      <td>0.098698</td>\n",
       "      <td>0.363787</td>\n",
       "      <td>0.090794</td>\n",
       "      <td>...</td>\n",
       "      <td>-0.018307</td>\n",
       "      <td>0.277838</td>\n",
       "      <td>-0.110474</td>\n",
       "      <td>0.066928</td>\n",
       "      <td>0.128539</td>\n",
       "      <td>-0.189115</td>\n",
       "      <td>0.133558</td>\n",
       "      <td>-0.021053</td>\n",
       "      <td>0</td>\n",
       "      <td>0.244964</td>\n",
       "    </tr>\n",
       "    <tr>\n",
       "      <th>1</th>\n",
       "      <td>1.191857</td>\n",
       "      <td>0.266151</td>\n",
       "      <td>0.166480</td>\n",
       "      <td>0.448154</td>\n",
       "      <td>0.060018</td>\n",
       "      <td>-0.082361</td>\n",
       "      <td>-0.078803</td>\n",
       "      <td>0.085102</td>\n",
       "      <td>-0.255425</td>\n",
       "      <td>-0.166974</td>\n",
       "      <td>...</td>\n",
       "      <td>-0.225775</td>\n",
       "      <td>-0.638672</td>\n",
       "      <td>0.101288</td>\n",
       "      <td>-0.339846</td>\n",
       "      <td>0.167170</td>\n",
       "      <td>0.125895</td>\n",
       "      <td>-0.008983</td>\n",
       "      <td>0.014724</td>\n",
       "      <td>0</td>\n",
       "      <td>-0.342475</td>\n",
       "    </tr>\n",
       "    <tr>\n",
       "      <th>2</th>\n",
       "      <td>-1.358354</td>\n",
       "      <td>-1.340163</td>\n",
       "      <td>1.773209</td>\n",
       "      <td>0.379780</td>\n",
       "      <td>-0.503198</td>\n",
       "      <td>1.800499</td>\n",
       "      <td>0.791461</td>\n",
       "      <td>0.247676</td>\n",
       "      <td>-1.514654</td>\n",
       "      <td>0.207643</td>\n",
       "      <td>...</td>\n",
       "      <td>0.247998</td>\n",
       "      <td>0.771679</td>\n",
       "      <td>0.909412</td>\n",
       "      <td>-0.689281</td>\n",
       "      <td>-0.327642</td>\n",
       "      <td>-0.139097</td>\n",
       "      <td>-0.055353</td>\n",
       "      <td>-0.059752</td>\n",
       "      <td>0</td>\n",
       "      <td>1.160686</td>\n",
       "    </tr>\n",
       "    <tr>\n",
       "      <th>3</th>\n",
       "      <td>-0.966272</td>\n",
       "      <td>-0.185226</td>\n",
       "      <td>1.792993</td>\n",
       "      <td>-0.863291</td>\n",
       "      <td>-0.010309</td>\n",
       "      <td>1.247203</td>\n",
       "      <td>0.237609</td>\n",
       "      <td>0.377436</td>\n",
       "      <td>-1.387024</td>\n",
       "      <td>-0.054952</td>\n",
       "      <td>...</td>\n",
       "      <td>-0.108300</td>\n",
       "      <td>0.005274</td>\n",
       "      <td>-0.190321</td>\n",
       "      <td>-1.175575</td>\n",
       "      <td>0.647376</td>\n",
       "      <td>-0.221929</td>\n",
       "      <td>0.062723</td>\n",
       "      <td>0.061458</td>\n",
       "      <td>0</td>\n",
       "      <td>0.140534</td>\n",
       "    </tr>\n",
       "    <tr>\n",
       "      <th>4</th>\n",
       "      <td>-1.158233</td>\n",
       "      <td>0.877737</td>\n",
       "      <td>1.548718</td>\n",
       "      <td>0.403034</td>\n",
       "      <td>-0.407193</td>\n",
       "      <td>0.095921</td>\n",
       "      <td>0.592941</td>\n",
       "      <td>-0.270533</td>\n",
       "      <td>0.817739</td>\n",
       "      <td>0.753074</td>\n",
       "      <td>...</td>\n",
       "      <td>-0.009431</td>\n",
       "      <td>0.798278</td>\n",
       "      <td>-0.137458</td>\n",
       "      <td>0.141267</td>\n",
       "      <td>-0.206010</td>\n",
       "      <td>0.502292</td>\n",
       "      <td>0.219422</td>\n",
       "      <td>0.215153</td>\n",
       "      <td>0</td>\n",
       "      <td>-0.073403</td>\n",
       "    </tr>\n",
       "  </tbody>\n",
       "</table>\n",
       "<p>5 rows × 30 columns</p>\n",
       "</div>"
      ],
      "text/plain": [
       "         V1        V2        V3        V4        V5        V6        V7  \\\n",
       "0 -1.359807 -0.072781  2.536347  1.378155 -0.338321  0.462388  0.239599   \n",
       "1  1.191857  0.266151  0.166480  0.448154  0.060018 -0.082361 -0.078803   \n",
       "2 -1.358354 -1.340163  1.773209  0.379780 -0.503198  1.800499  0.791461   \n",
       "3 -0.966272 -0.185226  1.792993 -0.863291 -0.010309  1.247203  0.237609   \n",
       "4 -1.158233  0.877737  1.548718  0.403034 -0.407193  0.095921  0.592941   \n",
       "\n",
       "         V8        V9       V10     ...           V21       V22       V23  \\\n",
       "0  0.098698  0.363787  0.090794     ...     -0.018307  0.277838 -0.110474   \n",
       "1  0.085102 -0.255425 -0.166974     ...     -0.225775 -0.638672  0.101288   \n",
       "2  0.247676 -1.514654  0.207643     ...      0.247998  0.771679  0.909412   \n",
       "3  0.377436 -1.387024 -0.054952     ...     -0.108300  0.005274 -0.190321   \n",
       "4 -0.270533  0.817739  0.753074     ...     -0.009431  0.798278 -0.137458   \n",
       "\n",
       "        V24       V25       V26       V27       V28  Class  normAmount  \n",
       "0  0.066928  0.128539 -0.189115  0.133558 -0.021053      0    0.244964  \n",
       "1 -0.339846  0.167170  0.125895 -0.008983  0.014724      0   -0.342475  \n",
       "2 -0.689281 -0.327642 -0.139097 -0.055353 -0.059752      0    1.160686  \n",
       "3 -1.175575  0.647376 -0.221929  0.062723  0.061458      0    0.140534  \n",
       "4  0.141267 -0.206010  0.502292  0.219422  0.215153      0   -0.073403  \n",
       "\n",
       "[5 rows x 30 columns]"
      ]
     },
     "execution_count": 4,
     "metadata": {},
     "output_type": "execute_result"
    }
   ],
   "source": [
    "from sklearn.preprocessing import StandardScaler\n",
    "\n",
    "# StandardScalar().fit_transform(X, y=None)\n",
    "# fits data (computes mean and std) and transforms (by centering/scaling)\n",
    "# X = training set with y as target value (typically none)\n",
    "\n",
    "## STANDARDIZE THE DATA (TIME & AMOUNT) ##\n",
    "dfo['normAmount'] = StandardScaler().fit_transform(dfo['Amount'].values.reshape(-1, 1))\n",
    "df = dfo.drop(['Time','Amount'],axis=1)\n",
    "df.head()"
   ]
  },
  {
   "cell_type": "code",
   "execution_count": 5,
   "metadata": {
    "scrolled": true
   },
   "outputs": [
    {
     "name": "stdout",
     "output_type": "stream",
     "text": [
      "\u001b[1mNew undersampled sub-sample\u001b[0m\n",
      "\u001b[1mFraudulent samples:\u001b[0m 492\n",
      "\u001b[1mNon-fraud samples:\u001b[0m 492\n"
     ]
    },
    {
     "data": {
      "image/png": "[encoded data removed]",
      "text/plain": [
       "<Figure size 432x288 with 1 Axes>"
      ]
     },
     "metadata": {
      "needs_background": "light"
     },
     "output_type": "display_data"
    }
   ],
   "source": [
    "#Data\n",
    "X = df.loc[:, df.columns != 'Class']\n",
    "\n",
    "#Labels\n",
    "Y = df.loc[:, df.columns == 'Class']\n",
    "\n",
    "# Number of Fraud Records\n",
    "frecs = len(df[df.Class == 1])\n",
    "\n",
    "# Corresponding fraud indices in CSV\n",
    "fi = np.array(df[df.Class == 1].index)\n",
    "\n",
    "# Non-fruad indices in CSV\n",
    "ni = df[df.Class == 0].index\n",
    "\n",
    "# Create Array of random non-fraud indices with same size as fraud indices\n",
    "ri = np.array(np.random.choice(ni, frecs, replace = False))\n",
    "\n",
    "# Append the fraud indices with random non-fraud indices (50% fraud 50% non-fraud)\n",
    "usd = np.concatenate([fi,ri])\n",
    "\n",
    "# Under sampled dataset\n",
    "usd = df.iloc[usd,:]\n",
    "\n",
    "print(B+\"New undersampled sub-sample\"+E)\n",
    "print(B+\"Fraudulent samples:\"+E, len(fi))\n",
    "print(B+\"Non-fraud samples:\"+E, len(ri))\n",
    "\n",
    "count_classes = pd.value_counts(usd['Class'], sort = True).sort_index()\n",
    "count_classes.plot(kind = 'bar')\n",
    "plt.title(\"Sub-sample: 50% Non-fraud Vs. 50% Fraud\")\n",
    "plt.xlabel(\"Class: {0} = Non-fraud \\n{1} = Fraud\")\n",
    "plt.ylabel(\"Samples\")\n",
    "plt.show()"
   ]
  },
  {
   "cell_type": "markdown",
   "metadata": {},
   "source": [
    "**Scramble the sub-sample and divide the data/class labels for training**"
   ]
  },
  {
   "cell_type": "code",
   "execution_count": 6,
   "metadata": {},
   "outputs": [],
   "source": [
    "# Scramble the dataset so fraud isn't ordered first\n",
    "usd = usd.sample(frac=1)\n",
    "\n",
    "# Undersampled X data and Y labels via Class\n",
    "Xu = usd.loc[:, usd.columns != 'Class'] \n",
    "Yu = usd.loc[:, usd.columns == 'Class'] # Yu == 1 then fraud otherwise 0"
   ]
  },
  {
   "cell_type": "markdown",
   "metadata": {},
   "source": [
    "# Approach 1) K-Nearest Neighbor Classifier\n",
    "\n",
    "**First obtain 2-D PCA of Data**\n",
    "\n",
    "Create Training and Test sets for k-NN"
   ]
  },
  {
   "cell_type": "code",
   "execution_count": 7,
   "metadata": {},
   "outputs": [],
   "source": [
    "#Optimize the train/test lengths (this uses 15% of data as test)\n",
    "test_percent = .15\n",
    "test_len = (np.floor(test_percent*len(Xu))).astype(int)\n",
    "train_len = (len(Xu)-test_len).astype(int)\n",
    "\n",
    "#Create Training Data\n",
    "training_data = Xu[:train_len]\n",
    "training_labels = Yu[:train_len]\n",
    "\n",
    "#Create Test Data\n",
    "test_data = Xu[train_len:]\n",
    "test_labels = Yu[train_len:]"
   ]
  },
  {
   "cell_type": "code",
   "execution_count": 8,
   "metadata": {
    "scrolled": false
   },
   "outputs": [
    {
     "data": {
      "image/png": "[encoded data removed]",
      "text/plain": [
       "<Figure size 720x576 with 1 Axes>"
      ]
     },
     "metadata": {
      "needs_background": "light"
     },
     "output_type": "display_data"
    }
   ],
   "source": [
    "# Transpose the data matrix so each sample is a column\n",
    "X = training_data.T\n",
    "\n",
    "mean_vec = (np.sum(X, axis=1))/(X.shape[1])\n",
    "mean_mat = np.tile(mean_vec.values.reshape(X.shape[0],1),[1,X.shape[1]])\n",
    "\n",
    "#center the matrix\n",
    "centered_X = X - mean_mat\n",
    "\n",
    "#Singular Value Decomp centered matrix\n",
    "U, s, Vh = np.linalg.svd(centered_X)\n",
    "\n",
    "#Top 2 principal components of the centered data matrix\n",
    "U2 = U[:,0:2]\n",
    "\n",
    "#PCA features\n",
    "X_tilde = U2.T@centered_X\n",
    "\n",
    "#reconstruction\n",
    "X_hat = U2@X_tilde + mean_mat\n",
    "\n",
    "# Scatter plot for Fraud Vs. Non-Fraud\n",
    "plt.figure(figsize=(10,8))\n",
    "plt.scatter(X_tilde.T[np.where(training_labels==0),0],X_tilde.T[np.where(training_labels==0),1],c='g',marker='.',label='Non-Fraud')\n",
    "plt.scatter(X_tilde.T[np.where(training_labels==1),0],X_tilde.T[np.where(training_labels==1),1],c='r',marker='.',label='Fraud')\n",
    "plt.title('2D PCA Fraud vs. Non-Fraud')\n",
    "plt.legend()\n",
    "plt.show()"
   ]
  },
  {
   "cell_type": "markdown",
   "metadata": {},
   "source": [
    "**From this 2D PCA plot, it seems that half of fraud can be seperated. However, a good portion is still within the same region as Non-fraud**"
   ]
  },
  {
   "cell_type": "code",
   "execution_count": 9,
   "metadata": {},
   "outputs": [],
   "source": [
    "##### Find the 2D PCA features of test_data set #####\n",
    "\n",
    "# Transpose the data matrix so each sample is a column\n",
    "X = test_data.T\n",
    "\n",
    "mean_vec = (np.sum(X, axis=1))/(X.shape[1])\n",
    "mean_mat = np.tile(mean_vec.values.reshape(X.shape[0],1),[1,X.shape[1]])\n",
    "\n",
    "#center the matrix\n",
    "centered_X = X - mean_mat\n",
    "\n",
    "#Singular Value Decomp centered matrix\n",
    "U, s, Vh = np.linalg.svd(centered_X)\n",
    "\n",
    "#Top 2 principal components of the centered data matrix\n",
    "U2 = U[:,0:2]\n",
    "\n",
    "#X_tilde1 = 2D PCA features of test_set\n",
    "X_tilde1 = U2.T@centered_X"
   ]
  },
  {
   "cell_type": "markdown",
   "metadata": {},
   "source": [
    "**Creating k-NN algorithm**"
   ]
  },
  {
   "cell_type": "code",
   "execution_count": 10,
   "metadata": {},
   "outputs": [],
   "source": [
    "#Create class imagelabel(image = norm, label = 0,1)\n",
    "#Use for knn to sort data as images based on norm while keeping its label\n",
    "class imagelabel:\n",
    "    def __init__(self, image, label):\n",
    "        self.image = image\n",
    "        self.label = label\n",
    "    def __repr__(self):\n",
    "        return repr((self.image, self.label))\n",
    "\n",
    "#Create k-NN function to calculate the norms to the desired 'point'\n",
    "#Using closest 'k' # of points to classify labels\n",
    "def knn(point,k):\n",
    "    #Create a matrix to store all the norm distances w/ labels\n",
    "    norm_mat = []\n",
    "    \n",
    "    #Use the train_len pt of the training_data set\n",
    "    for i in range (0,train_len):\n",
    "        #Use X_tilde the 2D PCA features of training_data\n",
    "        #Find norm between point and training set\n",
    "        norm = np.linalg.norm(point-X_tilde.T[i])\n",
    "        \n",
    "        #append each (norm, label) using class imagelabel(norm,label)\n",
    "        if training_labels.values[i] == 0: \n",
    "            norm_mat.append(imagelabel(norm,0))\n",
    "        else:\n",
    "            norm_mat.append(imagelabel(norm,1))\n",
    "    \n",
    "    #sort based on image's closest norms\n",
    "    nmsort = sorted(norm_mat, key=lambda pt: pt.image)\n",
    "    \n",
    "    #Create counters to determine labels for k closest pts.\n",
    "    counter0 = 0\n",
    "    counter1 = 0\n",
    "    \n",
    "    #loop through k closest points\n",
    "    for i in range (0,k):\n",
    "        nms = nmsort[i]\n",
    "        if nms.label == 0: #if label = 0 counter0++\n",
    "            counter0+=1\n",
    "        else:\n",
    "            counter1+=1 #else label = 1 counter1++\n",
    "    \n",
    "    #output 0,1 label corresponding to highest counter\n",
    "    if counter0 >= counter1:\n",
    "        output = 0\n",
    "    else:\n",
    "        output = 1\n",
    "    \n",
    "    #return norm matrix, sorted norm matrix in order of closest to furthest pts, 0-1 output\n",
    "    return norm_mat, nmsort, output"
   ]
  },
  {
   "cell_type": "markdown",
   "metadata": {},
   "source": [
    "**Plotting k-NN Data with k = 5**"
   ]
  },
  {
   "cell_type": "code",
   "execution_count": 11,
   "metadata": {},
   "outputs": [],
   "source": [
    "#create right/wrong 2D pts for plotting\n",
    "xtright = []\n",
    "ytright = []\n",
    "xtwrong = []\n",
    "ytwrong = []\n",
    "\n",
    "#Counter for true/false frauds and non-frauds\n",
    "tf = 0\n",
    "tn = 0\n",
    "ff = 0\n",
    "fn = 0\n",
    "\n",
    "#loop through the test_len to compare k-NN output to label\n",
    "for i in range (0, test_len):\n",
    "    nm, nm2, o = knn(X_tilde1.T[i],5)\n",
    "    xn = X_tilde1.T[i,0]\n",
    "    yn = X_tilde1.T[i,1]\n",
    "    \n",
    "    #if output = test_label then k-NN classified right\n",
    "    #else classified wrong\n",
    "    if o == test_labels.values[i]:\n",
    "        xtright.append(xn) #append right pts for plot\n",
    "        ytright.append(yn)\n",
    "        #print('index',i, o, 'right')\n",
    "        #Increment True counters accordingly\n",
    "        if o == 1:\n",
    "            tf+=1\n",
    "        else:\n",
    "            tn+=1\n",
    "            \n",
    "    else:\n",
    "        xtwrong.append(xn) #append wrong pts for plot\n",
    "        ytwrong.append(yn)\n",
    "        #print('index:',i, o, 'wrong')\n",
    "        #Increment False counters accordingly\n",
    "        if o == 1:\n",
    "            ff+=1\n",
    "        else:\n",
    "            fn+=1\n"
   ]
  },
  {
   "cell_type": "code",
   "execution_count": 12,
   "metadata": {},
   "outputs": [
    {
     "data": {
      "image/png": "[encoded data removed]",
      "text/plain": [
       "<Figure size 720x576 with 1 Axes>"
      ]
     },
     "metadata": {
      "needs_background": "light"
     },
     "output_type": "display_data"
    },
    {
     "name": "stdout",
     "output_type": "stream",
     "text": [
      "\u001b[1mError with k = 5:\u001b[0m 0.11564625850340136\n"
     ]
    }
   ],
   "source": [
    "#Plotting on graph and displaying error\n",
    "\n",
    "plt.figure(figsize=(10,8))\n",
    "plt.scatter(X_tilde.T[:,0],X_tilde.T[:,1], color = 'green', marker = '.', label = '2D PCA Training_Data')\n",
    "plt.scatter(xtright,ytright, color = 'blue', marker = '.', label = 'Correctly Classified')\n",
    "plt.scatter(xtwrong,ytwrong, color = 'black', marker = '.', label = 'Incorrectly Classified')\n",
    "plt.title('2D PCA k-NN testing_data vs. training_data k = 5')\n",
    "plt.legend()\n",
    "plt.show()\n",
    "\n",
    "err = len(xtwrong)/test_len\n",
    "print(B+'Error with k = 5:'+E, err)"
   ]
  },
  {
   "cell_type": "markdown",
   "metadata": {},
   "source": [
    "## From 2-D PCA it is apparent that the outliers can be classified, but a decent amount of frauds are too close to non-frauds. This would lead to more false reports. \n",
    "## **To fix this issue, metrics from the binary matrix should be analyzed in depth.**\n",
    "\n",
    "**The Recall metric would help determine the amount of false non-frauds (frauds that went undetected as innocent)**\n",
    "\n",
    "**The Precision metric would help determine the amount of false frauds (innocent transactions that were mistakenly detected as fraud)**\n",
    "\n",
    "*Recall* = True pos/(True pos + False neg)\n",
    "\n",
    "*Recall* = True fraud/(True fraud + False non-fraud)\n",
    "\n",
    "*Precision* = True pos/(True pos + False pos)\n",
    "\n",
    "*Precision* = True fraud/(True fraud + False Fraud)"
   ]
  },
  {
   "cell_type": "code",
   "execution_count": 13,
   "metadata": {},
   "outputs": [
    {
     "name": "stdout",
     "output_type": "stream",
     "text": [
      "\u001b[1mTrue/False k-NN results\u001b[0m\n",
      "True Fraud = 73\n",
      "True Non-fraud = 57\n",
      "False Fraud = 3\n",
      "False Non-fraud = 14\n"
     ]
    }
   ],
   "source": [
    "print(B+\"True/False k-NN results\"+E)\n",
    "print(\"True Fraud =\", tf)\n",
    "print(\"True Non-fraud =\", tn)\n",
    "print(\"False Fraud =\", ff)\n",
    "print(\"False Non-fraud =\", fn)"
   ]
  },
  {
   "cell_type": "markdown",
   "metadata": {},
   "source": [
    "**Define function to create and plot a binary confusion matrix**"
   ]
  },
  {
   "cell_type": "code",
   "execution_count": 14,
   "metadata": {},
   "outputs": [],
   "source": [
    "import itertools\n",
    "\n",
    "## Define function to plot matrix based on:\n",
    "## [[True Non, False Fraud],[False Non, True Fraud]]\n",
    "\n",
    "def plot_confusion_matrix(cm, title = 'Confusion Matrix'):\n",
    "    \n",
    "    plt.figure()\n",
    "    plt.imshow(cm, interpolation='nearest', cmap=plt.cm.PuBuGn)\n",
    "    plt.title(title)\n",
    "    tick_marks = np.arange(len([0,1]))\n",
    "    plt.xticks(tick_marks, [\"Non-Fraud {0}\",\"Fraud {1}\"], rotation=0)\n",
    "    plt.yticks(tick_marks, [\"Non-Fraud {0}\",\"Fraud {1}\"])\n",
    "    plt.xlabel('Predicted label')\n",
    "    plt.ylabel('True label')\n",
    "    plt.colorbar()\n",
    "    \n",
    "    thresh = cm.max() / 2.\n",
    "    for i, j in itertools.product(range(cm.shape[0]), range(cm.shape[1])):\n",
    "        plt.text(j, i, cm[i, j],\n",
    "                 horizontalalignment=\"center\",\n",
    "                 color=\"white\" if cm[i, j] > thresh else \"black\")\n",
    "    plt.show()\n",
    "    print(B+\"Matrix Recall: \"+E+ str(cm[1,1]/(cm[1,0] + cm[1,1])*100) +\" %\")\n",
    "    print(B+\"Matrix Precision: \"+E+ str(cm[1,1]/(cm[1,1] + cm[0,1])*100) +\" %\")"
   ]
  },
  {
   "cell_type": "code",
   "execution_count": 15,
   "metadata": {},
   "outputs": [
    {
     "data": {
      "image/png": "[encoded data removed]",
      "text/plain": [
       "<Figure size 432x288 with 2 Axes>"
      ]
     },
     "metadata": {
      "needs_background": "light"
     },
     "output_type": "display_data"
    },
    {
     "name": "stdout",
     "output_type": "stream",
     "text": [
      "\u001b[1mMatrix Recall: \u001b[0m83.9080459770115 %\n",
      "\u001b[1mMatrix Precision: \u001b[0m96.05263157894737 %\n"
     ]
    }
   ],
   "source": [
    "knncm = np.array([[tn,ff],[fn,tf]])\n",
    "class_names = [\"Non-Fraud {0}\",\"Fraud {1}\"]\n",
    "plot_confusion_matrix(knncm)"
   ]
  },
  {
   "cell_type": "markdown",
   "metadata": {},
   "source": [
    "Recall and precision affect each other inversely. Higher recall would lead to lower precision and vice versa.\n",
    "\n",
    "Maximizing both is ideal, but Recall should be prioritized as it maximizes the detection of frauds (both real and fake). Whereas precision affects the rate of false alarms, an innocent result compared to the prior.\n",
    "\n",
    "*Note: K-means centroid clustering may be a better solution to this problem due to the large variation of the given features.*"
   ]
  },
  {
   "cell_type": "markdown",
   "metadata": {},
   "source": [
    "# Approach 2) Logistic Regression Classifier"
   ]
  },
  {
   "cell_type": "code",
   "execution_count": 34,
   "metadata": {},
   "outputs": [],
   "source": [
    "from sklearn.linear_model import LogisticRegression\n",
    "from sklearn.cross_validation import KFold\n",
    "from sklearn.metrics import recall_score\n",
    "from sklearn.metrics import confusion_matrix"
   ]
  },
  {
   "cell_type": "code",
   "execution_count": 17,
   "metadata": {},
   "outputs": [],
   "source": [
    "def printing_Kfold_scores(x_train_data,y_train_data):\n",
    "    fold = KFold(len(y_train_data),5,shuffle=False) \n",
    "\n",
    "    # Different C parameters\n",
    "    c_param_range = [0.01,0.1,1,10,100]\n",
    "\n",
    "    results_table = pd.DataFrame(index = range(len(c_param_range),2), columns = ['C_parameter','Mean recall score'])\n",
    "    results_table['C_parameter'] = c_param_range\n",
    "\n",
    "    # the k-fold will give 2 lists: train_indices = indices[0], test_indices = indices[1]\n",
    "    j = 0\n",
    "    for c_param in c_param_range:\n",
    "        print('-------------------------------------------')\n",
    "        print('C parameter: ', c_param)\n",
    "        print('-------------------------------------------')\n",
    "        print('')\n",
    "\n",
    "        recall_accs = []\n",
    "        for iteration, indices in enumerate(fold,start=1):\n",
    "\n",
    "            # Call the logistic regression model with a certain C parameter\n",
    "            lr = LogisticRegression(C = c_param, penalty = 'l1')\n",
    "\n",
    "            # Use the training data to fit the model. In this case, we use the portion of the fold to train the model\n",
    "            # with indices[0]. We then predict on the portion assigned as the 'test cross validation' with indices[1]\n",
    "            lr.fit(x_train_data.iloc[indices[0],:],y_train_data.iloc[indices[0],:].values.ravel())\n",
    "\n",
    "            # Predict values using the test indices in the training data\n",
    "            y_pred_undersample = lr.predict(x_train_data.iloc[indices[1],:].values)\n",
    "\n",
    "            # Calculate the recall score and append it to a list for recall scores representing the current c_parameter\n",
    "            recall_acc = recall_score(y_train_data.iloc[indices[1],:].values,y_pred_undersample)\n",
    "            recall_accs.append(recall_acc)\n",
    "            print('Iteration ', iteration,': recall score = ', recall_acc)\n",
    "\n",
    "        # The mean value of those recall scores is the metric we want to save and get hold of.\n",
    "        results_table.loc[j,'Mean recall score'] = np.mean(recall_accs)\n",
    "        j += 1\n",
    "        print('')\n",
    "        print('Mean recall score ', np.mean(recall_accs))\n",
    "        print('')\n",
    "\n",
    "    best_c = results_table\n",
    "    best_c.dtypes.eq(object) # you can see the type of best_c\n",
    "    new = best_c.columns[best_c.dtypes.eq(object)] #get the object column of the best_c\n",
    "    best_c[new] = best_c[new].apply(pd.to_numeric, errors = 'coerce', axis=0) # change the type of object\n",
    "    best_c\n",
    "    best_c = results_table.loc[results_table['Mean recall score'].idxmax()]['C_parameter'] #calculate the mean values\n",
    "    \n",
    "    # Finally, we can check which C parameter is the best amongst the chosen.\n",
    "    print('*********************************************************************************')\n",
    "    print('Best model to choose from cross validation is with C parameter = ', best_c)\n",
    "    print('*********************************************************************************')\n",
    "    \n",
    "    return best_c"
   ]
  },
  {
   "cell_type": "code",
   "execution_count": 18,
   "metadata": {},
   "outputs": [
    {
     "name": "stdout",
     "output_type": "stream",
     "text": [
      "-------------------------------------------\n",
      "C parameter:  0.01\n",
      "-------------------------------------------\n",
      "\n",
      "Iteration  1 : recall score =  0.8764044943820225\n",
      "Iteration  2 : recall score =  0.9367088607594937\n",
      "Iteration  3 : recall score =  0.9529411764705882\n",
      "Iteration  4 : recall score =  0.961038961038961\n",
      "Iteration  5 : recall score =  0.92\n",
      "\n",
      "Mean recall score  0.9294186985302131\n",
      "\n",
      "-------------------------------------------\n",
      "C parameter:  0.1\n",
      "-------------------------------------------\n",
      "\n",
      "Iteration  1 : recall score =  0.8539325842696629\n",
      "Iteration  2 : recall score =  0.8860759493670886\n",
      "Iteration  3 : recall score =  0.9294117647058824\n",
      "Iteration  4 : recall score =  0.8831168831168831\n",
      "Iteration  5 : recall score =  0.9066666666666666\n",
      "\n",
      "Mean recall score  0.8918407696252366\n",
      "\n",
      "-------------------------------------------\n",
      "C parameter:  1\n",
      "-------------------------------------------\n",
      "\n",
      "Iteration  1 : recall score =  0.8764044943820225\n",
      "Iteration  2 : recall score =  0.9113924050632911\n",
      "Iteration  3 : recall score =  0.9294117647058824\n",
      "Iteration  4 : recall score =  0.9090909090909091\n",
      "Iteration  5 : recall score =  0.92\n",
      "\n",
      "Mean recall score  0.9092599146484209\n",
      "\n",
      "-------------------------------------------\n",
      "C parameter:  10\n",
      "-------------------------------------------\n",
      "\n",
      "Iteration  1 : recall score =  0.8876404494382022\n",
      "Iteration  2 : recall score =  0.9240506329113924\n",
      "Iteration  3 : recall score =  0.9294117647058824\n",
      "Iteration  4 : recall score =  0.9090909090909091\n",
      "Iteration  5 : recall score =  0.9333333333333333\n",
      "\n",
      "Mean recall score  0.916705417895944\n",
      "\n",
      "-------------------------------------------\n",
      "C parameter:  100\n",
      "-------------------------------------------\n",
      "\n",
      "Iteration  1 : recall score =  0.8876404494382022\n",
      "Iteration  2 : recall score =  0.9240506329113924\n",
      "Iteration  3 : recall score =  0.9294117647058824\n",
      "Iteration  4 : recall score =  0.9090909090909091\n",
      "Iteration  5 : recall score =  0.9333333333333333\n",
      "\n",
      "Mean recall score  0.916705417895944\n",
      "\n",
      "*********************************************************************************\n",
      "Best model to choose from cross validation is with C parameter =  0.01\n",
      "*********************************************************************************\n"
     ]
    }
   ],
   "source": [
    "best_c = printing_Kfold_scores(training_data,training_labels)"
   ]
  },
  {
   "cell_type": "code",
   "execution_count": 19,
   "metadata": {},
   "outputs": [
    {
     "data": {
      "image/png": "[encoded data removed]",
      "text/plain": [
       "<Figure size 432x288 with 2 Axes>"
      ]
     },
     "metadata": {
      "needs_background": "light"
     },
     "output_type": "display_data"
    },
    {
     "name": "stdout",
     "output_type": "stream",
     "text": [
      "\u001b[1mMatrix Recall: \u001b[0m91.95402298850574 %\n",
      "\u001b[1mMatrix Precision: \u001b[0m96.3855421686747 %\n"
     ]
    }
   ],
   "source": [
    "# Use this C_parameter to build the final model with the whole training dataset and predict the classes in the test\n",
    "# dataset\n",
    "lr = LogisticRegression(C = best_c, penalty = 'l1')\n",
    "lr.fit(training_data,training_labels.values.ravel())\n",
    "y_pred_undersample = lr.predict(test_data.values)\n",
    "\n",
    "# Compute confusion matrix\n",
    "cnf_matrix = confusion_matrix(test_labels,y_pred_undersample)\n",
    "np.set_printoptions(precision=2)\n",
    "\n",
    "# Plot non-normalized confusion matrix\n",
    "\n",
    "plot_confusion_matrix(cnf_matrix)\n"
   ]
  },
  {
   "cell_type": "markdown",
   "metadata": {},
   "source": [
    "## Approach 3) Support Vector Machine Classifier"
   ]
  },
  {
   "cell_type": "code",
   "execution_count": 20,
   "metadata": {},
   "outputs": [
    {
     "data": {
      "text/plain": [
       "SVC(C=1, cache_size=200, class_weight=None, coef0=0.0,\n",
       "  decision_function_shape='ovr', degree=3, gamma='auto', kernel='rbf',\n",
       "  max_iter=-1, probability=False, random_state=0, shrinking=True,\n",
       "  tol=0.001, verbose=False)"
      ]
     },
     "execution_count": 20,
     "metadata": {},
     "output_type": "execute_result"
    }
   ],
   "source": [
    "#Using the gaussian kernel to build the initail model. Let us see if this is the best parameter later\n",
    "from sklearn.svm import SVC\n",
    "\n",
    "classifier= SVC(C= 1, kernel= 'rbf', random_state= 0)\n",
    "classifier.fit(training_data, training_labels.values.ravel())"
   ]
  },
  {
   "cell_type": "code",
   "execution_count": 21,
   "metadata": {},
   "outputs": [],
   "source": [
    "#Predict the class using X_test\n",
    "y_pred = classifier.predict(test_data)"
   ]
  },
  {
   "cell_type": "code",
   "execution_count": 22,
   "metadata": {},
   "outputs": [],
   "source": [
    "#cm1 is the confusion matrix 1 which uses the undersampled dataset\n",
    "cm1 = confusion_matrix(test_labels, y_pred)"
   ]
  },
  {
   "cell_type": "code",
   "execution_count": 23,
   "metadata": {},
   "outputs": [
    {
     "data": {
      "image/png": "[encoded data removed]",
      "text/plain": [
       "<Figure size 432x288 with 2 Axes>"
      ]
     },
     "metadata": {
      "needs_background": "light"
     },
     "output_type": "display_data"
    },
    {
     "name": "stdout",
     "output_type": "stream",
     "text": [
      "\u001b[1mMatrix Recall: \u001b[0m96.55172413793103 %\n",
      "\u001b[1mMatrix Precision: \u001b[0m95.45454545454545 %\n"
     ]
    }
   ],
   "source": [
    "from sklearn.metrics import confusion_matrix\n",
    "    \n",
    "plot_confusion_matrix(cm1)\n"
   ]
  },
  {
   "cell_type": "code",
   "execution_count": 24,
   "metadata": {},
   "outputs": [
    {
     "name": "stdout",
     "output_type": "stream",
     "text": [
      "The mean accuracy in %:  92.24695420336809\n",
      "The standard deviation in %  2.4106366684547886\n",
      "The accuracy of our model in % is betweeen 89.8363175349133 and 94.65759087182288\n"
     ]
    }
   ],
   "source": [
    "from sklearn.model_selection import cross_val_score\n",
    "\n",
    "#Applying 10 fold cross validation\n",
    "accuracies = cross_val_score(estimator = classifier, X=training_data, y = training_labels.values.ravel(), cv = 10)\n",
    "mean_accuracy= accuracies.mean()*100\n",
    "std_accuracy= accuracies.std()*100\n",
    "print(\"The mean accuracy in %: \", accuracies.mean()*100)\n",
    "print(\"The standard deviation in % \", accuracies.std()*100)\n",
    "print(\"The accuracy of our model in % is betweeen {} and {}\".format(mean_accuracy-std_accuracy, mean_accuracy+std_accuracy))"
   ]
  },
  {
   "cell_type": "code",
   "execution_count": 25,
   "metadata": {},
   "outputs": [
    {
     "name": "stdout",
     "output_type": "stream",
     "text": [
      "The best accuracy using gridSearch is 0.9414575866188769\n",
      "The best parameters for using this model is {'C': 100, 'kernel': 'linear'}\n"
     ]
    }
   ],
   "source": [
    "from sklearn.model_selection import GridSearchCV\n",
    "\n",
    "#applying gridsearchCV to our classifier\n",
    "#Specifying the parameters in dictionaries to try out different parameters.\n",
    "#The GridSearchCV will try all the parameters and give us the best parameters\n",
    "\n",
    "parameters = [{'C': [1, 10, 100, 1000], 'kernel': ['linear']},\n",
    "              {'C': [1, 10, 100, 1000], 'kernel': ['rbf'], 'gamma': [0.1, 0.2, 0.3, 0.4, 0.5, 0.6, 0.7, 0.8, 0.9]}]\n",
    "\n",
    "grid_search = GridSearchCV(estimator = classifier,\n",
    "                           param_grid = parameters,\n",
    "                           scoring = 'accuracy',\n",
    "                           cv = 10,\n",
    "                           n_jobs = -1)\n",
    "grid_search = grid_search.fit(training_data, training_labels.values.ravel())\n",
    "best_accuracy = grid_search.best_score_\n",
    "print(\"The best accuracy using gridSearch is\", best_accuracy)\n",
    "\n",
    "best_parameters = grid_search.best_params_\n",
    "print(\"The best parameters for using this model is\", best_parameters)"
   ]
  },
  {
   "cell_type": "code",
   "execution_count": 26,
   "metadata": {},
   "outputs": [
    {
     "data": {
      "image/png": "[encoded data removed]",
      "text/plain": [
       "<Figure size 432x288 with 2 Axes>"
      ]
     },
     "metadata": {
      "needs_background": "light"
     },
     "output_type": "display_data"
    },
    {
     "name": "stdout",
     "output_type": "stream",
     "text": [
      "\u001b[1mMatrix Recall: \u001b[0m96.55172413793103 %\n",
      "\u001b[1mMatrix Precision: \u001b[0m95.45454545454545 %\n"
     ]
    },
    {
     "data": {
      "image/png": "[encoded data removed]",
      "text/plain": [
       "<Figure size 432x288 with 2 Axes>"
      ]
     },
     "metadata": {
      "needs_background": "light"
     },
     "output_type": "display_data"
    },
    {
     "name": "stdout",
     "output_type": "stream",
     "text": [
      "\u001b[1mMatrix Recall: \u001b[0m95.40229885057471 %\n",
      "\u001b[1mMatrix Precision: \u001b[0m97.6470588235294 %\n"
     ]
    }
   ],
   "source": [
    "#fitting the model with the best parameters\n",
    "classifier_with_best_parameters =  SVC(C= best_parameters[\"C\"], kernel= best_parameters[\"kernel\"], random_state= 0)\n",
    "classifier_with_best_parameters.fit(training_data, training_labels.values.ravel())\n",
    "\n",
    "#predicting the Class \n",
    "y_pred_best_parameters = classifier_with_best_parameters.predict(test_data)\n",
    "\n",
    "#creating a confusion matrix\n",
    "#cm2 is the confusion matrix  which uses the best parameters\n",
    "cm2 = confusion_matrix(test_labels, y_pred_best_parameters)\n",
    "#visualizing the confusion matrix\n",
    "\n",
    "#matrix 1\n",
    "plot_confusion_matrix(cm1, title = \"Confusion Matrix with default C = 1 parameter\")\n",
    "plt.show()\n",
    "\n",
    "#matrix 2\n",
    "plot_confusion_matrix(cm2, title = \"Confusion Matrix with optimal C parameter\")\n",
    "plt.show()"
   ]
  },
  {
   "cell_type": "markdown",
   "metadata": {},
   "source": [
    "## Comparing the three sub-set Approaches with testing on the full Data Set"
   ]
  },
  {
   "cell_type": "code",
   "execution_count": 27,
   "metadata": {},
   "outputs": [
    {
     "name": "stdout",
     "output_type": "stream",
     "text": [
      "Number transactions train dataset:  242085\n",
      "Number transactions test dataset:  42722\n",
      "Total number of transactions:  284807\n"
     ]
    }
   ],
   "source": [
    "from sklearn.cross_validation import train_test_split\n",
    "\n",
    "#Data\n",
    "X = df.loc[:, df.columns != 'Class']\n",
    "\n",
    "#Labels\n",
    "Y = df.loc[:, df.columns == 'Class']\n",
    "\n",
    "# Whole dataset\n",
    "X_train, X_test, y_train, y_test = train_test_split(X,Y,test_size = 0.15, random_state = 0)\n",
    "\n",
    "print(\"Number transactions train dataset: \", len(X_train))\n",
    "print(\"Number transactions test dataset: \", len(X_test))\n",
    "print(\"Total number of transactions: \", len(X_train)+len(X_test))"
   ]
  },
  {
   "cell_type": "markdown",
   "metadata": {},
   "source": [
    "**Singular Vector Machine Matrix** "
   ]
  },
  {
   "cell_type": "code",
   "execution_count": 28,
   "metadata": {},
   "outputs": [
    {
     "name": "stdout",
     "output_type": "stream",
     "text": [
      "SVM Classifier\n"
     ]
    },
    {
     "data": {
      "image/png": "[encoded data removed]",
      "text/plain": [
       "<Figure size 432x288 with 2 Axes>"
      ]
     },
     "metadata": {
      "needs_background": "light"
     },
     "output_type": "display_data"
    },
    {
     "name": "stdout",
     "output_type": "stream",
     "text": [
      "\u001b[1mMatrix Recall: \u001b[0m95.94594594594594 %\n",
      "\u001b[1mMatrix Precision: \u001b[0m4.4044665012406945 %\n"
     ]
    }
   ],
   "source": [
    "# predicting y_pred_full_dataset\n",
    "y_pred_full_dataset= classifier_with_best_parameters.predict(X_test)\n",
    "\n",
    "# confusion matrix usign y_test_full and ypred_full\n",
    "cm3 = confusion_matrix(y_test, y_pred_full_dataset)\n",
    "\n",
    "print(\"SVM Classifier\")\n",
    "plot_confusion_matrix(cm3, \"Support Vector Matrix\")"
   ]
  },
  {
   "cell_type": "code",
   "execution_count": 29,
   "metadata": {},
   "outputs": [],
   "source": [
    "# logistic regression\n",
    "# Use this C_parameter to build the final model with the whole training dataset and predict the classes in the test\n",
    "# dataset\n",
    "lr = LogisticRegression(C = best_c, penalty = 'l1')\n",
    "lr.fit(training_data,training_labels.values.ravel())\n",
    "y_pred = lr.predict(X_test.values)\n",
    "\n",
    "# Compute confusion matrix\n",
    "cnf_matrix = confusion_matrix(y_test,y_pred)\n",
    "np.set_printoptions(precision=2)"
   ]
  },
  {
   "cell_type": "code",
   "execution_count": 30,
   "metadata": {},
   "outputs": [],
   "source": [
    "# knn full dataset confusion matrix\n",
    "from sklearn.neighbors import KNeighborsClassifier\n",
    "classifier= KNeighborsClassifier(n_neighbors = 5)\n",
    "classifier.fit(training_data, training_labels.values.ravel())\n",
    "\n",
    "y_predknn = classifier.predict(X_test)\n",
    "cm4 = confusion_matrix(y_test,y_predknn)"
   ]
  },
  {
   "cell_type": "code",
   "execution_count": 31,
   "metadata": {},
   "outputs": [
    {
     "name": "stdout",
     "output_type": "stream",
     "text": [
      "SVM Classifier\n"
     ]
    },
    {
     "data": {
      "image/png": "[encoded data removed]",
      "text/plain": [
       "<Figure size 432x288 with 2 Axes>"
      ]
     },
     "metadata": {
      "needs_background": "light"
     },
     "output_type": "display_data"
    },
    {
     "name": "stdout",
     "output_type": "stream",
     "text": [
      "\u001b[1mMatrix Recall: \u001b[0m95.94594594594594 %\n",
      "\u001b[1mMatrix Precision: \u001b[0m4.4044665012406945 %\n"
     ]
    }
   ],
   "source": [
    "print(\"SVM Classifier\")\n",
    "plot_confusion_matrix(cm3, \"Support Vector Matrix\")"
   ]
  },
  {
   "cell_type": "code",
   "execution_count": 32,
   "metadata": {},
   "outputs": [
    {
     "name": "stdout",
     "output_type": "stream",
     "text": [
      "Logistic Regression Classifier\n"
     ]
    },
    {
     "data": {
      "image/png": "[encoded data removed]",
      "text/plain": [
       "<Figure size 432x288 with 2 Axes>"
      ]
     },
     "metadata": {
      "needs_background": "light"
     },
     "output_type": "display_data"
    },
    {
     "name": "stdout",
     "output_type": "stream",
     "text": [
      "\u001b[1mMatrix Recall: \u001b[0m94.5945945945946 %\n",
      "\u001b[1mMatrix Precision: \u001b[0m3.68809272918862 %\n"
     ]
    }
   ],
   "source": [
    "print(\"Logistic Regression Classifier\")\n",
    "plot_confusion_matrix(cnf_matrix, \"Logistic Regression Matrix\")"
   ]
  },
  {
   "cell_type": "code",
   "execution_count": 33,
   "metadata": {},
   "outputs": [
    {
     "name": "stdout",
     "output_type": "stream",
     "text": [
      "kNN Classifier\n"
     ]
    },
    {
     "data": {
      "image/png": "[encoded data removed]",
      "text/plain": [
       "<Figure size 432x288 with 2 Axes>"
      ]
     },
     "metadata": {
      "needs_background": "light"
     },
     "output_type": "display_data"
    },
    {
     "name": "stdout",
     "output_type": "stream",
     "text": [
      "\u001b[1mMatrix Recall: \u001b[0m93.24324324324324 %\n",
      "\u001b[1mMatrix Precision: \u001b[0m7.348242811501597 %\n"
     ]
    }
   ],
   "source": [
    "print(\"kNN Classifier\")\n",
    "plot_confusion_matrix(cm4, title = \"k-Nearest Neighbor Matrix\")"
   ]
  },
  {
   "cell_type": "markdown",
   "metadata": {},
   "source": [
    "*In conclusion:*\n",
    "1. SVM was the better model as it had the best recall (comparable to Logistic Regression) and precision. \n",
    "2. Logistic Regression was comparable to SVM as it had similar recall rates. \n",
    "    - However, SVM had the higher precision rate and thus was better than LR. Higher precision would lead to less false fraud alarms.\n",
    "3. kNN was the worst model in terms of detecting fraud as it had the worst recall rate.\n",
    "   - However, kNN had the highest precision rate leading to the best model in terms of reporting false fraud alarms."
   ]
  }
 ],
 "metadata": {
  "kernelspec": {
   "display_name": "Python 3",
   "language": "python",
   "name": "python3"
  },
  "language_info": {
   "codemirror_mode": {
    "name": "ipython",
    "version": 3
   },
   "file_extension": ".py",
   "mimetype": "text/x-python",
   "name": "python",
   "nbconvert_exporter": "python",
   "pygments_lexer": "ipython3",
   "version": "3.7.0"
  }
 },
 "nbformat": 4,
 "nbformat_minor": 2
}
