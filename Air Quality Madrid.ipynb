{
 "cells": [
  {
   "cell_type": "markdown",
   "metadata": {},
   "source": [
    "# Air Quality in Madrid 2018"
   ]
  },
  {
   "cell_type": "code",
   "execution_count": 6,
   "metadata": {},
   "outputs": [
    {
     "data": {
      "text/plain": [
       "'\\ndata = np.array(data)\\nprint(data.shape)\\n\\nairq = data[1:-1,1:15]\\nstation = data[1:-1,15]\\nprint(airq.shape)\\nprint(station.shape)\\nairq = airq.astype(np.float)\\nstation = station.astype(np.int)\\nprint(airq[0,0]/0.5)\\nprint(station[0])\\n'"
      ]
     },
     "execution_count": 6,
     "metadata": {},
     "output_type": "execute_result"
    }
   ],
   "source": [
    "import csv\n",
    "import numpy as np\n",
    "import pandas as pd\n",
    "\n",
    "with open('madrid_2018.csv', newline='') as csvfile:\n",
    "    data = list(csv.reader(csvfile))\n",
    "    \n",
    "dfo = pd.read_csv(\"madrid_2018.csv\")\n",
    "dfo.head()\n",
    "\n",
    "\"\"\"\n",
    "data = np.array(data)\n",
    "print(data.shape)\n",
    "\n",
    "airq = data[1:-1,1:15]\n",
    "station = data[1:-1,15]\n",
    "print(airq.shape)\n",
    "print(station.shape)\n",
    "airq = airq.astype(np.float)\n",
    "station = station.astype(np.int)\n",
    "print(airq[0,0]/0.5)\n",
    "print(station[0])\n",
    "\"\"\""
   ]
  },
  {
   "cell_type": "code",
   "execution_count": null,
   "metadata": {},
   "outputs": [],
   "source": []
  }
 ],
 "metadata": {
  "kernelspec": {
   "display_name": "Python 3",
   "language": "python",
   "name": "python3"
  },
  "language_info": {
   "codemirror_mode": {
    "name": "ipython",
    "version": 3
   },
   "file_extension": ".py",
   "mimetype": "text/x-python",
   "name": "python",
   "nbconvert_exporter": "python",
   "pygments_lexer": "ipython3",
   "version": "3.6.5"
  }
 },
 "nbformat": 4,
 "nbformat_minor": 2
}
