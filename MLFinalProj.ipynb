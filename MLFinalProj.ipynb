{
 "cells": [
  {
   "cell_type": "markdown",
   "metadata": {},
   "source": [
    "# Original Dataset: Air Quality in Madrid in 2018"
   ]
  },
  {
   "cell_type": "markdown",
   "metadata": {},
   "source": [
    "The .csv file shows the air quality parameters (chemicals) measured at each of the stations in Madrid every 24 hours over the course of 4 months (January to April) in 2018. \n",
    "\n",
    "We originally planned to use regression on this dataset; however, we found that it was too difficult. There was no one parameter that would address air quality and instead showed the measurements of various chemicals in the air. There was also insuffient data; where many of the stations were missing half the chemicals. The only consistent readings among the chemcials was NO, NO_2, and NO_x. We would have needed to choose one as our target and two as our data, we would not have suffient information for a regression. Also, the presence of certain chemicals does not neccessairly correlate with the presence of other chemicals, so it would not have been a good dataset to choose for a regression classifier."
   ]
  },
  {
   "cell_type": "code",
   "execution_count": 11,
   "metadata": {},
   "outputs": [
    {
     "data": {
      "text/html": [
       "<div>\n",
       "<style scoped>\n",
       "    .dataframe tbody tr th:only-of-type {\n",
       "        vertical-align: middle;\n",
       "    }\n",
       "\n",
       "    .dataframe tbody tr th {\n",
       "        vertical-align: top;\n",
       "    }\n",
       "\n",
       "    .dataframe thead th {\n",
       "        text-align: right;\n",
       "    }\n",
       "</style>\n",
       "<table border=\"1\" class=\"dataframe\">\n",
       "  <thead>\n",
       "    <tr style=\"text-align: right;\">\n",
       "      <th></th>\n",
       "      <th>date</th>\n",
       "      <th>BEN</th>\n",
       "      <th>CH4</th>\n",
       "      <th>CO</th>\n",
       "      <th>EBE</th>\n",
       "      <th>NMHC</th>\n",
       "      <th>NO</th>\n",
       "      <th>NO_2</th>\n",
       "      <th>NOx</th>\n",
       "      <th>O_3</th>\n",
       "      <th>PM10</th>\n",
       "      <th>PM25</th>\n",
       "      <th>SO_2</th>\n",
       "      <th>TCH</th>\n",
       "      <th>TOL</th>\n",
       "      <th>station</th>\n",
       "    </tr>\n",
       "  </thead>\n",
       "  <tbody>\n",
       "    <tr>\n",
       "      <th>0</th>\n",
       "      <td>2018-03-01 01:00:00</td>\n",
       "      <td>NaN</td>\n",
       "      <td>NaN</td>\n",
       "      <td>0.3</td>\n",
       "      <td>NaN</td>\n",
       "      <td>NaN</td>\n",
       "      <td>1.0</td>\n",
       "      <td>29.0</td>\n",
       "      <td>31.0</td>\n",
       "      <td>NaN</td>\n",
       "      <td>NaN</td>\n",
       "      <td>NaN</td>\n",
       "      <td>2.0</td>\n",
       "      <td>NaN</td>\n",
       "      <td>NaN</td>\n",
       "      <td>28079004</td>\n",
       "    </tr>\n",
       "    <tr>\n",
       "      <th>1</th>\n",
       "      <td>2018-03-01 01:00:00</td>\n",
       "      <td>0.5</td>\n",
       "      <td>1.39</td>\n",
       "      <td>0.3</td>\n",
       "      <td>0.2</td>\n",
       "      <td>0.02</td>\n",
       "      <td>6.0</td>\n",
       "      <td>40.0</td>\n",
       "      <td>49.0</td>\n",
       "      <td>52.0</td>\n",
       "      <td>5.0</td>\n",
       "      <td>4.0</td>\n",
       "      <td>3.0</td>\n",
       "      <td>1.41</td>\n",
       "      <td>0.8</td>\n",
       "      <td>28079008</td>\n",
       "    </tr>\n",
       "    <tr>\n",
       "      <th>2</th>\n",
       "      <td>2018-03-01 01:00:00</td>\n",
       "      <td>0.4</td>\n",
       "      <td>NaN</td>\n",
       "      <td>NaN</td>\n",
       "      <td>0.2</td>\n",
       "      <td>NaN</td>\n",
       "      <td>4.0</td>\n",
       "      <td>41.0</td>\n",
       "      <td>47.0</td>\n",
       "      <td>NaN</td>\n",
       "      <td>NaN</td>\n",
       "      <td>NaN</td>\n",
       "      <td>NaN</td>\n",
       "      <td>NaN</td>\n",
       "      <td>1.1</td>\n",
       "      <td>28079011</td>\n",
       "    </tr>\n",
       "    <tr>\n",
       "      <th>3</th>\n",
       "      <td>2018-03-01 01:00:00</td>\n",
       "      <td>NaN</td>\n",
       "      <td>NaN</td>\n",
       "      <td>0.3</td>\n",
       "      <td>NaN</td>\n",
       "      <td>NaN</td>\n",
       "      <td>1.0</td>\n",
       "      <td>35.0</td>\n",
       "      <td>37.0</td>\n",
       "      <td>54.0</td>\n",
       "      <td>NaN</td>\n",
       "      <td>NaN</td>\n",
       "      <td>NaN</td>\n",
       "      <td>NaN</td>\n",
       "      <td>NaN</td>\n",
       "      <td>28079016</td>\n",
       "    </tr>\n",
       "    <tr>\n",
       "      <th>4</th>\n",
       "      <td>2018-03-01 01:00:00</td>\n",
       "      <td>NaN</td>\n",
       "      <td>NaN</td>\n",
       "      <td>NaN</td>\n",
       "      <td>NaN</td>\n",
       "      <td>NaN</td>\n",
       "      <td>1.0</td>\n",
       "      <td>27.0</td>\n",
       "      <td>29.0</td>\n",
       "      <td>49.0</td>\n",
       "      <td>NaN</td>\n",
       "      <td>NaN</td>\n",
       "      <td>3.0</td>\n",
       "      <td>NaN</td>\n",
       "      <td>NaN</td>\n",
       "      <td>28079017</td>\n",
       "    </tr>\n",
       "  </tbody>\n",
       "</table>\n",
       "</div>"
      ],
      "text/plain": [
       "                  date  BEN   CH4   CO  EBE  NMHC   NO  NO_2   NOx   O_3  \\\n",
       "0  2018-03-01 01:00:00  NaN   NaN  0.3  NaN   NaN  1.0  29.0  31.0   NaN   \n",
       "1  2018-03-01 01:00:00  0.5  1.39  0.3  0.2  0.02  6.0  40.0  49.0  52.0   \n",
       "2  2018-03-01 01:00:00  0.4   NaN  NaN  0.2   NaN  4.0  41.0  47.0   NaN   \n",
       "3  2018-03-01 01:00:00  NaN   NaN  0.3  NaN   NaN  1.0  35.0  37.0  54.0   \n",
       "4  2018-03-01 01:00:00  NaN   NaN  NaN  NaN   NaN  1.0  27.0  29.0  49.0   \n",
       "\n",
       "   PM10  PM25  SO_2   TCH  TOL   station  \n",
       "0   NaN   NaN   2.0   NaN  NaN  28079004  \n",
       "1   5.0   4.0   3.0  1.41  0.8  28079008  \n",
       "2   NaN   NaN   NaN   NaN  1.1  28079011  \n",
       "3   NaN   NaN   NaN   NaN  NaN  28079016  \n",
       "4   NaN   NaN   3.0   NaN  NaN  28079017  "
      ]
     },
     "execution_count": 11,
     "metadata": {},
     "output_type": "execute_result"
    }
   ],
   "source": [
    "import csv\n",
    "import numpy as np\n",
    "import numpy.linalg as LA\n",
    "import matplotlib.pyplot as plt\n",
    "import pandas as pd\n",
    "\n",
    "with open('madrid_2018.csv', newline='') as csvfile:\n",
    "    data = list(csv.reader(csvfile))\n",
    "\n",
    "# creating all data for station 28079004\n",
    "data = np.array(data)\n",
    "data = data[1:data.shape[0],0:data.shape[1]]\n",
    "airq = []\n",
    "date = []\n",
    "for i in range(0, data.shape[0]):\n",
    "    for j in range(0, data.shape[1]):\n",
    "        if(data[i,-1]=='28079004'):\n",
    "            if(j==0):\n",
    "                date.append(data[i,j])\n",
    "            elif(data[i,j]==''):\n",
    "                airq.append('0')\n",
    "            else:\n",
    "                airq.append(data[i,j])\n",
    "            \n",
    "airq = np.array(airq)\n",
    "date = np.array(date)\n",
    "airq = np.reshape(airq, (2880,15))\n",
    "\n",
    "airq = airq.astype(np.float)\n",
    "\n",
    "pddata = pd.read_csv(\"madrid_2018.csv\")\n",
    "pddata.head()"
   ]
  },
  {
   "cell_type": "markdown",
   "metadata": {},
   "source": [
    "# Forecasting Temperature"
   ]
  },
  {
   "cell_type": "code",
   "execution_count": 14,
   "metadata": {},
   "outputs": [
    {
     "data": {
      "text/html": [
       "<div>\n",
       "<style scoped>\n",
       "    .dataframe tbody tr th:only-of-type {\n",
       "        vertical-align: middle;\n",
       "    }\n",
       "\n",
       "    .dataframe tbody tr th {\n",
       "        vertical-align: top;\n",
       "    }\n",
       "\n",
       "    .dataframe thead th {\n",
       "        text-align: right;\n",
       "    }\n",
       "</style>\n",
       "<table border=\"1\" class=\"dataframe\">\n",
       "  <thead>\n",
       "    <tr style=\"text-align: right;\">\n",
       "      <th></th>\n",
       "      <th>Formatted Date</th>\n",
       "      <th>Summary</th>\n",
       "      <th>Precip Type</th>\n",
       "      <th>Temperature (C)</th>\n",
       "      <th>Apparent Temperature (C)</th>\n",
       "      <th>Humidity</th>\n",
       "      <th>Wind Speed (km/h)</th>\n",
       "      <th>Wind Bearing (degrees)</th>\n",
       "      <th>Visibility (km)</th>\n",
       "      <th>Loud Cover</th>\n",
       "      <th>Pressure (millibars)</th>\n",
       "      <th>Daily Summary</th>\n",
       "    </tr>\n",
       "  </thead>\n",
       "  <tbody>\n",
       "    <tr>\n",
       "      <th>0</th>\n",
       "      <td>2006-04-01 00:00:00.000 +0200</td>\n",
       "      <td>Partly Cloudy</td>\n",
       "      <td>rain</td>\n",
       "      <td>9.472222</td>\n",
       "      <td>7.388889</td>\n",
       "      <td>0.89</td>\n",
       "      <td>14.1197</td>\n",
       "      <td>251.0</td>\n",
       "      <td>15.8263</td>\n",
       "      <td>0.0</td>\n",
       "      <td>1015.13</td>\n",
       "      <td>Partly cloudy throughout the day.</td>\n",
       "    </tr>\n",
       "    <tr>\n",
       "      <th>1</th>\n",
       "      <td>2006-04-01 01:00:00.000 +0200</td>\n",
       "      <td>Partly Cloudy</td>\n",
       "      <td>rain</td>\n",
       "      <td>9.355556</td>\n",
       "      <td>7.227778</td>\n",
       "      <td>0.86</td>\n",
       "      <td>14.2646</td>\n",
       "      <td>259.0</td>\n",
       "      <td>15.8263</td>\n",
       "      <td>0.0</td>\n",
       "      <td>1015.63</td>\n",
       "      <td>Partly cloudy throughout the day.</td>\n",
       "    </tr>\n",
       "    <tr>\n",
       "      <th>2</th>\n",
       "      <td>2006-04-01 02:00:00.000 +0200</td>\n",
       "      <td>Mostly Cloudy</td>\n",
       "      <td>rain</td>\n",
       "      <td>9.377778</td>\n",
       "      <td>9.377778</td>\n",
       "      <td>0.89</td>\n",
       "      <td>3.9284</td>\n",
       "      <td>204.0</td>\n",
       "      <td>14.9569</td>\n",
       "      <td>0.0</td>\n",
       "      <td>1015.94</td>\n",
       "      <td>Partly cloudy throughout the day.</td>\n",
       "    </tr>\n",
       "    <tr>\n",
       "      <th>3</th>\n",
       "      <td>2006-04-01 03:00:00.000 +0200</td>\n",
       "      <td>Partly Cloudy</td>\n",
       "      <td>rain</td>\n",
       "      <td>8.288889</td>\n",
       "      <td>5.944444</td>\n",
       "      <td>0.83</td>\n",
       "      <td>14.1036</td>\n",
       "      <td>269.0</td>\n",
       "      <td>15.8263</td>\n",
       "      <td>0.0</td>\n",
       "      <td>1016.41</td>\n",
       "      <td>Partly cloudy throughout the day.</td>\n",
       "    </tr>\n",
       "    <tr>\n",
       "      <th>4</th>\n",
       "      <td>2006-04-01 04:00:00.000 +0200</td>\n",
       "      <td>Mostly Cloudy</td>\n",
       "      <td>rain</td>\n",
       "      <td>8.755556</td>\n",
       "      <td>6.977778</td>\n",
       "      <td>0.83</td>\n",
       "      <td>11.0446</td>\n",
       "      <td>259.0</td>\n",
       "      <td>15.8263</td>\n",
       "      <td>0.0</td>\n",
       "      <td>1016.51</td>\n",
       "      <td>Partly cloudy throughout the day.</td>\n",
       "    </tr>\n",
       "  </tbody>\n",
       "</table>\n",
       "</div>"
      ],
      "text/plain": [
       "                  Formatted Date        Summary Precip Type  Temperature (C)  \\\n",
       "0  2006-04-01 00:00:00.000 +0200  Partly Cloudy        rain         9.472222   \n",
       "1  2006-04-01 01:00:00.000 +0200  Partly Cloudy        rain         9.355556   \n",
       "2  2006-04-01 02:00:00.000 +0200  Mostly Cloudy        rain         9.377778   \n",
       "3  2006-04-01 03:00:00.000 +0200  Partly Cloudy        rain         8.288889   \n",
       "4  2006-04-01 04:00:00.000 +0200  Mostly Cloudy        rain         8.755556   \n",
       "\n",
       "   Apparent Temperature (C)  Humidity  Wind Speed (km/h)  \\\n",
       "0                  7.388889      0.89            14.1197   \n",
       "1                  7.227778      0.86            14.2646   \n",
       "2                  9.377778      0.89             3.9284   \n",
       "3                  5.944444      0.83            14.1036   \n",
       "4                  6.977778      0.83            11.0446   \n",
       "\n",
       "   Wind Bearing (degrees)  Visibility (km)  Loud Cover  Pressure (millibars)  \\\n",
       "0                   251.0          15.8263         0.0               1015.13   \n",
       "1                   259.0          15.8263         0.0               1015.63   \n",
       "2                   204.0          14.9569         0.0               1015.94   \n",
       "3                   269.0          15.8263         0.0               1016.41   \n",
       "4                   259.0          15.8263         0.0               1016.51   \n",
       "\n",
       "                       Daily Summary  \n",
       "0  Partly cloudy throughout the day.  \n",
       "1  Partly cloudy throughout the day.  \n",
       "2  Partly cloudy throughout the day.  \n",
       "3  Partly cloudy throughout the day.  \n",
       "4  Partly cloudy throughout the day.  "
      ]
     },
     "execution_count": 14,
     "metadata": {},
     "output_type": "execute_result"
    }
   ],
   "source": [
    "with open('weatherHistory.csv', newline='') as csvfile:\n",
    "    predata = list(csv.reader(csvfile))\n",
    "\n",
    "# processing the csv information into target and data for regression\n",
    "predata = np.array(predata)\n",
    "predata = predata[1:predata.shape[0],3:-1]\n",
    "np.random.shuffle(predata)\n",
    "target = predata[:,0].astype(float)\n",
    "data = predata[:,1:6].astype(float)\n",
    "\n",
    "pddata = pd.read_csv(\"weatherHistory.csv\")\n",
    "pddata.head()"
   ]
  },
  {
   "cell_type": "markdown",
   "metadata": {},
   "source": [
    "We used the temperature (C) column as our target value and used apparent temperature (C), humidity, wind speed (km/h), wind bearing (degrees), and visibility (km) columns as our data parameters."
   ]
  },
  {
   "cell_type": "markdown",
   "metadata": {},
   "source": [
    "## Approach 1: Least Squares (using K-fold validation)"
   ]
  },
  {
   "cell_type": "markdown",
   "metadata": {},
   "source": [
    "For the least sqaures approach, we used the algorithm and implementation discussed in class. The aim of regression is to be able to find a function such that $$y = w^Tb$$. In least squares, we use the following equation to find $\\hat{w}$ which is $$\\hat{w} = (X^TX)^{-1}y$$ on our training set. We can then use $$y = \\hat{w}^Tb$$ to find the predicted values for our test set."
   ]
  },
  {
   "cell_type": "code",
   "execution_count": 15,
   "metadata": {},
   "outputs": [
    {
     "name": "stdout",
     "output_type": "stream",
     "text": [
      "0.8958770119825288\n",
      "0.9019150108263143\n",
      "0.9043085354334768\n",
      "0.89913904063337\n",
      "0.9053742030703918\n",
      "The average prediction error from 5-fold CV:  0.9013227603892163\n"
     ]
    },
    {
     "data": {
      "image/png": "[encoded data removed]",
      "text/plain": [
       "<Figure size 432x288 with 1 Axes>"
      ]
     },
     "metadata": {
      "needs_background": "light"
     },
     "output_type": "display_data"
    }
   ],
   "source": [
    "# function to calculate Least Sqaures on training set\n",
    "def LS(data, labels):\n",
    "    w_hat = np.matmul(np.matmul(LA.inv(np.matmul(np.transpose(data), data)), np.transpose(data)), labels)\n",
    "    return w_hat\n",
    "\n",
    "# function to check errors on test set\n",
    "def LS_error(X, labels, w_hat):\n",
    "    y_est = np.matmul(X, w_hat)\n",
    "    error = LA.norm(labels-y_est)**2/X.shape[0]\n",
    "    return y_est, error\n",
    "\n",
    "# append ones column to our X\n",
    "X = np.ones((len(data), 6))\n",
    "for i in range(0, len(data)):\n",
    "    for j in range(0, 5):\n",
    "        X[i, j] = data[i, j]\n",
    "\n",
    "# split our data into test and validation for K fold CV, where K=5\n",
    "test1 = X[0:19290]\n",
    "testlab1 = target[0:19290]\n",
    "train1 = X[19290:96453] \n",
    "label1 = target[19290:96453]\n",
    "\n",
    "test2 = X[19290:38580, :]\n",
    "testlab2 = target[19290:38580]\n",
    "train2 = np.concatenate((X[0:19290, :], X[38580:96453, :]))\n",
    "label2 = np.concatenate((target[0:19290], target[38580:96453]))\n",
    "\n",
    "test3 = X[38580:57870, :]\n",
    "testlab3 = target[38580:57870]\n",
    "train3 = np.concatenate((X[0:38580, :], X[57870:96453, :]))\n",
    "label3 = np.concatenate((target[0:38580], target[57870:96453]))\n",
    "\n",
    "test4 = X[57870:77160, :]\n",
    "testlab4 = target[57870:77160]\n",
    "train4 = np.concatenate((X[0:57870, :], X[77160:96453, :]))\n",
    "label4 = np.concatenate((target[0:57870], target[77160:96453]))\n",
    "\n",
    "test5 = X[77160:96453, :]\n",
    "testlab5 = target[77160:96453]\n",
    "train5 = X[0:77160, :]\n",
    "label5 = target[0:77160]\n",
    "\n",
    "# train on each set and check error\n",
    "w1 = LS(train1, label1)\n",
    "y1, err1 = LS_error(test1, testlab1, w1)\n",
    "print(err1)\n",
    "\n",
    "w2 = LS(train2, label2)\n",
    "y2, err2 = LS_error(test2, testlab2, w2)\n",
    "print(err2)\n",
    "\n",
    "w3 = LS(train3, label3)\n",
    "y3, err3 = LS_error(test3, testlab3, w3)\n",
    "print(err3)\n",
    "\n",
    "w4 = LS(train4, label4)\n",
    "y4, err4 = LS_error(test4, testlab4, w4)\n",
    "print(err4)\n",
    "\n",
    "w5 = LS(train5, label5)\n",
    "y5, err5 = LS_error(test5, testlab5, w5)\n",
    "print(err5)\n",
    "\n",
    "# average prediction error for LS\n",
    "avg = (err1+err2+err3+err4+err5)/5\n",
    "print(\"The average prediction error from 5-fold CV: \", avg)\n",
    "\n",
    "# plot of one of the measured vs predicted target values\n",
    "plt.scatter(testlab4, y4, c='g')\n",
    "plt.plot(testlab4,testlab4, 'b')\n",
    "plt.title(\"Measured vs Predicted Target\")\n",
    "plt.xlabel(\"Measured Target\")\n",
    "plt.ylabel(\"Predicted Target\")\n",
    "plt.show()"
   ]
  },
  {
   "cell_type": "markdown",
   "metadata": {},
   "source": [
    "## Approach 2: Ridge Regression (with K-fold CV)"
   ]
  },
  {
   "cell_type": "markdown",
   "metadata": {},
   "source": [
    "For the ridge regression approach, we used the algorithm and implementation discussed in class. The aim of regression is to be able to find a function such that $$y = w^Tb$$. In lridge regression, we use the following equation to find $\\hat{w}$ which is $$\\hat{w} = (X^TX+\\lambda I)^{-1}y$$ on our training set. We use K fold CV to find the optimal $\\lambda$. We can then use $$y = \\hat{w}^Tb$$ to find the predicted values for our test set."
   ]
  },
  {
   "cell_type": "code",
   "execution_count": 19,
   "metadata": {
    "scrolled": true
   },
   "outputs": [
    {
     "name": "stdout",
     "output_type": "stream",
     "text": [
      "The average prediction error from 5-fold CV:  0.9013913970931414\n",
      "From index:  3\n",
      "Thus, the best lambda value: 0.3333333333333333\n"
     ]
    },
    {
     "data": {
      "image/png": "[encoded data removed]",
      "text/plain": [
       "<Figure size 432x288 with 1 Axes>"
      ]
     },
     "metadata": {},
     "output_type": "display_data"
    }
   ],
   "source": [
    "# function to calculate ridge regression on training data\n",
    "def RR(data, labels, lam):\n",
    "    w_hat = np.matmul(np.matmul(LA.inv(np.matmul(np.transpose(data), data)+lam*np.identity(data.shape[1])), np.transpose(data)), labels)\n",
    "    return w_hat\n",
    "\n",
    "# function to calulcate errors on test data\n",
    "def RR_error(X, labels, w_hat):\n",
    "    y_est = np.matmul(X, w_hat)\n",
    "    error = LA.norm(labels-y_est)**2/X.shape[0]\n",
    "    return y_est, error\n",
    "\n",
    "# setting up lambda and errors for the K fold CV\n",
    "lam = np.linspace(0, 10, num=91)\n",
    "err1 = np.zeros(91)\n",
    "err2 = np.zeros(91)\n",
    "err3 = np.zeros(91)\n",
    "err4 = np.zeros(91)\n",
    "err5 = np.zeros(91)\n",
    "avg = np.zeros(91)\n",
    "\n",
    "# running K fold CV (where K=5) to find optimal lambda and check average prediction error\n",
    "for i in range(0, len(lam)):\n",
    "    w1 = RR(train1, label1, lam[i])\n",
    "    y1, err1[i] = RR_error(test1, testlab1, w1)\n",
    "\n",
    "    w2 = RR(train2, label2, lam[i])\n",
    "    y2, err2[i] = RR_error(test2, testlab2, w2)\n",
    "\n",
    "    w3 = RR(train3, label3, lam[i])\n",
    "    y3, err3[i] = RR_error(test3, testlab3, w3)\n",
    "\n",
    "    w4 = RR(train4, label4, lam[i])\n",
    "    y4, err4[i] = RR_error(test4, testlab4, w4)\n",
    "\n",
    "    w5 = RR(train5, label5, lam[i])\n",
    "    y5, err5[i] = RR_error(test5, testlab5, w5)\n",
    "    \n",
    "    avg[i] = (err1[i]+err2[i]+err3[i]+err4[i]+err5[i])/5\n",
    "\n",
    "# find optimal lambda and report average prediction error\n",
    "print(\"The average prediction error from 5-fold CV: \", np.min(avg))\n",
    "print(\"From index: \", np.argmin(avg))    \n",
    "print(\"Thus, the best lambda value:\", lam[np.argmin(avg)])\n",
    "\n",
    "# plot optimal lambda and prediction for one of the test sets\n",
    "w = RR(train4, label4, lam[np.argmin(avg)])\n",
    "y, err = RR_error(test4, testlab4, w)\n",
    "plt.scatter(testlab4, y, c='g')\n",
    "plt.plot(testlab4,testlab4, 'b')\n",
    "plt.title(\"Measured vs Predicted Target\")\n",
    "plt.xlabel(\"Measured Target\")\n",
    "plt.ylabel(\"Predicted Target\")\n",
    "plt.show()"
   ]
  },
  {
   "cell_type": "markdown",
   "metadata": {},
   "source": [
    "# Regression Trees"
   ]
  },
  {
   "cell_type": "markdown",
   "metadata": {},
   "source": [
    "Split data into train and test set."
   ]
  },
  {
   "cell_type": "code",
   "execution_count": 26,
   "metadata": {},
   "outputs": [
    {
     "name": "stdout",
     "output_type": "stream",
     "text": [
      "(67517, 5)\n",
      "(28936, 5)\n"
     ]
    },
    {
     "data": {
      "text/plain": [
       "DecisionTreeRegressor(criterion='mse', max_depth=5, max_features=None,\n",
       "           max_leaf_nodes=None, min_impurity_decrease=0.0,\n",
       "           min_impurity_split=None, min_samples_leaf=1,\n",
       "           min_samples_split=2, min_weight_fraction_leaf=0.0,\n",
       "           presort=False, random_state=None, splitter='best')"
      ]
     },
     "execution_count": 26,
     "metadata": {},
     "output_type": "execute_result"
    }
   ],
   "source": [
    "import numpy as np\n",
    "from sklearn.tree import DecisionTreeRegressor\n",
    "import matplotlib.pyplot as plt\n",
    "from sklearn.cross_validation import train_test_split\n",
    "\n",
    "X_train, X_test, y_train, y_test = train_test_split(data,target,test_size = 0.3, random_state = 0)\n",
    "\n"
   ]
  },
  {
   "cell_type": "code",
   "execution_count": 27,
   "metadata": {},
   "outputs": [
    {
     "data": {
      "text/plain": [
       "DecisionTreeRegressor(criterion='mse', max_depth=5, max_features=None,\n",
       "           max_leaf_nodes=None, min_impurity_decrease=0.0,\n",
       "           min_impurity_split=None, min_samples_leaf=1,\n",
       "           min_samples_split=2, min_weight_fraction_leaf=0.0,\n",
       "           presort=False, random_state=None, splitter='best')"
      ]
     },
     "execution_count": 27,
     "metadata": {},
     "output_type": "execute_result"
    }
   ],
   "source": [
    "# Fit regression model\n",
    "regr_1 = DecisionTreeRegressor(max_depth=2)\n",
    "regr_2 = DecisionTreeRegressor(max_depth=5)\n",
    "regr_1.fit(X_train, y_train)\n",
    "regr_2.fit(X_train, y_train)"
   ]
  },
  {
   "cell_type": "code",
   "execution_count": 33,
   "metadata": {},
   "outputs": [
    {
     "name": "stdout",
     "output_type": "stream",
     "text": [
      "[ 8.60748019  3.86659221 14.70581917 ... 24.26520062 12.3008703\n",
      "  4.43151514]\n"
     ]
    }
   ],
   "source": [
    "# Predict\n",
    "y_1 = regr_1.predict(X_test)\n",
    "y_2 = regr_2.predict(X_test)\n",
    "print(y2)"
   ]
  },
  {
   "cell_type": "code",
   "execution_count": 34,
   "metadata": {},
   "outputs": [
    {
     "data": {
      "image/png": "[encoded data removed]",
      "text/plain": [
       "<Figure size 432x288 with 1 Axes>"
      ]
     },
     "metadata": {},
     "output_type": "display_data"
    }
   ],
   "source": [
    "# Plot the results\n",
    "plt.figure()\n",
    "plt.scatter(y_test, y_test, s=20, edgecolor=\"black\",\n",
    "            c=\"darkorange\", label=\"data targets\")\n",
    "plt.scatter(y_test, y_1, color=\"cornflowerblue\",\n",
    "         label=\"max_depth=2\")\n",
    "plt.scatter(y_test, y_2, color=\"yellowgreen\", label=\"max_depth=5\")\n",
    "#plt.plot(y_test,y_test,c='g',label='actual')\n",
    "plt.xlabel(\"data\")\n",
    "plt.ylabel(\"target\")\n",
    "plt.title(\"Decision Tree Regression\")\n",
    "plt.legend()\n",
    "plt.show()"
   ]
  },
  {
   "cell_type": "code",
   "execution_count": null,
   "metadata": {},
   "outputs": [],
   "source": []
  },
  {
   "cell_type": "markdown",
   "metadata": {},
   "source": [
    "# Fruits Dataset"
   ]
  },
  {
   "cell_type": "markdown",
   "metadata": {},
   "source": [
    "This dataset contains images of various fruits. Our objective is to be able to build a classifier that can recognize a fruit, given its image. For this exercise, we have chosen 3 fruits: Banana, Limes, and Pineapple. We will employ 3 methods of classification: Support Vector Machines (SVM), Logistic Regression, and Classification Trees"
   ]
  },
  {
   "cell_type": "markdown",
   "metadata": {},
   "source": [
    "### _Extract Data_"
   ]
  },
  {
   "cell_type": "code",
   "execution_count": 129,
   "metadata": {},
   "outputs": [],
   "source": [
    "import os\n",
    "import numpy as np\n",
    "import glob\n",
    "import cv2\n",
    "from sklearn.decomposition import PCA\n",
    "from sklearn.manifold import TSNE\n",
    "from sklearn.preprocessing import StandardScaler\n",
    "from sklearn.ensemble import RandomForestClassifier\n",
    "from sklearn.model_selection import train_test_split\n",
    "from sklearn.metrics import accuracy_score\n",
    "from sklearn import svm"
   ]
  },
  {
   "cell_type": "markdown",
   "metadata": {},
   "source": [
    "Extract images from Training folder and convert and resize each image to a $45\\times45\\times3$ sized numpy array. Record the labels for each image."
   ]
  },
  {
   "cell_type": "code",
   "execution_count": 130,
   "metadata": {},
   "outputs": [
    {
     "name": "stdout",
     "output_type": "stream",
     "text": [
      "(1470, 45, 45, 3) (1470,)\n",
      "['Banana' 'Banana' 'Banana' ... 'Pineapple' 'Pineapple' 'Pineapple']\n"
     ]
    }
   ],
   "source": [
    "fruits = []\n",
    "labels = [] \n",
    "fruits_f = []\n",
    "for fruit_dir in glob.glob(\"fruits/Training/*\"):\n",
    "    fruit_dir = fruit_dir.replace('\\\\', '/')\n",
    "    fruit_label = fruit_dir.split(\"/\")[-1]\n",
    "    for img in glob.glob(os.path.join(fruit_dir, \"*.jpg\")):\n",
    "        img = cv2.imread(img, cv2.IMREAD_COLOR)\n",
    "        \n",
    "        img = cv2.resize(img, (45, 45))\n",
    "        img = cv2.cvtColor(img, cv2.COLOR_RGB2BGR)\n",
    "        imgf = np.reshape(img,(45*45,3))\n",
    "        fruits.append(img)\n",
    "        fruits_f.append(imgf)\n",
    "        labels.append(fruit_label)\n",
    "fruits = np.array(fruits)\n",
    "labels = np.array(labels)\n",
    "fruits_f = np.array(fruits_f)\n",
    "print(fruits.shape,labels.shape)\n",
    "print(labels)"
   ]
  },
  {
   "cell_type": "markdown",
   "metadata": {},
   "source": [
    "Our labels are string values and we need to assign numeric IDs to every class. Here, $Banana = 0$, $Limes = 1$, and $Pineapple = 2$."
   ]
  },
  {
   "cell_type": "code",
   "execution_count": 131,
   "metadata": {},
   "outputs": [
    {
     "name": "stdout",
     "output_type": "stream",
     "text": [
      "{0: 'Banana', 1: 'Limes', 2: 'Pineapple'}\n",
      "[0 0 0 ... 2 2 2]\n"
     ]
    }
   ],
   "source": [
    "id_to_labels = {i:v for i,v in enumerate(np.unique(labels))}\n",
    "print(id_to_labels)\n",
    "label_to_ids = {v:i for i,v in id_to_labels.items()}\n",
    "label_ids = np.array([label_to_ids[x] for x in labels])\n",
    "label_names = [v for i,v in id_to_labels.items()]\n",
    "print(label_ids)"
   ]
  },
  {
   "cell_type": "markdown",
   "metadata": {},
   "source": [
    "Flatten each image and mean-center so we can easily manipulate the data for PCA and future processing."
   ]
  },
  {
   "cell_type": "code",
   "execution_count": 132,
   "metadata": {},
   "outputs": [
    {
     "name": "stdout",
     "output_type": "stream",
     "text": [
      "(1470, 6075)\n"
     ]
    }
   ],
   "source": [
    "import numpy.linalg as la\n",
    "images = np.array([i.flatten() for i in fruits])\n",
    "print(images.shape)\n",
    "m = np.mean(images)\n",
    "im_bar = images - m"
   ]
  },
  {
   "cell_type": "code",
   "execution_count": 133,
   "metadata": {},
   "outputs": [
    {
     "data": {
      "text/plain": [
       "Text(0,0.5,'Y (log scale)')"
      ]
     },
     "execution_count": 133,
     "metadata": {},
     "output_type": "execute_result"
    },
    {
     "data": {
      "image/png": "[encoded data removed]",
      "text/plain": [
       "<Figure size 432x288 with 1 Axes>"
      ]
     },
     "metadata": {},
     "output_type": "display_data"
    }
   ],
   "source": [
    "im_bar = im_bar.transpose() # so data is in M x N form\n",
    "%matplotlib inline\n",
    "import matplotlib.pyplot as plt\n",
    "U,s,VT = la.svd(im_bar)\n",
    "fig = plt.figure()\n",
    "x = np.arange(s.shape[0])\n",
    "y = s\n",
    "ax = fig.add_subplot(111)\n",
    "plt.yscale('log')\n",
    "ax.scatter(x, y, c='c', marker='o')\n",
    "ax.set_title(\"Plot of singular values of Imbar\")\n",
    "ax.set_xlabel('X')\n",
    "ax.set_ylabel('Y (log scale)')"
   ]
  },
  {
   "cell_type": "markdown",
   "metadata": {},
   "source": [
    "Find the top k components that encompass most of the data."
   ]
  },
  {
   "cell_type": "code",
   "execution_count": 134,
   "metadata": {},
   "outputs": [
    {
     "name": "stdout",
     "output_type": "stream",
     "text": [
      "k is:  51\n"
     ]
    }
   ],
   "source": [
    "#im_bar = im_bar.transpose()\n",
    "#finding smallest k to encompass 90% of data\n",
    "s_sum = 0\n",
    "fnorm = la.norm(im_bar)**2\n",
    "\n",
    "k = 0\n",
    "for i in range(s.shape[0]):\n",
    "    s_sum = s_sum + s[i]**2\n",
    "    t = s_sum/fnorm\n",
    "    if(t >= 0.964):\n",
    "        k = i\n",
    "        break\n",
    "#top k principal components of Xbar\n",
    "\n",
    "print(\"k is: \",k)"
   ]
  },
  {
   "cell_type": "markdown",
   "metadata": {},
   "source": [
    "Compute features and reconstruct data from principal components. Display a random image from the reconstructed data to check if the data construction matches the overall structure of a fruit."
   ]
  },
  {
   "cell_type": "code",
   "execution_count": 135,
   "metadata": {},
   "outputs": [
    {
     "name": "stdout",
     "output_type": "stream",
     "text": [
      "(51, 1470)\n"
     ]
    },
    {
     "name": "stderr",
     "output_type": "stream",
     "text": [
      "Clipping input data to the valid range for imshow with RGB data ([0..1] for floats or [0..255] for integers).\n"
     ]
    },
    {
     "name": "stdout",
     "output_type": "stream",
     "text": [
      "(6075, 1470)\n"
     ]
    },
    {
     "data": {
      "text/plain": [
       "<matplotlib.image.AxesImage at 0x21e05e1e198>"
      ]
     },
     "execution_count": 135,
     "metadata": {},
     "output_type": "execute_result"
    },
    {
     "data": {
      "image/png": "[encoded data removed]",
      "text/plain": [
       "<Figure size 432x288 with 1 Axes>"
      ]
     },
     "metadata": {},
     "output_type": "display_data"
    }
   ],
   "source": [
    "Uk = U[:,0:k]\n",
    "features = Uk.transpose()@im_bar\n",
    "print(features.shape)\n",
    "recon = Uk@Uk.transpose()@im_bar\n",
    "print(recon.shape)\n",
    "r = np.random.randint(0,im_bar.shape[1])\n",
    "img = np.reshape(recon[:,r],(45,45,3))\n",
    "plt.imshow(img)"
   ]
  },
  {
   "cell_type": "markdown",
   "metadata": {},
   "source": [
    "### Sklearn PCA"
   ]
  },
  {
   "cell_type": "markdown",
   "metadata": {},
   "source": [
    "Sklearn also has it's own pca function. We use it for consistency with sklearn's methods."
   ]
  },
  {
   "cell_type": "code",
   "execution_count": 136,
   "metadata": {},
   "outputs": [
    {
     "name": "stdout",
     "output_type": "stream",
     "text": [
      "(1470, 6075)\n"
     ]
    }
   ],
   "source": [
    "scaler = StandardScaler()\n",
    "images_scaled = scaler.fit_transform([i.flatten() for i in fruits])\n",
    "print(images_scaled.shape)\n",
    "pca = PCA(n_components=50)\n",
    "pca_result = pca.fit_transform(images_scaled)"
   ]
  },
  {
   "cell_type": "code",
   "execution_count": 137,
   "metadata": {},
   "outputs": [
    {
     "name": "stdout",
     "output_type": "stream",
     "text": [
      "(1470, 50)\n"
     ]
    }
   ],
   "source": [
    "print(pca_result.shape) # confirm (1470 x 50)"
   ]
  },
  {
   "cell_type": "markdown",
   "metadata": {},
   "source": [
    "In order to plot the result of the PCA, we need to be able to view a 50-dimensional data point in 2 dimensions. TSNE is function in sklearn (called t-distributed Stochastic Neighbor Embedding) that allows you to reduce dimensionality. Making the data 2D will allow us to see if all classes are relatively disjoint (SVM likely to succeed) or if the classes overlap (SVM likely to have errors)."
   ]
  },
  {
   "cell_type": "code",
   "execution_count": 138,
   "metadata": {},
   "outputs": [
    {
     "name": "stdout",
     "output_type": "stream",
     "text": [
      "(1470, 2)\n"
     ]
    },
    {
     "data": {
      "image/png": "[encoded data removed]",
      "text/plain": [
       "<Figure size 576x432 with 1 Axes>"
      ]
     },
     "metadata": {},
     "output_type": "display_data"
    }
   ],
   "source": [
    "tsne = TSNE(n_components=2, perplexity=40.0)\n",
    "tsne_result = tsne.fit_transform(pca_result)\n",
    "tsne_result_scaled = StandardScaler().fit_transform(tsne_result)\n",
    "print(tsne_result_scaled.shape)\n",
    "\n",
    "fig = plt.figure(figsize=(8,6))\n",
    "\n",
    "ax = fig.add_subplot(111)\n",
    "\n",
    "for i in range(tsne_result_scaled.shape[0]):\n",
    "    if (label_ids[i]==0):\n",
    "        zerop = ax.scatter(tsne_result_scaled[i][0], tsne_result_scaled[i][1], c='y', marker='o')\n",
    "    if (label_ids[i]==1):\n",
    "        onep = ax.scatter(tsne_result_scaled[i][0], tsne_result_scaled[i][1], c='g', marker='o')\n",
    "    if (label_ids[i]==2):\n",
    "        twop = ax.scatter(tsne_result_scaled[i][0], tsne_result_scaled[i][1], c='r', marker='o')\n",
    "ax.set_title(\"Plot of PCA Result\")\n",
    "ax.set_xlabel('')\n",
    "ax.set_ylabel('')\n",
    "ax.legend([zerop,onep,twop], [\"Banana\",\"Limes\",\"Pineapple\"],loc=3)\n",
    "plt.show()"
   ]
  },
  {
   "cell_type": "markdown",
   "metadata": {},
   "source": [
    "## Split into Training and Test Data"
   ]
  },
  {
   "cell_type": "code",
   "execution_count": 139,
   "metadata": {},
   "outputs": [],
   "source": [
    "X_train, X_test, y_train, y_test = train_test_split(pca_result, label_ids, test_size=0.25, random_state=42)"
   ]
  },
  {
   "cell_type": "markdown",
   "metadata": {},
   "source": [
    "### Train Model using SVM"
   ]
  },
  {
   "cell_type": "code",
   "execution_count": 140,
   "metadata": {},
   "outputs": [],
   "source": [
    "svm_clf = svm.SVC()\n",
    "svm_clf = svm_clf.fit(X_train, y_train) "
   ]
  },
  {
   "cell_type": "code",
   "execution_count": 141,
   "metadata": {},
   "outputs": [],
   "source": [
    "test_predictions = svm_clf.predict(X_test)"
   ]
  },
  {
   "cell_type": "code",
   "execution_count": 142,
   "metadata": {},
   "outputs": [
    {
     "name": "stdout",
     "output_type": "stream",
     "text": [
      "Training Accuracy with SVM: 94.293478\n"
     ]
    }
   ],
   "source": [
    "precision = accuracy_score(test_predictions, y_test) * 100\n",
    "print(\"Training Accuracy with SVM: {0:.6f}\".format(precision))"
   ]
  },
  {
   "cell_type": "code",
   "execution_count": 143,
   "metadata": {},
   "outputs": [
    {
     "name": "stdout",
     "output_type": "stream",
     "text": [
      "             precision    recall  f1-score   support\n",
      "\n",
      "     Banana       0.83      1.00      0.91       103\n",
      "      Limes       1.00      1.00      1.00       117\n",
      "  Pineapple       1.00      0.86      0.92       148\n",
      "\n",
      "avg / total       0.95      0.94      0.94       368\n",
      "\n",
      "[[103   0   0]\n",
      " [  0 117   0]\n",
      " [ 21   0 127]]\n"
     ]
    }
   ],
   "source": [
    "from sklearn.metrics import classification_report\n",
    "from sklearn.metrics import confusion_matrix\n",
    "print(classification_report(test_predictions, y_test,target_names=label_names))\n",
    "print(confusion_matrix(test_predictions, y_test, labels=range(3)))"
   ]
  },
  {
   "cell_type": "markdown",
   "metadata": {},
   "source": [
    "### Test SVM Model on Validation Data"
   ]
  },
  {
   "cell_type": "code",
   "execution_count": 144,
   "metadata": {},
   "outputs": [
    {
     "name": "stdout",
     "output_type": "stream",
     "text": [
      "(498, 45, 45, 3) (498,)\n"
     ]
    }
   ],
   "source": [
    "val_fruits = []\n",
    "val_labels = [] \n",
    "val_fruits_f = []\n",
    "for fruit_dir in glob.glob(\"fruits/Test/*\"):\n",
    "    fruit_dir = fruit_dir.replace('\\\\', '/')\n",
    "    fruit_label = fruit_dir.split(\"/\")[-1]\n",
    "    for img in glob.glob(os.path.join(fruit_dir, \"*.jpg\")):\n",
    "        img = cv2.imread(img, cv2.IMREAD_COLOR)\n",
    "        \n",
    "        img = cv2.resize(img, (45, 45))\n",
    "        img = cv2.cvtColor(img, cv2.COLOR_RGB2BGR)\n",
    "        imgf = np.reshape(img,(45*45,3))\n",
    "        val_fruits.append(img)\n",
    "        val_fruits_f.append(imgf)\n",
    "        val_labels.append(fruit_label)\n",
    "val_fruits = np.array(val_fruits)\n",
    "val_labels = np.array(val_labels)\n",
    "val_fruits_f = np.array(val_fruits_f)\n",
    "print(val_fruits.shape,val_labels.shape)"
   ]
  },
  {
   "cell_type": "code",
   "execution_count": 145,
   "metadata": {},
   "outputs": [
    {
     "name": "stdout",
     "output_type": "stream",
     "text": [
      "(498, 50)\n"
     ]
    }
   ],
   "source": [
    "val_label_ids = np.array([label_to_ids[i] for i in val_labels])\n",
    "val_images_scaled = scaler.transform([i.flatten() for i in val_fruits])\n",
    "val_pca_res = pca.transform(val_images_scaled)\n",
    "print(val_pca_res.shape)"
   ]
  },
  {
   "cell_type": "code",
   "execution_count": 146,
   "metadata": {},
   "outputs": [
    {
     "name": "stdout",
     "output_type": "stream",
     "text": [
      "(498, 2)\n"
     ]
    },
    {
     "data": {
      "image/png": "[encoded data removed]",
      "text/plain": [
       "<Figure size 576x432 with 1 Axes>"
      ]
     },
     "metadata": {},
     "output_type": "display_data"
    }
   ],
   "source": [
    "tsne = TSNE(n_components=2, perplexity=40.0)\n",
    "tsne_result = tsne.fit_transform(val_pca_res)\n",
    "tsne_result_scaled = StandardScaler().fit_transform(tsne_result)\n",
    "print(tsne_result_scaled.shape)\n",
    "\n",
    "fig = plt.figure(figsize=(8,6))\n",
    "\n",
    "ax = fig.add_subplot(111)\n",
    "\n",
    "for i in range(tsne_result_scaled.shape[0]):\n",
    "    if (val_label_ids[i]==0):\n",
    "        zerop = ax.scatter(tsne_result_scaled[i][0], tsne_result_scaled[i][1], c='y', marker='o')\n",
    "    if (val_label_ids[i]==1):\n",
    "        onep = ax.scatter(tsne_result_scaled[i][0], tsne_result_scaled[i][1], c='g', marker='o')\n",
    "    if (val_label_ids[i]==2):\n",
    "        twop = ax.scatter(tsne_result_scaled[i][0], tsne_result_scaled[i][1], c='r', marker='o')\n",
    "ax.set_title(\"Plot of PCA Result\")\n",
    "ax.set_xlabel('')\n",
    "ax.set_ylabel('')\n",
    "ax.legend([zerop,onep,twop], [\"Banana\",\"Limes\",\"Pineapple\"],loc=3)\n",
    "plt.show()"
   ]
  },
  {
   "cell_type": "code",
   "execution_count": 147,
   "metadata": {},
   "outputs": [],
   "source": [
    "test_predictions = svm_clf.predict(val_pca_res)"
   ]
  },
  {
   "cell_type": "code",
   "execution_count": 148,
   "metadata": {},
   "outputs": [
    {
     "name": "stdout",
     "output_type": "stream",
     "text": [
      "Validation Accuracy with SVM: 64.056225\n"
     ]
    }
   ],
   "source": [
    "precision = accuracy_score(test_predictions, val_label_ids) * 100\n",
    "print(\"Validation Accuracy with SVM: {0:.6f}\".format(precision))"
   ]
  },
  {
   "cell_type": "markdown",
   "metadata": {},
   "source": [
    "# Logistic Regression"
   ]
  },
  {
   "cell_type": "code",
   "execution_count": 149,
   "metadata": {},
   "outputs": [],
   "source": [
    "from sklearn.linear_model import LogisticRegressionCV\n",
    "from sklearn.metrics import confusion_matrix,precision_recall_curve,auc,roc_auc_score,roc_curve,recall_score,classification_report "
   ]
  },
  {
   "cell_type": "markdown",
   "metadata": {},
   "source": [
    "## Binary Logistic Regression"
   ]
  },
  {
   "cell_type": "code",
   "execution_count": 150,
   "metadata": {},
   "outputs": [],
   "source": [
    "import itertools\n",
    "B= '\\033[1m'\n",
    "E= '\\033[0m'\n",
    "\n",
    "## Define function to plot matrix based on:\n",
    "## [[True Non, False Fraud],[False Non, True Fraud]]\n",
    "\n",
    "def plot_confusion_matrix(cm, title = 'Confusion Matrix'):\n",
    "    \n",
    "    plt.figure()\n",
    "    plt.imshow(cm, interpolation='nearest', cmap=plt.cm.PuBuGn)\n",
    "    plt.title(title)\n",
    "    tick_marks = np.arange(len([0,1]))\n",
    "    plt.xticks(tick_marks, [\"Banana {0}\",\"Lime {1}\"], rotation=0)\n",
    "    plt.yticks(tick_marks, [\"Banana {0}\",\"Lime {1}\"])\n",
    "    plt.xlabel('Predicted label')\n",
    "    plt.ylabel('True label')\n",
    "    plt.colorbar()\n",
    "    \n",
    "    thresh = cm.max() / 2.\n",
    "    for i, j in itertools.product(range(cm.shape[0]), range(cm.shape[1])):\n",
    "        plt.text(j, i, cm[i, j],\n",
    "                 horizontalalignment=\"center\",\n",
    "                 color=\"white\" if cm[i, j] > thresh else \"black\")\n",
    "    plt.show()\n",
    "    print(B+\"Matrix Recall: \"+E+ str(cm[1,1]/(cm[1,0] + cm[1,1])*100) +\" %\")\n",
    "    print(B+\"Matrix Precision: \"+E+ str(cm[1,1]/(cm[1,1] + cm[0,1])*100) +\" %\")\n",
    "    \n",
    "def plot_confusion_matrix2(cm, title = 'Confusion Matrix'):\n",
    "    \n",
    "    plt.figure()\n",
    "    plt.imshow(cm, interpolation='nearest', cmap=plt.cm.PuBuGn)\n",
    "    plt.title(title)\n",
    "    tick_marks = np.arange(3)\n",
    "    plt.xticks(tick_marks, [\"Banana {0}\",\"Lime {1}\", \"Pineapple {2}\"], rotation=0)\n",
    "    plt.yticks(tick_marks, [\"Banana {0}\",\"Lime {1}\", \"Pineapple {2}\"])\n",
    "    plt.xlabel('Predicted label')\n",
    "    plt.ylabel('True label')\n",
    "    plt.colorbar()\n",
    "    \n",
    "    thresh = cm.max() / 2.\n",
    "    for i, j in itertools.product(range(cm.shape[0]), range(cm.shape[1])):\n",
    "        plt.text(j, i, cm[i, j],\n",
    "                 horizontalalignment=\"center\",\n",
    "                 color=\"white\" if cm[i, j] > thresh else \"black\")\n",
    "    plt.show()\n",
    "    #print(B+\"Matrix Recall: \"+E+ str(cm[1,1]/(cm[1,0] + cm[1,1])*100) +\" %\")\n",
    "    #print(B+\"Matrix Precision: \"+E+ str(cm[1,1]/(cm[1,1] + cm[0,1])*100) +\" %\")"
   ]
  },
  {
   "cell_type": "code",
   "execution_count": 151,
   "metadata": {},
   "outputs": [
    {
     "name": "stdout",
     "output_type": "stream",
     "text": [
      "Accuracy with LogisticRegressionCV: 100.000000\n"
     ]
    },
    {
     "data": {
      "image/png": "[encoded data removed]",
      "text/plain": [
       "<Figure size 432x288 with 2 Axes>"
      ]
     },
     "metadata": {},
     "output_type": "display_data"
    },
    {
     "name": "stdout",
     "output_type": "stream",
     "text": [
      "\u001b[1mMatrix Recall: \u001b[0m100.0 %\n",
      "\u001b[1mMatrix Precision: \u001b[0m100.0 %\n"
     ]
    }
   ],
   "source": [
    "two_classes = []\n",
    "two_classes_id = []\n",
    "for i in range(0, label_ids.shape[0]):\n",
    "    if(label_ids[i]!=2):\n",
    "        two_classes.append(pca_result[i,:])\n",
    "        two_classes_id.append(label_ids[i])\n",
    "two_classes_id = np.array(two_classes_id)\n",
    "two_classes = np.array(two_classes)\n",
    "\n",
    "X_train, X_test, y_train, y_test = train_test_split(two_classes, two_classes_id, test_size=0.25, random_state=42)\n",
    "clf = LogisticRegressionCV(cv=5, random_state=0).fit(X_train, y_train)\n",
    "predictions = clf.predict(X_test)\n",
    "\n",
    "precision = accuracy_score(predictions, y_test) * 100\n",
    "print(\"Accuracy with LogisticRegressionCV: {0:.6f}\".format(precision))\n",
    "\n",
    "# Compute confusion matrix\n",
    "cnf_matrix = confusion_matrix(y_test,predictions)\n",
    "np.set_printoptions(precision=2)\n",
    "\n",
    "# Plot non-normalized confusion matrix\n",
    "\n",
    "plot_confusion_matrix(cnf_matrix)"
   ]
  },
  {
   "cell_type": "markdown",
   "metadata": {},
   "source": [
    "## Multi-class Logisitic Regression"
   ]
  },
  {
   "cell_type": "code",
   "execution_count": 152,
   "metadata": {},
   "outputs": [
    {
     "name": "stdout",
     "output_type": "stream",
     "text": [
      "Accuracy with LogisticRegressionCV: 100.000000\n"
     ]
    },
    {
     "data": {
      "image/png": "[encoded data removed]",
      "text/plain": [
       "<Figure size 432x288 with 2 Axes>"
      ]
     },
     "metadata": {},
     "output_type": "display_data"
    },
    {
     "name": "stdout",
     "output_type": "stream",
     "text": [
      "             precision    recall  f1-score   support\n",
      "\n",
      "     Banana       1.00      1.00      1.00       124\n",
      "      Limes       1.00      1.00      1.00       117\n",
      "  Pineapple       1.00      1.00      1.00       127\n",
      "\n",
      "avg / total       1.00      1.00      1.00       368\n",
      "\n"
     ]
    }
   ],
   "source": [
    "X_train, X_test, y_train, y_test = train_test_split(pca_result, label_ids, test_size=0.25, random_state=42)\n",
    "clf = LogisticRegressionCV(cv=5, random_state=0, multi_class='multinomial').fit(X_train, y_train)\n",
    "predictions = clf.predict(X_test)\n",
    "\n",
    "precision = accuracy_score(predictions, y_test) * 100\n",
    "print(\"Accuracy with LogisticRegressionCV: {0:.6f}\".format(precision))\n",
    "\n",
    "# Compute confusion matrix\n",
    "cnf_matrix = confusion_matrix(y_test,predictions)\n",
    "np.set_printoptions(precision=2)\n",
    "\n",
    "# Plot non-normalized confusion matrix\n",
    "\n",
    "plot_confusion_matrix2(cnf_matrix)\n",
    "print(classification_report(predictions, y_test,target_names=label_names))"
   ]
  },
  {
   "cell_type": "markdown",
   "metadata": {},
   "source": [
    "# Classification Trees"
   ]
  },
  {
   "cell_type": "markdown",
   "metadata": {},
   "source": [
    "We use Sklearn's DecisionTreeClassifier, which defaults to using the gini index as a metric for measuring variance. \n",
    "Initially we will randomly choose a training and test split."
   ]
  },
  {
   "cell_type": "code",
   "execution_count": 167,
   "metadata": {},
   "outputs": [],
   "source": [
    "from sklearn.tree import DecisionTreeClassifier\n",
    "import numpy.linalg as LA\n",
    "DT = DecisionTreeClassifier(random_state=0)\n",
    "X_train, X_test, y_train, y_test = train_test_split(pca_result, label_ids, test_size=0.25, random_state=42)"
   ]
  },
  {
   "cell_type": "markdown",
   "metadata": {},
   "source": [
    "Fit the model to training data."
   ]
  },
  {
   "cell_type": "code",
   "execution_count": 168,
   "metadata": {},
   "outputs": [
    {
     "name": "stdout",
     "output_type": "stream",
     "text": [
      "Accuracy with Classification Trees: 99.456522\n"
     ]
    },
    {
     "data": {
      "image/png": "[encoded data removed]",
      "text/plain": [
       "<Figure size 432x288 with 2 Axes>"
      ]
     },
     "metadata": {},
     "output_type": "display_data"
    },
    {
     "name": "stdout",
     "output_type": "stream",
     "text": [
      "             precision    recall  f1-score   support\n",
      "\n",
      "     Banana       0.98      1.00      0.99       122\n",
      "      Limes       1.00      1.00      1.00       117\n",
      "  Pineapple       1.00      0.98      0.99       129\n",
      "\n",
      "avg / total       0.99      0.99      0.99       368\n",
      "\n"
     ]
    }
   ],
   "source": [
    "DT.fit(X_train,y_train)\n",
    "y_pred = DT.predict(X_test)\n",
    "precision = accuracy_score(y_pred, y_test) * 100\n",
    "print(\"Accuracy with Classification Trees: {0:.6f}\".format(precision))\n",
    "\n",
    "# Compute confusion matrix\n",
    "cnf_matrix = confusion_matrix(y_test,y_pred)\n",
    "np.set_printoptions(precision=2)\n",
    "\n",
    "# Plot non-normalized confusion matrix\n",
    "\n",
    "plot_confusion_matrix2(cnf_matrix)\n",
    "\n",
    "print(classification_report(y_pred, y_test,target_names=label_names))"
   ]
  },
  {
   "cell_type": "markdown",
   "metadata": {},
   "source": [
    "Notice we have a 99.46% accuracy on this random test/train split. Let's find the optimal split using K-fold Cross Validation. Create a function for a Decision Tree Classifier."
   ]
  },
  {
   "cell_type": "code",
   "execution_count": 169,
   "metadata": {},
   "outputs": [],
   "source": [
    "def DTClassifier(X_train,X_test,y_train,y_test):\n",
    "    DT = DecisionTreeClassifier(random_state=0)\n",
    "    DT.fit(X_train,y_train)\n",
    "    y_pred = DT.predict(X_test)\n",
    "    precision = accuracy_score(y_pred, y_test) * 100\n",
    "    print(\"Accuracy with Classification Trees: {0:.6f}\".format(precision))\n",
    "    return precision"
   ]
  },
  {
   "cell_type": "code",
   "execution_count": 170,
   "metadata": {},
   "outputs": [
    {
     "name": "stdout",
     "output_type": "stream",
     "text": [
      "KFold(n_splits=3, random_state=None, shuffle=True)\n"
     ]
    }
   ],
   "source": [
    "from sklearn.model_selection import KFold\n",
    "X = pca_result\n",
    "y = label_ids\n",
    "kf = KFold(n_splits=3, shuffle=True)\n",
    "kf.get_n_splits(X)\n",
    "print(kf)\n",
    "X_tr_l = []\n",
    "X_test_l = []\n",
    "y_tr_l = []\n",
    "y_test_l = []\n",
    "for train_index, test_index in kf.split(X):\n",
    "    #print(\"TRAIN:\", train_index, \"TEST:\", test_index)\n",
    "    X_train, X_test = X[train_index], X[test_index]\n",
    "    y_train, y_test = y[train_index], y[test_index]\n",
    "    X_tr_l.append(X_train)\n",
    "    X_test_l.append(X_test)\n",
    "    y_tr_l.append(y_train)\n",
    "    y_test_l.append(y_test)"
   ]
  },
  {
   "cell_type": "markdown",
   "metadata": {},
   "source": [
    "After creating our 3 sets of 3-fold test/train data, we can run fit our classifier to each of the 3 training sets and see which training set performs with the highest accuracy and save the set."
   ]
  },
  {
   "cell_type": "code",
   "execution_count": 171,
   "metadata": {},
   "outputs": [
    {
     "name": "stdout",
     "output_type": "stream",
     "text": [
      "Accuracy with Classification Trees: 100.000000\n",
      "running\n",
      "Accuracy with Classification Trees: 99.387755\n",
      "running\n",
      "Accuracy with Classification Trees: 98.979592\n",
      "running\n",
      "Best fold is:  1\n"
     ]
    }
   ],
   "source": [
    "accuracy = []\n",
    "for i in range(len(X_tr_l)):\n",
    "    accuracy.append(DTClassifier(X_tr_l[i],X_test_l[i],y_tr_l[i],y_test_l[i]))\n",
    "    print(\"running\")\n",
    "idx = np.argmax(accuracy)\n",
    "X_train = X_tr_l[idx]\n",
    "X_test = X_test_l[idx]\n",
    "y_train = y_tr_l[idx]\n",
    "y_test= y_test_l[idx]\n",
    "#print(X_train.shape,X_test.shape)\n",
    "print(\"Best fold is: \",idx+1)"
   ]
  },
  {
   "cell_type": "code",
   "execution_count": 172,
   "metadata": {},
   "outputs": [
    {
     "name": "stdout",
     "output_type": "stream",
     "text": [
      "Accuracy with Classification Tree: 100.000000\n"
     ]
    },
    {
     "data": {
      "image/png": "[encoded data removed]",
      "text/plain": [
       "<Figure size 432x288 with 2 Axes>"
      ]
     },
     "metadata": {},
     "output_type": "display_data"
    },
    {
     "name": "stdout",
     "output_type": "stream",
     "text": [
      "             precision    recall  f1-score   support\n",
      "\n",
      "     Banana       1.00      1.00      1.00       167\n",
      "      Limes       1.00      1.00      1.00       168\n",
      "  Pineapple       1.00      1.00      1.00       155\n",
      "\n",
      "avg / total       1.00      1.00      1.00       490\n",
      "\n"
     ]
    }
   ],
   "source": [
    "DT = DecisionTreeClassifier(random_state=0)\n",
    "DT.fit(X_train,y_train)\n",
    "y_pred = DT.predict(X_test)\n",
    "precision = accuracy_score(y_pred, y_test) * 100\n",
    "print(\"Accuracy with Classification Tree: {0:.6f}\".format(precision))\n",
    "\n",
    "# Compute confusion matrix\n",
    "cnf_matrix = confusion_matrix(y_test,y_pred)\n",
    "np.set_printoptions(precision=2)\n",
    "\n",
    "# Plot non-normalized confusion matrix\n",
    "\n",
    "plot_confusion_matrix2(cnf_matrix)\n",
    "print(classification_report(y_pred, y_test,target_names=label_names))"
   ]
  },
  {
   "cell_type": "markdown",
   "metadata": {},
   "source": [
    "Now that we have trained our data, we can test it on a validation set and see how our classifier performs. "
   ]
  },
  {
   "cell_type": "code",
   "execution_count": 173,
   "metadata": {},
   "outputs": [
    {
     "name": "stdout",
     "output_type": "stream",
     "text": [
      "Validation Accuracy with Classification Trees: 99.196787\n"
     ]
    },
    {
     "data": {
      "image/png": "[encoded data removed]",
      "text/plain": [
       "<Figure size 432x288 with 2 Axes>"
      ]
     },
     "metadata": {},
     "output_type": "display_data"
    },
    {
     "name": "stdout",
     "output_type": "stream",
     "text": [
      "             precision    recall  f1-score   support\n",
      "\n",
      "     Banana       1.00      0.98      0.99       170\n",
      "      Limes       0.98      1.00      0.99       162\n",
      "  Pineapple       1.00      1.00      1.00       166\n",
      "\n",
      "avg / total       0.99      0.99      0.99       498\n",
      "\n"
     ]
    }
   ],
   "source": [
    "val_pred = DT.predict(val_pca_res)\n",
    "precision = accuracy_score(val_pred, val_label_ids) * 100\n",
    "print(\"Validation Accuracy with Classification Trees: {0:.6f}\".format(precision))\n",
    "\n",
    "# Compute confusion matrix\n",
    "cnf_matrix = confusion_matrix(val_label_ids,val_pred)\n",
    "np.set_printoptions(precision=2)\n",
    "\n",
    "# Plot non-normalized confusion matrix\n",
    "\n",
    "plot_confusion_matrix2(cnf_matrix)\n",
    "print(classification_report(val_pred, val_label_ids,target_names=label_names))"
   ]
  },
  {
   "cell_type": "markdown",
   "metadata": {},
   "source": [
    "### Random Forest "
   ]
  },
  {
   "cell_type": "markdown",
   "metadata": {},
   "source": [
    "Random Forest is a type of classification tree technique that uses bootstrapping. Let's see if this method will work better or worse than general classification trees:"
   ]
  },
  {
   "cell_type": "code",
   "execution_count": 174,
   "metadata": {},
   "outputs": [
    {
     "name": "stdout",
     "output_type": "stream",
     "text": [
      "Accuracy with RandomForest: 100.000000\n"
     ]
    },
    {
     "data": {
      "image/png": "[encoded data removed]",
      "text/plain": [
       "<Figure size 432x288 with 2 Axes>"
      ]
     },
     "metadata": {},
     "output_type": "display_data"
    },
    {
     "name": "stdout",
     "output_type": "stream",
     "text": [
      "             precision    recall  f1-score   support\n",
      "\n",
      "     Banana       1.00      1.00      1.00       167\n",
      "      Limes       1.00      1.00      1.00       168\n",
      "  Pineapple       1.00      1.00      1.00       155\n",
      "\n",
      "avg / total       1.00      1.00      1.00       490\n",
      "\n"
     ]
    }
   ],
   "source": [
    "from sklearn.ensemble import RandomForestClassifier\n",
    "forest = RandomForestClassifier(n_estimators=10)\n",
    "forest = forest.fit(X_train, y_train)\n",
    "test_predictions = forest.predict(X_test)\n",
    "precision = accuracy_score(test_predictions, y_test) * 100\n",
    "print(\"Accuracy with RandomForest: {0:.6f}\".format(precision))\n",
    "\n",
    "# Compute confusion matrix\n",
    "cnf_matrix = confusion_matrix(y_test,test_predictions)\n",
    "np.set_printoptions(precision=2)\n",
    "\n",
    "# Plot non-normalized confusion matrix\n",
    "\n",
    "plot_confusion_matrix2(cnf_matrix)\n",
    "print(classification_report(test_predictions, y_test,target_names=label_names))"
   ]
  },
  {
   "cell_type": "code",
   "execution_count": 175,
   "metadata": {},
   "outputs": [
    {
     "name": "stdout",
     "output_type": "stream",
     "text": [
      "Validation Accuracy with Random Forest: 100.000000\n"
     ]
    },
    {
     "data": {
      "image/png": "[encoded data removed]",
      "text/plain": [
       "<Figure size 432x288 with 2 Axes>"
      ]
     },
     "metadata": {},
     "output_type": "display_data"
    },
    {
     "name": "stdout",
     "output_type": "stream",
     "text": [
      "             precision    recall  f1-score   support\n",
      "\n",
      "     Banana       1.00      1.00      1.00       167\n",
      "      Limes       1.00      1.00      1.00       168\n",
      "  Pineapple       1.00      1.00      1.00       155\n",
      "\n",
      "avg / total       1.00      1.00      1.00       490\n",
      "\n"
     ]
    }
   ],
   "source": [
    "val_predictions = forest.predict(val_pca_res)\n",
    "precision = accuracy_score(val_predictions, val_label_ids) * 100\n",
    "print(\"Validation Accuracy with Random Forest: {0:.6f}\".format(precision))\n",
    "\n",
    "# Compute confusion matrix\n",
    "cnf_matrix = confusion_matrix(val_label_ids,val_predictions)\n",
    "np.set_printoptions(precision=2)\n",
    "\n",
    "# Plot non-normalized confusion matrix\n",
    "\n",
    "plot_confusion_matrix2(cnf_matrix)\n",
    "print(classification_report(test_predictions, y_test,target_names=label_names))"
   ]
  },
  {
   "cell_type": "markdown",
   "metadata": {},
   "source": [
    "In this case, random forest seems to be the optimal classifier since it operates at 100% accuracy, just like logistic regression."
   ]
  },
  {
   "cell_type": "markdown",
   "metadata": {},
   "source": [
    "# ECE 445 (ML for ENGG): Credit Card Fraud Detection\n",
    "\n",
    "*Eric Jiang ewj12 158002948*\n",
    "\n",
    "12/14/2018"
   ]
  },
  {
   "cell_type": "markdown",
   "metadata": {},
   "source": [
    "**This dataset contains transactions from European credit cards in September 2013.**\n",
    "\n",
    "The variables are unknown due to confidentiality issues.\n",
    "\n",
    "*The only known variables are:*\n",
    "\n",
    "**Time** - Time it takes to reach final transaction\n",
    "\n",
    "**Amount** - Amount in the transaction\n",
    "\n",
    "**Class** - Determines if fraud (1) or non-fraud (0)"
   ]
  },
  {
   "cell_type": "code",
   "execution_count": 1,
   "metadata": {},
   "outputs": [],
   "source": [
    "import matplotlib.pyplot as plt\n",
    "import numpy as np\n",
    "import pandas as pd\n",
    "import csv\n",
    "\n",
    "B= '\\033[1m'\n",
    "E= '\\033[0m'"
   ]
  },
  {
   "cell_type": "code",
   "execution_count": 2,
   "metadata": {},
   "outputs": [
    {
     "data": {
      "text/html": [
       "<div>\n",
       "<style scoped>\n",
       "    .dataframe tbody tr th:only-of-type {\n",
       "        vertical-align: middle;\n",
       "    }\n",
       "\n",
       "    .dataframe tbody tr th {\n",
       "        vertical-align: top;\n",
       "    }\n",
       "\n",
       "    .dataframe thead th {\n",
       "        text-align: right;\n",
       "    }\n",
       "</style>\n",
       "<table border=\"1\" class=\"dataframe\">\n",
       "  <thead>\n",
       "    <tr style=\"text-align: right;\">\n",
       "      <th></th>\n",
       "      <th>Time</th>\n",
       "      <th>V1</th>\n",
       "      <th>V2</th>\n",
       "      <th>V3</th>\n",
       "      <th>V4</th>\n",
       "      <th>V5</th>\n",
       "      <th>V6</th>\n",
       "      <th>V7</th>\n",
       "      <th>V8</th>\n",
       "      <th>V9</th>\n",
       "      <th>...</th>\n",
       "      <th>V21</th>\n",
       "      <th>V22</th>\n",
       "      <th>V23</th>\n",
       "      <th>V24</th>\n",
       "      <th>V25</th>\n",
       "      <th>V26</th>\n",
       "      <th>V27</th>\n",
       "      <th>V28</th>\n",
       "      <th>Amount</th>\n",
       "      <th>Class</th>\n",
       "    </tr>\n",
       "  </thead>\n",
       "  <tbody>\n",
       "    <tr>\n",
       "      <th>0</th>\n",
       "      <td>0.0</td>\n",
       "      <td>-1.359807</td>\n",
       "      <td>-0.072781</td>\n",
       "      <td>2.536347</td>\n",
       "      <td>1.378155</td>\n",
       "      <td>-0.338321</td>\n",
       "      <td>0.462388</td>\n",
       "      <td>0.239599</td>\n",
       "      <td>0.098698</td>\n",
       "      <td>0.363787</td>\n",
       "      <td>...</td>\n",
       "      <td>-0.018307</td>\n",
       "      <td>0.277838</td>\n",
       "      <td>-0.110474</td>\n",
       "      <td>0.066928</td>\n",
       "      <td>0.128539</td>\n",
       "      <td>-0.189115</td>\n",
       "      <td>0.133558</td>\n",
       "      <td>-0.021053</td>\n",
       "      <td>149.62</td>\n",
       "      <td>0</td>\n",
       "    </tr>\n",
       "    <tr>\n",
       "      <th>1</th>\n",
       "      <td>0.0</td>\n",
       "      <td>1.191857</td>\n",
       "      <td>0.266151</td>\n",
       "      <td>0.166480</td>\n",
       "      <td>0.448154</td>\n",
       "      <td>0.060018</td>\n",
       "      <td>-0.082361</td>\n",
       "      <td>-0.078803</td>\n",
       "      <td>0.085102</td>\n",
       "      <td>-0.255425</td>\n",
       "      <td>...</td>\n",
       "      <td>-0.225775</td>\n",
       "      <td>-0.638672</td>\n",
       "      <td>0.101288</td>\n",
       "      <td>-0.339846</td>\n",
       "      <td>0.167170</td>\n",
       "      <td>0.125895</td>\n",
       "      <td>-0.008983</td>\n",
       "      <td>0.014724</td>\n",
       "      <td>2.69</td>\n",
       "      <td>0</td>\n",
       "    </tr>\n",
       "    <tr>\n",
       "      <th>2</th>\n",
       "      <td>1.0</td>\n",
       "      <td>-1.358354</td>\n",
       "      <td>-1.340163</td>\n",
       "      <td>1.773209</td>\n",
       "      <td>0.379780</td>\n",
       "      <td>-0.503198</td>\n",
       "      <td>1.800499</td>\n",
       "      <td>0.791461</td>\n",
       "      <td>0.247676</td>\n",
       "      <td>-1.514654</td>\n",
       "      <td>...</td>\n",
       "      <td>0.247998</td>\n",
       "      <td>0.771679</td>\n",
       "      <td>0.909412</td>\n",
       "      <td>-0.689281</td>\n",
       "      <td>-0.327642</td>\n",
       "      <td>-0.139097</td>\n",
       "      <td>-0.055353</td>\n",
       "      <td>-0.059752</td>\n",
       "      <td>378.66</td>\n",
       "      <td>0</td>\n",
       "    </tr>\n",
       "    <tr>\n",
       "      <th>3</th>\n",
       "      <td>1.0</td>\n",
       "      <td>-0.966272</td>\n",
       "      <td>-0.185226</td>\n",
       "      <td>1.792993</td>\n",
       "      <td>-0.863291</td>\n",
       "      <td>-0.010309</td>\n",
       "      <td>1.247203</td>\n",
       "      <td>0.237609</td>\n",
       "      <td>0.377436</td>\n",
       "      <td>-1.387024</td>\n",
       "      <td>...</td>\n",
       "      <td>-0.108300</td>\n",
       "      <td>0.005274</td>\n",
       "      <td>-0.190321</td>\n",
       "      <td>-1.175575</td>\n",
       "      <td>0.647376</td>\n",
       "      <td>-0.221929</td>\n",
       "      <td>0.062723</td>\n",
       "      <td>0.061458</td>\n",
       "      <td>123.50</td>\n",
       "      <td>0</td>\n",
       "    </tr>\n",
       "    <tr>\n",
       "      <th>4</th>\n",
       "      <td>2.0</td>\n",
       "      <td>-1.158233</td>\n",
       "      <td>0.877737</td>\n",
       "      <td>1.548718</td>\n",
       "      <td>0.403034</td>\n",
       "      <td>-0.407193</td>\n",
       "      <td>0.095921</td>\n",
       "      <td>0.592941</td>\n",
       "      <td>-0.270533</td>\n",
       "      <td>0.817739</td>\n",
       "      <td>...</td>\n",
       "      <td>-0.009431</td>\n",
       "      <td>0.798278</td>\n",
       "      <td>-0.137458</td>\n",
       "      <td>0.141267</td>\n",
       "      <td>-0.206010</td>\n",
       "      <td>0.502292</td>\n",
       "      <td>0.219422</td>\n",
       "      <td>0.215153</td>\n",
       "      <td>69.99</td>\n",
       "      <td>0</td>\n",
       "    </tr>\n",
       "  </tbody>\n",
       "</table>\n",
       "<p>5 rows × 31 columns</p>\n",
       "</div>"
      ],
      "text/plain": [
       "   Time        V1        V2        V3        V4        V5        V6        V7  \\\n",
       "0   0.0 -1.359807 -0.072781  2.536347  1.378155 -0.338321  0.462388  0.239599   \n",
       "1   0.0  1.191857  0.266151  0.166480  0.448154  0.060018 -0.082361 -0.078803   \n",
       "2   1.0 -1.358354 -1.340163  1.773209  0.379780 -0.503198  1.800499  0.791461   \n",
       "3   1.0 -0.966272 -0.185226  1.792993 -0.863291 -0.010309  1.247203  0.237609   \n",
       "4   2.0 -1.158233  0.877737  1.548718  0.403034 -0.407193  0.095921  0.592941   \n",
       "\n",
       "         V8        V9  ...         V21       V22       V23       V24  \\\n",
       "0  0.098698  0.363787  ...   -0.018307  0.277838 -0.110474  0.066928   \n",
       "1  0.085102 -0.255425  ...   -0.225775 -0.638672  0.101288 -0.339846   \n",
       "2  0.247676 -1.514654  ...    0.247998  0.771679  0.909412 -0.689281   \n",
       "3  0.377436 -1.387024  ...   -0.108300  0.005274 -0.190321 -1.175575   \n",
       "4 -0.270533  0.817739  ...   -0.009431  0.798278 -0.137458  0.141267   \n",
       "\n",
       "        V25       V26       V27       V28  Amount  Class  \n",
       "0  0.128539 -0.189115  0.133558 -0.021053  149.62      0  \n",
       "1  0.167170  0.125895 -0.008983  0.014724    2.69      0  \n",
       "2 -0.327642 -0.139097 -0.055353 -0.059752  378.66      0  \n",
       "3  0.647376 -0.221929  0.062723  0.061458  123.50      0  \n",
       "4 -0.206010  0.502292  0.219422  0.215153   69.99      0  \n",
       "\n",
       "[5 rows x 31 columns]"
      ]
     },
     "execution_count": 2,
     "metadata": {},
     "output_type": "execute_result"
    }
   ],
   "source": [
    "#Import the CSV and display the header\n",
    "dfo = pd.read_csv(\"creditcard.csv\")\n",
    "dfo.head()"
   ]
  },
  {
   "cell_type": "code",
   "execution_count": 3,
   "metadata": {},
   "outputs": [
    {
     "data": {
      "image/png": "[encoded data removed]",
      "text/plain": [
       "<Figure size 432x288 with 1 Axes>"
      ]
     },
     "metadata": {},
     "output_type": "display_data"
    },
    {
     "name": "stdout",
     "output_type": "stream",
     "text": [
      "\u001b[1mNumber of Correct Samples:\u001b[0m 284315\n",
      "\u001b[1mNumber of Fraud Samples:\u001b[0m 492\n",
      "\u001b[1mRatio of Fraud to Correct:\u001b[0m 0.0017304750013189597\n"
     ]
    }
   ],
   "source": [
    "#Portray the frequency of fraud\n",
    "count_classes = pd.value_counts(dfo['Class'], sort = True).sort_index()\n",
    "count_classes.plot(kind = 'bar')\n",
    "plt.title(\"Non-fraud Vs. Fraud\")\n",
    "plt.xlabel(\"Class: {0} = Correct \\n{1} = Fraud\")\n",
    "plt.ylabel(\"Samples\")\n",
    "plt.show()\n",
    "\n",
    "correct = count_classes.tolist()[0]\n",
    "fraud = count_classes.tolist()[1]\n",
    "print(B+\"Number of Correct Samples:\"+E, correct)\n",
    "print(B+\"Number of Fraud Samples:\"+E, fraud)\n",
    "print(B+\"Ratio of Fraud to Correct:\"+E, fraud/correct)"
   ]
  },
  {
   "cell_type": "markdown",
   "metadata": {},
   "source": [
    "**Since the # of fraud samples is only 0.17% of the dataset, the data needs to be undersampled for processing classifiers.** \n",
    "\n",
    "**Undersample the data (with 50% fraud and 50% non-fraud) to manipulate for PCA and graphing purposes**\n",
    "\n",
    "*Creating a sub-sample will solve overfitting -* With most samples as non-fraud, the classifiers will assume that almost all cases are non-frauds leading to poor precision."
   ]
  },
  {
   "cell_type": "code",
   "execution_count": 4,
   "metadata": {},
   "outputs": [
    {
     "data": {
      "text/html": [
       "<div>\n",
       "<style scoped>\n",
       "    .dataframe tbody tr th:only-of-type {\n",
       "        vertical-align: middle;\n",
       "    }\n",
       "\n",
       "    .dataframe tbody tr th {\n",
       "        vertical-align: top;\n",
       "    }\n",
       "\n",
       "    .dataframe thead th {\n",
       "        text-align: right;\n",
       "    }\n",
       "</style>\n",
       "<table border=\"1\" class=\"dataframe\">\n",
       "  <thead>\n",
       "    <tr style=\"text-align: right;\">\n",
       "      <th></th>\n",
       "      <th>V1</th>\n",
       "      <th>V2</th>\n",
       "      <th>V3</th>\n",
       "      <th>V4</th>\n",
       "      <th>V5</th>\n",
       "      <th>V6</th>\n",
       "      <th>V7</th>\n",
       "      <th>V8</th>\n",
       "      <th>V9</th>\n",
       "      <th>V10</th>\n",
       "      <th>...</th>\n",
       "      <th>V21</th>\n",
       "      <th>V22</th>\n",
       "      <th>V23</th>\n",
       "      <th>V24</th>\n",
       "      <th>V25</th>\n",
       "      <th>V26</th>\n",
       "      <th>V27</th>\n",
       "      <th>V28</th>\n",
       "      <th>Class</th>\n",
       "      <th>normAmount</th>\n",
       "    </tr>\n",
       "  </thead>\n",
       "  <tbody>\n",
       "    <tr>\n",
       "      <th>0</th>\n",
       "      <td>-1.359807</td>\n",
       "      <td>-0.072781</td>\n",
       "      <td>2.536347</td>\n",
       "      <td>1.378155</td>\n",
       "      <td>-0.338321</td>\n",
       "      <td>0.462388</td>\n",
       "      <td>0.239599</td>\n",
       "      <td>0.098698</td>\n",
       "      <td>0.363787</td>\n",
       "      <td>0.090794</td>\n",
       "      <td>...</td>\n",
       "      <td>-0.018307</td>\n",
       "      <td>0.277838</td>\n",
       "      <td>-0.110474</td>\n",
       "      <td>0.066928</td>\n",
       "      <td>0.128539</td>\n",
       "      <td>-0.189115</td>\n",
       "      <td>0.133558</td>\n",
       "      <td>-0.021053</td>\n",
       "      <td>0</td>\n",
       "      <td>0.244964</td>\n",
       "    </tr>\n",
       "    <tr>\n",
       "      <th>1</th>\n",
       "      <td>1.191857</td>\n",
       "      <td>0.266151</td>\n",
       "      <td>0.166480</td>\n",
       "      <td>0.448154</td>\n",
       "      <td>0.060018</td>\n",
       "      <td>-0.082361</td>\n",
       "      <td>-0.078803</td>\n",
       "      <td>0.085102</td>\n",
       "      <td>-0.255425</td>\n",
       "      <td>-0.166974</td>\n",
       "      <td>...</td>\n",
       "      <td>-0.225775</td>\n",
       "      <td>-0.638672</td>\n",
       "      <td>0.101288</td>\n",
       "      <td>-0.339846</td>\n",
       "      <td>0.167170</td>\n",
       "      <td>0.125895</td>\n",
       "      <td>-0.008983</td>\n",
       "      <td>0.014724</td>\n",
       "      <td>0</td>\n",
       "      <td>-0.342475</td>\n",
       "    </tr>\n",
       "    <tr>\n",
       "      <th>2</th>\n",
       "      <td>-1.358354</td>\n",
       "      <td>-1.340163</td>\n",
       "      <td>1.773209</td>\n",
       "      <td>0.379780</td>\n",
       "      <td>-0.503198</td>\n",
       "      <td>1.800499</td>\n",
       "      <td>0.791461</td>\n",
       "      <td>0.247676</td>\n",
       "      <td>-1.514654</td>\n",
       "      <td>0.207643</td>\n",
       "      <td>...</td>\n",
       "      <td>0.247998</td>\n",
       "      <td>0.771679</td>\n",
       "      <td>0.909412</td>\n",
       "      <td>-0.689281</td>\n",
       "      <td>-0.327642</td>\n",
       "      <td>-0.139097</td>\n",
       "      <td>-0.055353</td>\n",
       "      <td>-0.059752</td>\n",
       "      <td>0</td>\n",
       "      <td>1.160686</td>\n",
       "    </tr>\n",
       "    <tr>\n",
       "      <th>3</th>\n",
       "      <td>-0.966272</td>\n",
       "      <td>-0.185226</td>\n",
       "      <td>1.792993</td>\n",
       "      <td>-0.863291</td>\n",
       "      <td>-0.010309</td>\n",
       "      <td>1.247203</td>\n",
       "      <td>0.237609</td>\n",
       "      <td>0.377436</td>\n",
       "      <td>-1.387024</td>\n",
       "      <td>-0.054952</td>\n",
       "      <td>...</td>\n",
       "      <td>-0.108300</td>\n",
       "      <td>0.005274</td>\n",
       "      <td>-0.190321</td>\n",
       "      <td>-1.175575</td>\n",
       "      <td>0.647376</td>\n",
       "      <td>-0.221929</td>\n",
       "      <td>0.062723</td>\n",
       "      <td>0.061458</td>\n",
       "      <td>0</td>\n",
       "      <td>0.140534</td>\n",
       "    </tr>\n",
       "    <tr>\n",
       "      <th>4</th>\n",
       "      <td>-1.158233</td>\n",
       "      <td>0.877737</td>\n",
       "      <td>1.548718</td>\n",
       "      <td>0.403034</td>\n",
       "      <td>-0.407193</td>\n",
       "      <td>0.095921</td>\n",
       "      <td>0.592941</td>\n",
       "      <td>-0.270533</td>\n",
       "      <td>0.817739</td>\n",
       "      <td>0.753074</td>\n",
       "      <td>...</td>\n",
       "      <td>-0.009431</td>\n",
       "      <td>0.798278</td>\n",
       "      <td>-0.137458</td>\n",
       "      <td>0.141267</td>\n",
       "      <td>-0.206010</td>\n",
       "      <td>0.502292</td>\n",
       "      <td>0.219422</td>\n",
       "      <td>0.215153</td>\n",
       "      <td>0</td>\n",
       "      <td>-0.073403</td>\n",
       "    </tr>\n",
       "  </tbody>\n",
       "</table>\n",
       "<p>5 rows × 30 columns</p>\n",
       "</div>"
      ],
      "text/plain": [
       "         V1        V2        V3        V4        V5        V6        V7  \\\n",
       "0 -1.359807 -0.072781  2.536347  1.378155 -0.338321  0.462388  0.239599   \n",
       "1  1.191857  0.266151  0.166480  0.448154  0.060018 -0.082361 -0.078803   \n",
       "2 -1.358354 -1.340163  1.773209  0.379780 -0.503198  1.800499  0.791461   \n",
       "3 -0.966272 -0.185226  1.792993 -0.863291 -0.010309  1.247203  0.237609   \n",
       "4 -1.158233  0.877737  1.548718  0.403034 -0.407193  0.095921  0.592941   \n",
       "\n",
       "         V8        V9       V10     ...           V21       V22       V23  \\\n",
       "0  0.098698  0.363787  0.090794     ...     -0.018307  0.277838 -0.110474   \n",
       "1  0.085102 -0.255425 -0.166974     ...     -0.225775 -0.638672  0.101288   \n",
       "2  0.247676 -1.514654  0.207643     ...      0.247998  0.771679  0.909412   \n",
       "3  0.377436 -1.387024 -0.054952     ...     -0.108300  0.005274 -0.190321   \n",
       "4 -0.270533  0.817739  0.753074     ...     -0.009431  0.798278 -0.137458   \n",
       "\n",
       "        V24       V25       V26       V27       V28  Class  normAmount  \n",
       "0  0.066928  0.128539 -0.189115  0.133558 -0.021053      0    0.244964  \n",
       "1 -0.339846  0.167170  0.125895 -0.008983  0.014724      0   -0.342475  \n",
       "2 -0.689281 -0.327642 -0.139097 -0.055353 -0.059752      0    1.160686  \n",
       "3 -1.175575  0.647376 -0.221929  0.062723  0.061458      0    0.140534  \n",
       "4  0.141267 -0.206010  0.502292  0.219422  0.215153      0   -0.073403  \n",
       "\n",
       "[5 rows x 30 columns]"
      ]
     },
     "execution_count": 4,
     "metadata": {},
     "output_type": "execute_result"
    }
   ],
   "source": [
    "from sklearn.preprocessing import StandardScaler\n",
    "\n",
    "# StandardScalar().fit_transform(X, y=None)\n",
    "# fits data (computes mean and std) and transforms (by centering/scaling)\n",
    "# X = training set with y as target value (typically none)\n",
    "\n",
    "## STANDARDIZE THE DATA (TIME & AMOUNT) ##\n",
    "dfo['normAmount'] = StandardScaler().fit_transform(dfo['Amount'].values.reshape(-1, 1))\n",
    "df = dfo.drop(['Time','Amount'],axis=1)\n",
    "df.head()"
   ]
  },
  {
   "cell_type": "code",
   "execution_count": 5,
   "metadata": {},
   "outputs": [
    {
     "name": "stdout",
     "output_type": "stream",
     "text": [
      "\u001b[1mNew undersampled sub-sample\u001b[0m\n",
      "\u001b[1mFraudulent samples:\u001b[0m 492\n",
      "\u001b[1mNon-fraud samples:\u001b[0m 492\n"
     ]
    },
    {
     "data": {
      "image/png": "[encoded data removed]",
      "text/plain": [
       "<Figure size 432x288 with 1 Axes>"
      ]
     },
     "metadata": {},
     "output_type": "display_data"
    }
   ],
   "source": [
    "#Data\n",
    "X = df.loc[:, df.columns != 'Class']\n",
    "\n",
    "#Labels\n",
    "Y = df.loc[:, df.columns == 'Class']\n",
    "\n",
    "# Number of Fraud Records\n",
    "frecs = len(df[df.Class == 1])\n",
    "\n",
    "# Corresponding fraud indices in CSV\n",
    "fi = np.array(df[df.Class == 1].index)\n",
    "\n",
    "# Non-fruad indices in CSV\n",
    "ni = df[df.Class == 0].index\n",
    "\n",
    "# Create Array of random non-fraud indices with same size as fraud indices\n",
    "ri = np.array(np.random.choice(ni, frecs, replace = False))\n",
    "\n",
    "# Append the fraud indices with random non-fraud indices (50% fraud 50% non-fraud)\n",
    "usd = np.concatenate([fi,ri])\n",
    "\n",
    "# Under sampled dataset\n",
    "usd = df.iloc[usd,:]\n",
    "\n",
    "print(B+\"New undersampled sub-sample\"+E)\n",
    "print(B+\"Fraudulent samples:\"+E, len(fi))\n",
    "print(B+\"Non-fraud samples:\"+E, len(ri))\n",
    "\n",
    "count_classes = pd.value_counts(usd['Class'], sort = True).sort_index()\n",
    "count_classes.plot(kind = 'bar')\n",
    "plt.title(\"Sub-sample: 50% Non-fraud Vs. 50% Fraud\")\n",
    "plt.xlabel(\"Class: {0} = Non-fraud \\n{1} = Fraud\")\n",
    "plt.ylabel(\"Samples\")\n",
    "plt.show()"
   ]
  },
  {
   "cell_type": "markdown",
   "metadata": {},
   "source": [
    "**Scramble the sub-sample and divide the data/class labels for training**"
   ]
  },
  {
   "cell_type": "code",
   "execution_count": 7,
   "metadata": {},
   "outputs": [],
   "source": [
    "# Scramble the dataset so fraud isn't ordered first\n",
    "usd = usd.sample(frac=1)\n",
    "\n",
    "# Undersampled X data and Y labels via Class\n",
    "Xu = usd.loc[:, usd.columns != 'Class'] \n",
    "Yu = usd.loc[:, usd.columns == 'Class'] # Yu == 1 then fraud otherwise 0"
   ]
  },
  {
   "cell_type": "markdown",
   "metadata": {},
   "source": [
    "# Approach 1) K-Nearest Neighbor Classifier\n",
    "\n",
    "**First obtain 2-D PCA of Data**\n",
    "\n",
    "Create Training and Test sets for k-NN"
   ]
  },
  {
   "cell_type": "code",
   "execution_count": 8,
   "metadata": {},
   "outputs": [],
   "source": [
    "#Optimize the train/test lengths (this uses 15% of data as test)\n",
    "test_percent = .15\n",
    "test_len = (np.floor(test_percent*len(Xu))).astype(int)\n",
    "train_len = (len(Xu)-test_len).astype(int)\n",
    "\n",
    "#Create Training Data\n",
    "training_data = Xu[:train_len]\n",
    "training_labels = Yu[:train_len]\n",
    "\n",
    "#Create Test Data\n",
    "test_data = Xu[train_len:]\n",
    "test_labels = Yu[train_len:]"
   ]
  },
  {
   "cell_type": "code",
   "execution_count": 9,
   "metadata": {},
   "outputs": [
    {
     "data": {
      "image/png": "[encoded data removed]",
      "text/plain": [
       "<Figure size 720x576 with 1 Axes>"
      ]
     },
     "metadata": {},
     "output_type": "display_data"
    }
   ],
   "source": [
    "# Transpose the data matrix so each sample is a column\n",
    "X = training_data.T\n",
    "\n",
    "mean_vec = (np.sum(X, axis=1))/(X.shape[1])\n",
    "mean_mat = np.tile(mean_vec.values.reshape(X.shape[0],1),[1,X.shape[1]])\n",
    "\n",
    "#center the matrix\n",
    "centered_X = X - mean_mat\n",
    "\n",
    "#Singular Value Decomp centered matrix\n",
    "U, s, Vh = np.linalg.svd(centered_X)\n",
    "\n",
    "#Top 2 principal components of the centered data matrix\n",
    "U2 = U[:,0:2]\n",
    "\n",
    "#PCA features\n",
    "X_tilde = U2.T@centered_X\n",
    "\n",
    "#reconstruction\n",
    "X_hat = U2@X_tilde + mean_mat\n",
    "\n",
    "# Scatter plot for Fraud Vs. Non-Fraud\n",
    "plt.figure(figsize=(10,8))\n",
    "plt.scatter(X_tilde.T[np.where(training_labels==0),0],X_tilde.T[np.where(training_labels==0),1],c='g',marker='.',label='Non-Fraud')\n",
    "plt.scatter(X_tilde.T[np.where(training_labels==1),0],X_tilde.T[np.where(training_labels==1),1],c='r',marker='.',label='Fraud')\n",
    "plt.title('2D PCA Fraud vs. Non-Fraud')\n",
    "plt.legend()\n",
    "plt.show()"
   ]
  },
  {
   "cell_type": "markdown",
   "metadata": {},
   "source": [
    "**From this 2D PCA plot, it seems that half of fraud can be seperated. However, a good portion is still within the same region as Non-fraud**"
   ]
  },
  {
   "cell_type": "code",
   "execution_count": 10,
   "metadata": {},
   "outputs": [],
   "source": [
    "##### Find the 2D PCA features of test_data set #####\n",
    "\n",
    "# Transpose the data matrix so each sample is a column\n",
    "X = test_data.T\n",
    "\n",
    "mean_vec = (np.sum(X, axis=1))/(X.shape[1])\n",
    "mean_mat = np.tile(mean_vec.values.reshape(X.shape[0],1),[1,X.shape[1]])\n",
    "\n",
    "#center the matrix\n",
    "centered_X = X - mean_mat\n",
    "\n",
    "#Singular Value Decomp centered matrix\n",
    "U, s, Vh = np.linalg.svd(centered_X)\n",
    "\n",
    "#Top 2 principal components of the centered data matrix\n",
    "U2 = U[:,0:2]\n",
    "\n",
    "#X_tilde1 = 2D PCA features of test_set\n",
    "X_tilde1 = U2.T@centered_X"
   ]
  },
  {
   "cell_type": "markdown",
   "metadata": {},
   "source": [
    "**Creating k-NN algorithm**"
   ]
  },
  {
   "cell_type": "code",
   "execution_count": 11,
   "metadata": {},
   "outputs": [],
   "source": [
    "#Create class imagelabel(image = norm, label = 0,1)\n",
    "#Use for knn to sort data as images based on norm while keeping its label\n",
    "class imagelabel:\n",
    "    def __init__(self, image, label):\n",
    "        self.image = image\n",
    "        self.label = label\n",
    "    def __repr__(self):\n",
    "        return repr((self.image, self.label))\n",
    "\n",
    "#Create k-NN function to calculate the norms to the desired 'point'\n",
    "#Using closest 'k' # of points to classify labels\n",
    "def knn(point,k):\n",
    "    #Create a matrix to store all the norm distances w/ labels\n",
    "    norm_mat = []\n",
    "    \n",
    "    #Use the train_len pt of the training_data set\n",
    "    for i in range (0,train_len):\n",
    "        #Use X_tilde the 2D PCA features of training_data\n",
    "        #Find norm between point and training set\n",
    "        norm = np.linalg.norm(point-X_tilde.T[i])\n",
    "        \n",
    "        #append each (norm, label) using class imagelabel(norm,label)\n",
    "        if training_labels.values[i] == 0: \n",
    "            norm_mat.append(imagelabel(norm,0))\n",
    "        else:\n",
    "            norm_mat.append(imagelabel(norm,1))\n",
    "    \n",
    "    #sort based on image's closest norms\n",
    "    nmsort = sorted(norm_mat, key=lambda pt: pt.image)\n",
    "    \n",
    "    #Create counters to determine labels for k closest pts.\n",
    "    counter0 = 0\n",
    "    counter1 = 0\n",
    "    \n",
    "    #loop through k closest points\n",
    "    for i in range (0,k):\n",
    "        nms = nmsort[i]\n",
    "        if nms.label == 0: #if label = 0 counter0++\n",
    "            counter0+=1\n",
    "        else:\n",
    "            counter1+=1 #else label = 1 counter1++\n",
    "    \n",
    "    #output 0,1 label corresponding to highest counter\n",
    "    if counter0 >= counter1:\n",
    "        output = 0\n",
    "    else:\n",
    "        output = 1\n",
    "    \n",
    "    #return norm matrix, sorted norm matrix in order of closest to furthest pts, 0-1 output\n",
    "    return norm_mat, nmsort, output"
   ]
  },
  {
   "cell_type": "markdown",
   "metadata": {},
   "source": [
    "**Plotting k-NN Data with k = 5**"
   ]
  },
  {
   "cell_type": "code",
   "execution_count": 12,
   "metadata": {},
   "outputs": [],
   "source": [
    "#create right/wrong 2D pts for plotting\n",
    "xtright = []\n",
    "ytright = []\n",
    "xtwrong = []\n",
    "ytwrong = []\n",
    "\n",
    "#Counter for true/false frauds and non-frauds\n",
    "tf = 0\n",
    "tn = 0\n",
    "ff = 0\n",
    "fn = 0\n",
    "\n",
    "#loop through the test_len to compare k-NN output to label\n",
    "for i in range (0, test_len):\n",
    "    nm, nm2, o = knn(X_tilde1.T[i],5)\n",
    "    xn = X_tilde1.T[i,0]\n",
    "    yn = X_tilde1.T[i,1]\n",
    "    \n",
    "    #if output = test_label then k-NN classified right\n",
    "    #else classified wrong\n",
    "    if o == test_labels.values[i]:\n",
    "        xtright.append(xn) #append right pts for plot\n",
    "        ytright.append(yn)\n",
    "        #print('index',i, o, 'right')\n",
    "        #Increment True counters accordingly\n",
    "        if o == 1:\n",
    "            tf+=1\n",
    "        else:\n",
    "            tn+=1\n",
    "            \n",
    "    else:\n",
    "        xtwrong.append(xn) #append wrong pts for plot\n",
    "        ytwrong.append(yn)\n",
    "        #print('index:',i, o, 'wrong')\n",
    "        #Increment False counters accordingly\n",
    "        if o == 1:\n",
    "            ff+=1\n",
    "        else:\n",
    "            fn+=1\n"
   ]
  },
  {
   "cell_type": "code",
   "execution_count": 13,
   "metadata": {},
   "outputs": [
    {
     "data": {
      "image/png": "[encoded data removed]",
      "text/plain": [
       "<Figure size 720x576 with 1 Axes>"
      ]
     },
     "metadata": {},
     "output_type": "display_data"
    },
    {
     "name": "stdout",
     "output_type": "stream",
     "text": [
      "\u001b[1mError with k = 5:\u001b[0m 0.17687074829931973\n"
     ]
    }
   ],
   "source": [
    "#Plotting on graph and displaying error\n",
    "\n",
    "plt.figure(figsize=(10,8))\n",
    "plt.scatter(X_tilde.T[:,0],X_tilde.T[:,1], color = 'green', marker = '.', label = '2D PCA Training_Data')\n",
    "plt.scatter(xtright,ytright, color = 'blue', marker = '.', label = 'Correctly Classified')\n",
    "plt.scatter(xtwrong,ytwrong, color = 'black', marker = '.', label = 'Incorrectly Classified')\n",
    "plt.title('2D PCA k-NN testing_data vs. training_data k = 5')\n",
    "plt.legend()\n",
    "plt.show()\n",
    "\n",
    "err = len(xtwrong)/test_len\n",
    "print(B+'Error with k = 5:'+E, err)"
   ]
  },
  {
   "cell_type": "markdown",
   "metadata": {},
   "source": [
    "## From 2-D PCA it is apparent that the outliers can be classified, but a decent amount of frauds are too close to non-frauds. This would lead to more false reports. \n",
    "## **To fix this issue, metrics from the binary matrix should be analyzed in depth.**\n",
    "\n",
    "**The Recall metric would help determine the amount of false non-frauds (frauds that went undetected as innocent)**\n",
    "\n",
    "**The Precision metric would help determine the amount of false frauds (innocent transactions that were mistakenly detected as fraud)**\n",
    "\n",
    "*Recall* = True pos/(True pos + False neg)\n",
    "\n",
    "*Recall* = True fraud/(True fraud + False non-fraud)\n",
    "\n",
    "*Precision* = True pos/(True pos + False pos)\n",
    "\n",
    "*Precision* = True fraud/(True fraud + False Fraud)"
   ]
  },
  {
   "cell_type": "code",
   "execution_count": 14,
   "metadata": {},
   "outputs": [
    {
     "name": "stdout",
     "output_type": "stream",
     "text": [
      "\u001b[1mTrue/False k-NN results\u001b[0m\n",
      "True Fraud = 72\n",
      "True Non-fraud = 49\n",
      "False Fraud = 23\n",
      "False Non-fraud = 3\n"
     ]
    }
   ],
   "source": [
    "print(B+\"True/False k-NN results\"+E)\n",
    "print(\"True Fraud =\", tf)\n",
    "print(\"True Non-fraud =\", tn)\n",
    "print(\"False Fraud =\", ff)\n",
    "print(\"False Non-fraud =\", fn)"
   ]
  },
  {
   "cell_type": "markdown",
   "metadata": {},
   "source": [
    "**Define function to create and plot a binary confusion matrix**"
   ]
  },
  {
   "cell_type": "code",
   "execution_count": 15,
   "metadata": {},
   "outputs": [],
   "source": [
    "import itertools\n",
    "\n",
    "## Define function to plot matrix based on:\n",
    "## [[True Non, False Fraud],[False Non, True Fraud]]\n",
    "\n",
    "def plot_confusion_matrix(cm, title = 'Confusion Matrix'):\n",
    "    \n",
    "    plt.figure()\n",
    "    plt.imshow(cm, interpolation='nearest', cmap=plt.cm.PuBuGn)\n",
    "    plt.title(title)\n",
    "    tick_marks = np.arange(len([0,1]))\n",
    "    plt.xticks(tick_marks, [\"Non-Fraud {0}\",\"Fraud {1}\"], rotation=0)\n",
    "    plt.yticks(tick_marks, [\"Non-Fraud {0}\",\"Fraud {1}\"])\n",
    "    plt.xlabel('Predicted label')\n",
    "    plt.ylabel('True label')\n",
    "    plt.colorbar()\n",
    "    \n",
    "    thresh = cm.max() / 2.\n",
    "    for i, j in itertools.product(range(cm.shape[0]), range(cm.shape[1])):\n",
    "        plt.text(j, i, cm[i, j],\n",
    "                 horizontalalignment=\"center\",\n",
    "                 color=\"white\" if cm[i, j] > thresh else \"black\")\n",
    "    plt.show()\n",
    "    print(B+\"Matrix Recall: \"+E+ str(cm[1,1]/(cm[1,0] + cm[1,1])*100) +\" %\")\n",
    "    print(B+\"Matrix Precision: \"+E+ str(cm[1,1]/(cm[1,1] + cm[0,1])*100) +\" %\")"
   ]
  },
  {
   "cell_type": "code",
   "execution_count": 16,
   "metadata": {},
   "outputs": [
    {
     "data": {
      "image/png": "[encoded data removed]",
      "text/plain": [
       "<Figure size 432x288 with 2 Axes>"
      ]
     },
     "metadata": {},
     "output_type": "display_data"
    },
    {
     "name": "stdout",
     "output_type": "stream",
     "text": [
      "\u001b[1mMatrix Recall: \u001b[0m96.0 %\n",
      "\u001b[1mMatrix Precision: \u001b[0m75.78947368421053 %\n"
     ]
    }
   ],
   "source": [
    "knncm = np.array([[tn,ff],[fn,tf]])\n",
    "class_names = [\"Non-Fraud {0}\",\"Fraud {1}\"]\n",
    "plot_confusion_matrix(knncm)"
   ]
  },
  {
   "cell_type": "markdown",
   "metadata": {},
   "source": [
    "Recall and precision affect each other inversely. Higher recall would lead to lower precision and vice versa.\n",
    "\n",
    "Maximizing both is ideal, but Recall should be prioritized as it maximizes the detection of frauds (both real and fake). Whereas precision affects the rate of false alarms, an innocent result compared to the prior.\n",
    "\n",
    "*Note: K-means centroid clustering may be a better solution to this problem due to the large variation of the given features.*"
   ]
  },
  {
   "cell_type": "markdown",
   "metadata": {},
   "source": [
    "# Approach 2) Logistic Regression Classifier"
   ]
  },
  {
   "cell_type": "code",
   "execution_count": 23,
   "metadata": {},
   "outputs": [],
   "source": [
    "from sklearn.linear_model import LogisticRegression\n",
    "from sklearn.cross_validation import KFold\n",
    "from sklearn.metrics import recall_score\n",
    "from sklearn.metrics import confusion_matrix"
   ]
  },
  {
   "cell_type": "code",
   "execution_count": 24,
   "metadata": {},
   "outputs": [],
   "source": [
    "def printing_Kfold_scores(x_train_data,y_train_data):\n",
    "    fold = KFold(len(y_train_data),5,shuffle=False) \n",
    "\n",
    "    # Different C parameters\n",
    "    c_param_range = [0.01,0.1,1,10,100]\n",
    "\n",
    "    results_table = pd.DataFrame(index = range(len(c_param_range),2), columns = ['C_parameter','Mean recall score'])\n",
    "    results_table['C_parameter'] = c_param_range\n",
    "\n",
    "    # the k-fold will give 2 lists: train_indices = indices[0], test_indices = indices[1]\n",
    "    j = 0\n",
    "    for c_param in c_param_range:\n",
    "        print('-------------------------------------------')\n",
    "        print('C parameter: ', c_param)\n",
    "        print('-------------------------------------------')\n",
    "        print('')\n",
    "\n",
    "        recall_accs = []\n",
    "        for iteration, indices in enumerate(fold,start=1):\n",
    "\n",
    "            # Call the logistic regression model with a certain C parameter\n",
    "            lr = LogisticRegression(C = c_param, penalty = 'l1')\n",
    "\n",
    "            # Use the training data to fit the model. In this case, we use the portion of the fold to train the model\n",
    "            # with indices[0]. We then predict on the portion assigned as the 'test cross validation' with indices[1]\n",
    "            lr.fit(x_train_data.iloc[indices[0],:],y_train_data.iloc[indices[0],:].values.ravel())\n",
    "\n",
    "            # Predict values using the test indices in the training data\n",
    "            y_pred_undersample = lr.predict(x_train_data.iloc[indices[1],:].values)\n",
    "\n",
    "            # Calculate the recall score and append it to a list for recall scores representing the current c_parameter\n",
    "            recall_acc = recall_score(y_train_data.iloc[indices[1],:].values,y_pred_undersample)\n",
    "            recall_accs.append(recall_acc)\n",
    "            print('Iteration ', iteration,': recall score = ', recall_acc)\n",
    "\n",
    "        # The mean value of those recall scores is the metric we want to save and get hold of.\n",
    "        results_table.loc[j,'Mean recall score'] = np.mean(recall_accs)\n",
    "        j += 1\n",
    "        print('')\n",
    "        print('Mean recall score ', np.mean(recall_accs))\n",
    "        print('')\n",
    "\n",
    "    best_c = results_table\n",
    "    best_c.dtypes.eq(object) # you can see the type of best_c\n",
    "    new = best_c.columns[best_c.dtypes.eq(object)] #get the object column of the best_c\n",
    "    best_c[new] = best_c[new].apply(pd.to_numeric, errors = 'coerce', axis=0) # change the type of object\n",
    "    best_c\n",
    "    best_c = results_table.loc[results_table['Mean recall score'].idxmax()]['C_parameter'] #calculate the mean values\n",
    "    \n",
    "    # Finally, we can check which C parameter is the best amongst the chosen.\n",
    "    print('*********************************************************************************')\n",
    "    print('Best model to choose from cross validation is with C parameter = ', best_c)\n",
    "    print('*********************************************************************************')\n",
    "    \n",
    "    return best_c"
   ]
  },
  {
   "cell_type": "code",
   "execution_count": 25,
   "metadata": {},
   "outputs": [
    {
     "name": "stdout",
     "output_type": "stream",
     "text": [
      "-------------------------------------------\n",
      "C parameter:  0.01\n",
      "-------------------------------------------\n",
      "\n",
      "Iteration  1 : recall score =  0.9529411764705882\n",
      "Iteration  2 : recall score =  0.9753086419753086\n",
      "Iteration  3 : recall score =  0.9210526315789473\n",
      "Iteration  4 : recall score =  0.9058823529411765\n",
      "Iteration  5 : recall score =  0.9333333333333333\n",
      "\n",
      "Mean recall score  0.9377036272598709\n",
      "\n",
      "-------------------------------------------\n",
      "C parameter:  0.1\n",
      "-------------------------------------------\n",
      "\n",
      "Iteration  1 : recall score =  0.9529411764705882\n",
      "Iteration  2 : recall score =  0.9382716049382716\n",
      "Iteration  3 : recall score =  0.8947368421052632\n",
      "Iteration  4 : recall score =  0.8352941176470589\n",
      "Iteration  5 : recall score =  0.8888888888888888\n",
      "\n",
      "Mean recall score  0.9020265260100142\n",
      "\n",
      "-------------------------------------------\n",
      "C parameter:  1\n",
      "-------------------------------------------\n",
      "\n",
      "Iteration  1 : recall score =  0.9529411764705882\n",
      "Iteration  2 : recall score =  0.9753086419753086\n",
      "Iteration  3 : recall score =  0.881578947368421\n",
      "Iteration  4 : recall score =  0.8588235294117647\n",
      "Iteration  5 : recall score =  0.9\n",
      "\n",
      "Mean recall score  0.9137304590452165\n",
      "\n",
      "-------------------------------------------\n",
      "C parameter:  10\n",
      "-------------------------------------------\n",
      "\n",
      "Iteration  1 : recall score =  0.9529411764705882\n",
      "Iteration  2 : recall score =  0.9629629629629629\n",
      "Iteration  3 : recall score =  0.881578947368421\n",
      "Iteration  4 : recall score =  0.8588235294117647\n",
      "Iteration  5 : recall score =  0.9\n",
      "\n",
      "Mean recall score  0.9112613232427474\n",
      "\n",
      "-------------------------------------------\n",
      "C parameter:  100\n",
      "-------------------------------------------\n",
      "\n",
      "Iteration  1 : recall score =  0.9529411764705882\n",
      "Iteration  2 : recall score =  0.9629629629629629\n",
      "Iteration  3 : recall score =  0.881578947368421\n",
      "Iteration  4 : recall score =  0.8588235294117647\n",
      "Iteration  5 : recall score =  0.9\n",
      "\n",
      "Mean recall score  0.9112613232427474\n",
      "\n",
      "*********************************************************************************\n",
      "Best model to choose from cross validation is with C parameter =  0.01\n",
      "*********************************************************************************\n"
     ]
    }
   ],
   "source": [
    "best_c = printing_Kfold_scores(training_data,training_labels)"
   ]
  },
  {
   "cell_type": "code",
   "execution_count": 26,
   "metadata": {},
   "outputs": [
    {
     "data": {
      "image/png": "[encoded data removed]",
      "text/plain": [
       "<Figure size 432x288 with 2 Axes>"
      ]
     },
     "metadata": {},
     "output_type": "display_data"
    },
    {
     "name": "stdout",
     "output_type": "stream",
     "text": [
      "\u001b[1mMatrix Recall: \u001b[0m94.66666666666667 %\n",
      "\u001b[1mMatrix Precision: \u001b[0m91.02564102564102 %\n"
     ]
    }
   ],
   "source": [
    "# Use this C_parameter to build the final model with the whole training dataset and predict the classes in the test\n",
    "# dataset\n",
    "lr = LogisticRegression(C = best_c, penalty = 'l1')\n",
    "lr.fit(training_data,training_labels.values.ravel())\n",
    "y_pred_undersample = lr.predict(test_data.values)\n",
    "\n",
    "# Compute confusion matrix\n",
    "cnf_matrix = confusion_matrix(test_labels,y_pred_undersample)\n",
    "np.set_printoptions(precision=2)\n",
    "\n",
    "# Plot non-normalized confusion matrix\n",
    "\n",
    "plot_confusion_matrix(cnf_matrix)\n"
   ]
  },
  {
   "cell_type": "markdown",
   "metadata": {},
   "source": [
    "## Approach 3) Support Vector Machine Classifier"
   ]
  },
  {
   "cell_type": "code",
   "execution_count": 27,
   "metadata": {},
   "outputs": [
    {
     "data": {
      "text/plain": [
       "SVC(C=1, cache_size=200, class_weight=None, coef0=0.0,\n",
       "  decision_function_shape='ovr', degree=3, gamma='auto', kernel='rbf',\n",
       "  max_iter=-1, probability=False, random_state=0, shrinking=True,\n",
       "  tol=0.001, verbose=False)"
      ]
     },
     "execution_count": 27,
     "metadata": {},
     "output_type": "execute_result"
    }
   ],
   "source": [
    "#Using the gaussian kernel to build the initail model. Let us see if this is the best parameter later\n",
    "from sklearn.svm import SVC\n",
    "\n",
    "classifier= SVC(C= 1, kernel= 'rbf', random_state= 0)\n",
    "classifier.fit(training_data, training_labels.values.ravel())"
   ]
  },
  {
   "cell_type": "code",
   "execution_count": 28,
   "metadata": {},
   "outputs": [],
   "source": [
    "#Predict the class using X_test\n",
    "y_pred = classifier.predict(test_data)\n",
    "\n",
    "#cm1 is the confusion matrix 1 which uses the undersampled dataset\n",
    "cm1 = confusion_matrix(test_labels, y_pred)"
   ]
  },
  {
   "cell_type": "code",
   "execution_count": 29,
   "metadata": {},
   "outputs": [
    {
     "data": {
      "image/png": "[encoded data removed]",
      "text/plain": [
       "<Figure size 432x288 with 2 Axes>"
      ]
     },
     "metadata": {},
     "output_type": "display_data"
    },
    {
     "name": "stdout",
     "output_type": "stream",
     "text": [
      "\u001b[1mMatrix Recall: \u001b[0m94.66666666666667 %\n",
      "\u001b[1mMatrix Precision: \u001b[0m93.42105263157895 %\n"
     ]
    }
   ],
   "source": [
    "from sklearn.metrics import confusion_matrix\n",
    "    \n",
    "plot_confusion_matrix(cm1)\n"
   ]
  },
  {
   "cell_type": "code",
   "execution_count": 30,
   "metadata": {},
   "outputs": [
    {
     "name": "stdout",
     "output_type": "stream",
     "text": [
      "The mean accuracy in %:  93.42943201376937\n",
      "The standard deviation in %  2.3974884406488064\n",
      "The accuracy of our model in % is betweeen 91.03194357312057 and 95.82692045441817\n"
     ]
    }
   ],
   "source": [
    "from sklearn.model_selection import cross_val_score\n",
    "\n",
    "#Applying 10 fold cross validation\n",
    "accuracies = cross_val_score(estimator = classifier, X=training_data, y = training_labels.values.ravel(), cv = 10)\n",
    "mean_accuracy= accuracies.mean()*100\n",
    "std_accuracy= accuracies.std()*100\n",
    "print(\"The mean accuracy in %: \", accuracies.mean()*100)\n",
    "print(\"The standard deviation in % \", accuracies.std()*100)\n",
    "print(\"The accuracy of our model in % is betweeen {} and {}\".format(mean_accuracy-std_accuracy, mean_accuracy+std_accuracy))"
   ]
  },
  {
   "cell_type": "code",
   "execution_count": 31,
   "metadata": {},
   "outputs": [
    {
     "name": "stdout",
     "output_type": "stream",
     "text": [
      "The best accuracy using gridSearch is 0.94026284348865\n",
      "The best parameters for using this model is {'C': 1, 'kernel': 'linear'}\n"
     ]
    }
   ],
   "source": [
    "from sklearn.model_selection import GridSearchCV\n",
    "\n",
    "#applying gridsearchCV to our classifier\n",
    "#Specifying the parameters in dictionaries to try out different parameters.\n",
    "#The GridSearchCV will try all the parameters and give us the best parameters\n",
    "\n",
    "parameters = [{'C': [1, 10, 100, 1000], 'kernel': ['linear']},\n",
    "              {'C': [1, 10, 100, 1000], 'kernel': ['rbf'], 'gamma': [0.1, 0.2, 0.3, 0.4, 0.5, 0.6, 0.7, 0.8, 0.9]}]\n",
    "\n",
    "grid_search = GridSearchCV(estimator = classifier,\n",
    "                           param_grid = parameters,\n",
    "                           scoring = 'accuracy',\n",
    "                           cv = 10,\n",
    "                           n_jobs = -1)\n",
    "grid_search = grid_search.fit(training_data, training_labels.values.ravel())\n",
    "best_accuracy = grid_search.best_score_\n",
    "print(\"The best accuracy using gridSearch is\", best_accuracy)\n",
    "\n",
    "best_parameters = grid_search.best_params_\n",
    "print(\"The best parameters for using this model is\", best_parameters)"
   ]
  },
  {
   "cell_type": "code",
   "execution_count": 32,
   "metadata": {},
   "outputs": [
    {
     "data": {
      "image/png": "[encoded data removed]",
      "text/plain": [
       "<Figure size 432x288 with 2 Axes>"
      ]
     },
     "metadata": {},
     "output_type": "display_data"
    },
    {
     "name": "stdout",
     "output_type": "stream",
     "text": [
      "\u001b[1mMatrix Recall: \u001b[0m94.66666666666667 %\n",
      "\u001b[1mMatrix Precision: \u001b[0m93.42105263157895 %\n"
     ]
    },
    {
     "data": {
      "image/png": "[encoded data removed]",
      "text/plain": [
       "<Figure size 432x288 with 2 Axes>"
      ]
     },
     "metadata": {},
     "output_type": "display_data"
    },
    {
     "name": "stdout",
     "output_type": "stream",
     "text": [
      "\u001b[1mMatrix Recall: \u001b[0m94.66666666666667 %\n",
      "\u001b[1mMatrix Precision: \u001b[0m93.42105263157895 %\n"
     ]
    }
   ],
   "source": [
    "#fitting the model with the best parameters\n",
    "classifier_with_best_parameters =  SVC(C= best_parameters[\"C\"], kernel= best_parameters[\"kernel\"], random_state= 0)\n",
    "classifier_with_best_parameters.fit(training_data, training_labels.values.ravel())\n",
    "\n",
    "#predicting the Class \n",
    "y_pred_best_parameters = classifier_with_best_parameters.predict(test_data)\n",
    "\n",
    "#creating a confusion matrix\n",
    "#cm2 is the confusion matrix  which uses the best parameters\n",
    "cm2 = confusion_matrix(test_labels, y_pred_best_parameters)\n",
    "#visualizing the confusion matrix\n",
    "\n",
    "#matrix 1\n",
    "plot_confusion_matrix(cm1, title = \"Confusion Matrix with default C = 1 parameter\")\n",
    "plt.show()\n",
    "\n",
    "#matrix 2\n",
    "plot_confusion_matrix(cm2, title = \"Confusion Matrix with optimal C parameter\")\n",
    "plt.show()"
   ]
  },
  {
   "cell_type": "markdown",
   "metadata": {},
   "source": [
    "## Comparing the three sub-set Approaches with testing on the full Data Set"
   ]
  },
  {
   "cell_type": "code",
   "execution_count": 33,
   "metadata": {},
   "outputs": [
    {
     "name": "stdout",
     "output_type": "stream",
     "text": [
      "Number transactions train dataset:  242085\n",
      "Number transactions test dataset:  42722\n",
      "Total number of transactions:  284807\n"
     ]
    }
   ],
   "source": [
    "from sklearn.cross_validation import train_test_split\n",
    "\n",
    "#Data\n",
    "X = df.loc[:, df.columns != 'Class']\n",
    "\n",
    "#Labels\n",
    "Y = df.loc[:, df.columns == 'Class']\n",
    "\n",
    "# Whole dataset\n",
    "X_train, X_test, y_train, y_test = train_test_split(X,Y,test_size = 0.15, random_state = 0)\n",
    "\n",
    "print(\"Number transactions train dataset: \", len(X_train))\n",
    "print(\"Number transactions test dataset: \", len(X_test))\n",
    "print(\"Total number of transactions: \", len(X_train)+len(X_test))"
   ]
  },
  {
   "cell_type": "markdown",
   "metadata": {},
   "source": [
    "**Singular Vector Machine Matrix** "
   ]
  },
  {
   "cell_type": "code",
   "execution_count": 34,
   "metadata": {},
   "outputs": [
    {
     "name": "stdout",
     "output_type": "stream",
     "text": [
      "SVM Classifier\n"
     ]
    },
    {
     "data": {
      "image/png": "[encoded data removed]",
      "text/plain": [
       "<Figure size 432x288 with 2 Axes>"
      ]
     },
     "metadata": {},
     "output_type": "display_data"
    },
    {
     "name": "stdout",
     "output_type": "stream",
     "text": [
      "\u001b[1mMatrix Recall: \u001b[0m93.24324324324324 %\n",
      "\u001b[1mMatrix Precision: \u001b[0m4.609218436873747 %\n"
     ]
    }
   ],
   "source": [
    "# predicting y_pred_full_dataset\n",
    "y_pred_full_dataset= classifier_with_best_parameters.predict(X_test)\n",
    "\n",
    "# confusion matrix usign y_test_full and ypred_full\n",
    "cm3 = confusion_matrix(y_test, y_pred_full_dataset)\n",
    "\n",
    "print(\"SVM Classifier\")\n",
    "plot_confusion_matrix(cm3, \"Support Vector Matrix\")"
   ]
  },
  {
   "cell_type": "code",
   "execution_count": 35,
   "metadata": {},
   "outputs": [],
   "source": [
    "# logistic regression\n",
    "# Use this C_parameter to build the final model with the whole training dataset and predict the classes in the test\n",
    "# dataset\n",
    "lr = LogisticRegression(C = best_c, penalty = 'l1')\n",
    "lr.fit(training_data,training_labels.values.ravel())\n",
    "y_pred = lr.predict(X_test.values)\n",
    "\n",
    "# Compute confusion matrix\n",
    "cnf_matrix = confusion_matrix(y_test,y_pred)\n",
    "np.set_printoptions(precision=2)"
   ]
  },
  {
   "cell_type": "code",
   "execution_count": 36,
   "metadata": {},
   "outputs": [],
   "source": [
    "# knn full dataset confusion matrix\n",
    "from sklearn.neighbors import KNeighborsClassifier\n",
    "classifier= KNeighborsClassifier(n_neighbors = 5)\n",
    "classifier.fit(training_data, training_labels.values.ravel())\n",
    "\n",
    "y_predknn = classifier.predict(X_test)\n",
    "cm4 = confusion_matrix(y_test,y_predknn)"
   ]
  },
  {
   "cell_type": "code",
   "execution_count": 37,
   "metadata": {},
   "outputs": [
    {
     "name": "stdout",
     "output_type": "stream",
     "text": [
      "SVM Classifier\n"
     ]
    },
    {
     "data": {
      "image/png": "[encoded data removed]",
      "text/plain": [
       "<Figure size 432x288 with 2 Axes>"
      ]
     },
     "metadata": {},
     "output_type": "display_data"
    },
    {
     "name": "stdout",
     "output_type": "stream",
     "text": [
      "\u001b[1mMatrix Recall: \u001b[0m93.24324324324324 %\n",
      "\u001b[1mMatrix Precision: \u001b[0m4.609218436873747 %\n"
     ]
    }
   ],
   "source": [
    "print(\"SVM Classifier\")\n",
    "plot_confusion_matrix(cm3, \"Support Vector Matrix\")"
   ]
  },
  {
   "cell_type": "code",
   "execution_count": 38,
   "metadata": {},
   "outputs": [
    {
     "name": "stdout",
     "output_type": "stream",
     "text": [
      "Logistic Regression Classifier\n"
     ]
    },
    {
     "data": {
      "image/png": "[encoded data removed]",
      "text/plain": [
       "<Figure size 432x288 with 2 Axes>"
      ]
     },
     "metadata": {},
     "output_type": "display_data"
    },
    {
     "name": "stdout",
     "output_type": "stream",
     "text": [
      "\u001b[1mMatrix Recall: \u001b[0m94.5945945945946 %\n",
      "\u001b[1mMatrix Precision: \u001b[0m2.7237354085603114 %\n"
     ]
    }
   ],
   "source": [
    "print(\"Logistic Regression Classifier\")\n",
    "plot_confusion_matrix(cnf_matrix, \"Logistic Regression Matrix\")"
   ]
  },
  {
   "cell_type": "code",
   "execution_count": 39,
   "metadata": {},
   "outputs": [
    {
     "name": "stdout",
     "output_type": "stream",
     "text": [
      "kNN Classifier\n"
     ]
    },
    {
     "data": {
      "image/png": "[encoded data removed]",
      "text/plain": [
       "<Figure size 432x288 with 2 Axes>"
      ]
     },
     "metadata": {},
     "output_type": "display_data"
    },
    {
     "name": "stdout",
     "output_type": "stream",
     "text": [
      "\u001b[1mMatrix Recall: \u001b[0m95.94594594594594 %\n",
      "\u001b[1mMatrix Precision: \u001b[0m5.675459632294165 %\n"
     ]
    }
   ],
   "source": [
    "print(\"kNN Classifier\")\n",
    "plot_confusion_matrix(cm4, title = \"k-Nearest Neighbor Matrix\")"
   ]
  },
  {
   "cell_type": "markdown",
   "metadata": {},
   "source": [
    "*In conclusion:*\n",
    "1. SVM was the better model as it had the best recall (comparable to Logistic Regression) and precision. \n",
    "2. Logistic Regression was comparable to SVM as it had similar recall rates. \n",
    "    - However, SVM had the higher precision rate and thus was better than LR. Higher precision would lead to less false fraud alarms.\n",
    "3. kNN was the worst model in terms of detecting fraud as it had the worst recall rate.\n",
    "   - However, kNN had the highest precision rate leading to the best model in terms of reporting false fraud alarms."
   ]
  },
  {
   "cell_type": "code",
   "execution_count": null,
   "metadata": {},
   "outputs": [],
   "source": []
  }
 ],
 "metadata": {
  "kernelspec": {
   "display_name": "Python 3",
   "language": "python",
   "name": "python3"
  },
  "language_info": {
   "codemirror_mode": {
    "name": "ipython",
    "version": 3
   },
   "file_extension": ".py",
   "mimetype": "text/x-python",
   "name": "python",
   "nbconvert_exporter": "python",
   "pygments_lexer": "ipython3",
   "version": "3.6.5"
  }
 },
 "nbformat": 4,
 "nbformat_minor": 2
}
