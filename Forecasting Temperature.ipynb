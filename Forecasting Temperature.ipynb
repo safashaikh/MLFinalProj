{
 "cells": [
  {
   "cell_type": "markdown",
   "metadata": {},
   "source": [
    "# Original Dataset: Air Quality in Madrid in 2018"
   ]
  },
  {
   "cell_type": "markdown",
   "metadata": {},
   "source": [
    "The .csv file shows the air quality parameters (chemicals) measured at each of the stations in Madrid every 24 hours over the course of 4 months (January to April) in 2018. \n",
    "\n",
    "We originally planned to use regression on this dataset; however, we found that it was too difficult. There was no one parameter that would address air quality and instead showed the measurements of various chemicals in the air. There was also insuffient data; where many of the stations were missing half the chemicals. The only consistent readings among the chemcials was NO, NO_2, and NO_x. We would have needed to choose one as our target and two as our data, we would not have suffient information for a regression. Also, the presence of certain chemicals does not neccessairly correlate with the presence of other chemicals, so it would not have been a good dataset to choose for a regression classifier."
   ]
  },
  {
   "cell_type": "code",
   "execution_count": 11,
   "metadata": {},
   "outputs": [
    {
     "data": {
      "text/html": [
       "<div>\n",
       "<style scoped>\n",
       "    .dataframe tbody tr th:only-of-type {\n",
       "        vertical-align: middle;\n",
       "    }\n",
       "\n",
       "    .dataframe tbody tr th {\n",
       "        vertical-align: top;\n",
       "    }\n",
       "\n",
       "    .dataframe thead th {\n",
       "        text-align: right;\n",
       "    }\n",
       "</style>\n",
       "<table border=\"1\" class=\"dataframe\">\n",
       "  <thead>\n",
       "    <tr style=\"text-align: right;\">\n",
       "      <th></th>\n",
       "      <th>date</th>\n",
       "      <th>BEN</th>\n",
       "      <th>CH4</th>\n",
       "      <th>CO</th>\n",
       "      <th>EBE</th>\n",
       "      <th>NMHC</th>\n",
       "      <th>NO</th>\n",
       "      <th>NO_2</th>\n",
       "      <th>NOx</th>\n",
       "      <th>O_3</th>\n",
       "      <th>PM10</th>\n",
       "      <th>PM25</th>\n",
       "      <th>SO_2</th>\n",
       "      <th>TCH</th>\n",
       "      <th>TOL</th>\n",
       "      <th>station</th>\n",
       "    </tr>\n",
       "  </thead>\n",
       "  <tbody>\n",
       "    <tr>\n",
       "      <th>0</th>\n",
       "      <td>2018-03-01 01:00:00</td>\n",
       "      <td>NaN</td>\n",
       "      <td>NaN</td>\n",
       "      <td>0.3</td>\n",
       "      <td>NaN</td>\n",
       "      <td>NaN</td>\n",
       "      <td>1.0</td>\n",
       "      <td>29.0</td>\n",
       "      <td>31.0</td>\n",
       "      <td>NaN</td>\n",
       "      <td>NaN</td>\n",
       "      <td>NaN</td>\n",
       "      <td>2.0</td>\n",
       "      <td>NaN</td>\n",
       "      <td>NaN</td>\n",
       "      <td>28079004</td>\n",
       "    </tr>\n",
       "    <tr>\n",
       "      <th>1</th>\n",
       "      <td>2018-03-01 01:00:00</td>\n",
       "      <td>0.5</td>\n",
       "      <td>1.39</td>\n",
       "      <td>0.3</td>\n",
       "      <td>0.2</td>\n",
       "      <td>0.02</td>\n",
       "      <td>6.0</td>\n",
       "      <td>40.0</td>\n",
       "      <td>49.0</td>\n",
       "      <td>52.0</td>\n",
       "      <td>5.0</td>\n",
       "      <td>4.0</td>\n",
       "      <td>3.0</td>\n",
       "      <td>1.41</td>\n",
       "      <td>0.8</td>\n",
       "      <td>28079008</td>\n",
       "    </tr>\n",
       "    <tr>\n",
       "      <th>2</th>\n",
       "      <td>2018-03-01 01:00:00</td>\n",
       "      <td>0.4</td>\n",
       "      <td>NaN</td>\n",
       "      <td>NaN</td>\n",
       "      <td>0.2</td>\n",
       "      <td>NaN</td>\n",
       "      <td>4.0</td>\n",
       "      <td>41.0</td>\n",
       "      <td>47.0</td>\n",
       "      <td>NaN</td>\n",
       "      <td>NaN</td>\n",
       "      <td>NaN</td>\n",
       "      <td>NaN</td>\n",
       "      <td>NaN</td>\n",
       "      <td>1.1</td>\n",
       "      <td>28079011</td>\n",
       "    </tr>\n",
       "    <tr>\n",
       "      <th>3</th>\n",
       "      <td>2018-03-01 01:00:00</td>\n",
       "      <td>NaN</td>\n",
       "      <td>NaN</td>\n",
       "      <td>0.3</td>\n",
       "      <td>NaN</td>\n",
       "      <td>NaN</td>\n",
       "      <td>1.0</td>\n",
       "      <td>35.0</td>\n",
       "      <td>37.0</td>\n",
       "      <td>54.0</td>\n",
       "      <td>NaN</td>\n",
       "      <td>NaN</td>\n",
       "      <td>NaN</td>\n",
       "      <td>NaN</td>\n",
       "      <td>NaN</td>\n",
       "      <td>28079016</td>\n",
       "    </tr>\n",
       "    <tr>\n",
       "      <th>4</th>\n",
       "      <td>2018-03-01 01:00:00</td>\n",
       "      <td>NaN</td>\n",
       "      <td>NaN</td>\n",
       "      <td>NaN</td>\n",
       "      <td>NaN</td>\n",
       "      <td>NaN</td>\n",
       "      <td>1.0</td>\n",
       "      <td>27.0</td>\n",
       "      <td>29.0</td>\n",
       "      <td>49.0</td>\n",
       "      <td>NaN</td>\n",
       "      <td>NaN</td>\n",
       "      <td>3.0</td>\n",
       "      <td>NaN</td>\n",
       "      <td>NaN</td>\n",
       "      <td>28079017</td>\n",
       "    </tr>\n",
       "  </tbody>\n",
       "</table>\n",
       "</div>"
      ],
      "text/plain": [
       "                  date  BEN   CH4   CO  EBE  NMHC   NO  NO_2   NOx   O_3  \\\n",
       "0  2018-03-01 01:00:00  NaN   NaN  0.3  NaN   NaN  1.0  29.0  31.0   NaN   \n",
       "1  2018-03-01 01:00:00  0.5  1.39  0.3  0.2  0.02  6.0  40.0  49.0  52.0   \n",
       "2  2018-03-01 01:00:00  0.4   NaN  NaN  0.2   NaN  4.0  41.0  47.0   NaN   \n",
       "3  2018-03-01 01:00:00  NaN   NaN  0.3  NaN   NaN  1.0  35.0  37.0  54.0   \n",
       "4  2018-03-01 01:00:00  NaN   NaN  NaN  NaN   NaN  1.0  27.0  29.0  49.0   \n",
       "\n",
       "   PM10  PM25  SO_2   TCH  TOL   station  \n",
       "0   NaN   NaN   2.0   NaN  NaN  28079004  \n",
       "1   5.0   4.0   3.0  1.41  0.8  28079008  \n",
       "2   NaN   NaN   NaN   NaN  1.1  28079011  \n",
       "3   NaN   NaN   NaN   NaN  NaN  28079016  \n",
       "4   NaN   NaN   3.0   NaN  NaN  28079017  "
      ]
     },
     "execution_count": 11,
     "metadata": {},
     "output_type": "execute_result"
    }
   ],
   "source": [
    "import csv\n",
    "import numpy as np\n",
    "import numpy.linalg as LA\n",
    "import matplotlib.pyplot as plt\n",
    "import pandas as pd\n",
    "\n",
    "with open('madrid_2018.csv', newline='') as csvfile:\n",
    "    data = list(csv.reader(csvfile))\n",
    "\n",
    "# creating all data for station 28079004\n",
    "data = np.array(data)\n",
    "data = data[1:data.shape[0],0:data.shape[1]]\n",
    "airq = []\n",
    "date = []\n",
    "for i in range(0, data.shape[0]):\n",
    "    for j in range(0, data.shape[1]):\n",
    "        if(data[i,-1]=='28079004'):\n",
    "            if(j==0):\n",
    "                date.append(data[i,j])\n",
    "            elif(data[i,j]==''):\n",
    "                airq.append('0')\n",
    "            else:\n",
    "                airq.append(data[i,j])\n",
    "            \n",
    "airq = np.array(airq)\n",
    "date = np.array(date)\n",
    "airq = np.reshape(airq, (2880,15))\n",
    "\n",
    "airq = airq.astype(np.float)\n",
    "\n",
    "pddata = pd.read_csv(\"madrid_2018.csv\")\n",
    "pddata.head()"
   ]
  },
  {
   "cell_type": "markdown",
   "metadata": {},
   "source": [
    "# Forecasting Temperature"
   ]
  },
  {
   "cell_type": "code",
   "execution_count": 14,
   "metadata": {},
   "outputs": [
    {
     "data": {
      "text/html": [
       "<div>\n",
       "<style scoped>\n",
       "    .dataframe tbody tr th:only-of-type {\n",
       "        vertical-align: middle;\n",
       "    }\n",
       "\n",
       "    .dataframe tbody tr th {\n",
       "        vertical-align: top;\n",
       "    }\n",
       "\n",
       "    .dataframe thead th {\n",
       "        text-align: right;\n",
       "    }\n",
       "</style>\n",
       "<table border=\"1\" class=\"dataframe\">\n",
       "  <thead>\n",
       "    <tr style=\"text-align: right;\">\n",
       "      <th></th>\n",
       "      <th>Formatted Date</th>\n",
       "      <th>Summary</th>\n",
       "      <th>Precip Type</th>\n",
       "      <th>Temperature (C)</th>\n",
       "      <th>Apparent Temperature (C)</th>\n",
       "      <th>Humidity</th>\n",
       "      <th>Wind Speed (km/h)</th>\n",
       "      <th>Wind Bearing (degrees)</th>\n",
       "      <th>Visibility (km)</th>\n",
       "      <th>Loud Cover</th>\n",
       "      <th>Pressure (millibars)</th>\n",
       "      <th>Daily Summary</th>\n",
       "    </tr>\n",
       "  </thead>\n",
       "  <tbody>\n",
       "    <tr>\n",
       "      <th>0</th>\n",
       "      <td>2006-04-01 00:00:00.000 +0200</td>\n",
       "      <td>Partly Cloudy</td>\n",
       "      <td>rain</td>\n",
       "      <td>9.472222</td>\n",
       "      <td>7.388889</td>\n",
       "      <td>0.89</td>\n",
       "      <td>14.1197</td>\n",
       "      <td>251.0</td>\n",
       "      <td>15.8263</td>\n",
       "      <td>0.0</td>\n",
       "      <td>1015.13</td>\n",
       "      <td>Partly cloudy throughout the day.</td>\n",
       "    </tr>\n",
       "    <tr>\n",
       "      <th>1</th>\n",
       "      <td>2006-04-01 01:00:00.000 +0200</td>\n",
       "      <td>Partly Cloudy</td>\n",
       "      <td>rain</td>\n",
       "      <td>9.355556</td>\n",
       "      <td>7.227778</td>\n",
       "      <td>0.86</td>\n",
       "      <td>14.2646</td>\n",
       "      <td>259.0</td>\n",
       "      <td>15.8263</td>\n",
       "      <td>0.0</td>\n",
       "      <td>1015.63</td>\n",
       "      <td>Partly cloudy throughout the day.</td>\n",
       "    </tr>\n",
       "    <tr>\n",
       "      <th>2</th>\n",
       "      <td>2006-04-01 02:00:00.000 +0200</td>\n",
       "      <td>Mostly Cloudy</td>\n",
       "      <td>rain</td>\n",
       "      <td>9.377778</td>\n",
       "      <td>9.377778</td>\n",
       "      <td>0.89</td>\n",
       "      <td>3.9284</td>\n",
       "      <td>204.0</td>\n",
       "      <td>14.9569</td>\n",
       "      <td>0.0</td>\n",
       "      <td>1015.94</td>\n",
       "      <td>Partly cloudy throughout the day.</td>\n",
       "    </tr>\n",
       "    <tr>\n",
       "      <th>3</th>\n",
       "      <td>2006-04-01 03:00:00.000 +0200</td>\n",
       "      <td>Partly Cloudy</td>\n",
       "      <td>rain</td>\n",
       "      <td>8.288889</td>\n",
       "      <td>5.944444</td>\n",
       "      <td>0.83</td>\n",
       "      <td>14.1036</td>\n",
       "      <td>269.0</td>\n",
       "      <td>15.8263</td>\n",
       "      <td>0.0</td>\n",
       "      <td>1016.41</td>\n",
       "      <td>Partly cloudy throughout the day.</td>\n",
       "    </tr>\n",
       "    <tr>\n",
       "      <th>4</th>\n",
       "      <td>2006-04-01 04:00:00.000 +0200</td>\n",
       "      <td>Mostly Cloudy</td>\n",
       "      <td>rain</td>\n",
       "      <td>8.755556</td>\n",
       "      <td>6.977778</td>\n",
       "      <td>0.83</td>\n",
       "      <td>11.0446</td>\n",
       "      <td>259.0</td>\n",
       "      <td>15.8263</td>\n",
       "      <td>0.0</td>\n",
       "      <td>1016.51</td>\n",
       "      <td>Partly cloudy throughout the day.</td>\n",
       "    </tr>\n",
       "  </tbody>\n",
       "</table>\n",
       "</div>"
      ],
      "text/plain": [
       "                  Formatted Date        Summary Precip Type  Temperature (C)  \\\n",
       "0  2006-04-01 00:00:00.000 +0200  Partly Cloudy        rain         9.472222   \n",
       "1  2006-04-01 01:00:00.000 +0200  Partly Cloudy        rain         9.355556   \n",
       "2  2006-04-01 02:00:00.000 +0200  Mostly Cloudy        rain         9.377778   \n",
       "3  2006-04-01 03:00:00.000 +0200  Partly Cloudy        rain         8.288889   \n",
       "4  2006-04-01 04:00:00.000 +0200  Mostly Cloudy        rain         8.755556   \n",
       "\n",
       "   Apparent Temperature (C)  Humidity  Wind Speed (km/h)  \\\n",
       "0                  7.388889      0.89            14.1197   \n",
       "1                  7.227778      0.86            14.2646   \n",
       "2                  9.377778      0.89             3.9284   \n",
       "3                  5.944444      0.83            14.1036   \n",
       "4                  6.977778      0.83            11.0446   \n",
       "\n",
       "   Wind Bearing (degrees)  Visibility (km)  Loud Cover  Pressure (millibars)  \\\n",
       "0                   251.0          15.8263         0.0               1015.13   \n",
       "1                   259.0          15.8263         0.0               1015.63   \n",
       "2                   204.0          14.9569         0.0               1015.94   \n",
       "3                   269.0          15.8263         0.0               1016.41   \n",
       "4                   259.0          15.8263         0.0               1016.51   \n",
       "\n",
       "                       Daily Summary  \n",
       "0  Partly cloudy throughout the day.  \n",
       "1  Partly cloudy throughout the day.  \n",
       "2  Partly cloudy throughout the day.  \n",
       "3  Partly cloudy throughout the day.  \n",
       "4  Partly cloudy throughout the day.  "
      ]
     },
     "execution_count": 14,
     "metadata": {},
     "output_type": "execute_result"
    }
   ],
   "source": [
    "with open('weatherHistory.csv', newline='') as csvfile:\n",
    "    predata = list(csv.reader(csvfile))\n",
    "\n",
    "# processing the csv information into target and data for regression\n",
    "predata = np.array(predata)\n",
    "predata = predata[1:predata.shape[0],3:-1]\n",
    "np.random.shuffle(predata)\n",
    "target = predata[:,0].astype(float)\n",
    "data = predata[:,1:6].astype(float)\n",
    "\n",
    "pddata = pd.read_csv(\"weatherHistory.csv\")\n",
    "pddata.head()"
   ]
  },
  {
   "cell_type": "markdown",
   "metadata": {},
   "source": [
    "We used the temperature (C) column as our target value and used apparent temperature (C), humidity, wind speed (km/h), wind bearing (degrees), and visibility (km) columns as our data parameters."
   ]
  },
  {
   "cell_type": "markdown",
   "metadata": {},
   "source": [
    "## Approach 1: Least Squares (using K-fold validation)"
   ]
  },
  {
   "cell_type": "markdown",
   "metadata": {},
   "source": [
    "For the least sqaures approach, we used the algorithm and implementation discussed in class. The aim of regression is to be able to find a function such that $$y = w^Tb$$. In least squares, we use the following equation to find $\\hat{w}$ which is $$\\hat{w} = (X^TX)^{-1}y$$ on our training set. We can then use $$y = \\hat{w}^Tb$$ to find the predicted values for our test set."
   ]
  },
  {
   "cell_type": "code",
   "execution_count": 15,
   "metadata": {},
   "outputs": [
    {
     "name": "stdout",
     "output_type": "stream",
     "text": [
      "0.8958770119825288\n",
      "0.9019150108263143\n",
      "0.9043085354334768\n",
      "0.89913904063337\n",
      "0.9053742030703918\n",
      "The average prediction error from 5-fold CV:  0.9013227603892163\n"
     ]
    },
    {
     "data": {
      "image/png": "[encoded data removed]",
      "text/plain": [
       "<Figure size 432x288 with 1 Axes>"
      ]
     },
     "metadata": {
      "needs_background": "light"
     },
     "output_type": "display_data"
    }
   ],
   "source": [
    "# function to calculate Least Sqaures on training set\n",
    "def LS(data, labels):\n",
    "    w_hat = np.matmul(np.matmul(LA.inv(np.matmul(np.transpose(data), data)), np.transpose(data)), labels)\n",
    "    return w_hat\n",
    "\n",
    "# function to check errors on test set\n",
    "def LS_error(X, labels, w_hat):\n",
    "    y_est = np.matmul(X, w_hat)\n",
    "    error = LA.norm(labels-y_est)**2/X.shape[0]\n",
    "    return y_est, error\n",
    "\n",
    "# append ones column to our X\n",
    "X = np.ones((len(data), 6))\n",
    "for i in range(0, len(data)):\n",
    "    for j in range(0, 5):\n",
    "        X[i, j] = data[i, j]\n",
    "\n",
    "# split our data into test and validation for K fold CV, where K=5\n",
    "test1 = X[0:19290]\n",
    "testlab1 = target[0:19290]\n",
    "train1 = X[19290:96453] \n",
    "label1 = target[19290:96453]\n",
    "\n",
    "test2 = X[19290:38580, :]\n",
    "testlab2 = target[19290:38580]\n",
    "train2 = np.concatenate((X[0:19290, :], X[38580:96453, :]))\n",
    "label2 = np.concatenate((target[0:19290], target[38580:96453]))\n",
    "\n",
    "test3 = X[38580:57870, :]\n",
    "testlab3 = target[38580:57870]\n",
    "train3 = np.concatenate((X[0:38580, :], X[57870:96453, :]))\n",
    "label3 = np.concatenate((target[0:38580], target[57870:96453]))\n",
    "\n",
    "test4 = X[57870:77160, :]\n",
    "testlab4 = target[57870:77160]\n",
    "train4 = np.concatenate((X[0:57870, :], X[77160:96453, :]))\n",
    "label4 = np.concatenate((target[0:57870], target[77160:96453]))\n",
    "\n",
    "test5 = X[77160:96453, :]\n",
    "testlab5 = target[77160:96453]\n",
    "train5 = X[0:77160, :]\n",
    "label5 = target[0:77160]\n",
    "\n",
    "# train on each set and check error\n",
    "w1 = LS(train1, label1)\n",
    "y1, err1 = LS_error(test1, testlab1, w1)\n",
    "print(err1)\n",
    "\n",
    "w2 = LS(train2, label2)\n",
    "y2, err2 = LS_error(test2, testlab2, w2)\n",
    "print(err2)\n",
    "\n",
    "w3 = LS(train3, label3)\n",
    "y3, err3 = LS_error(test3, testlab3, w3)\n",
    "print(err3)\n",
    "\n",
    "w4 = LS(train4, label4)\n",
    "y4, err4 = LS_error(test4, testlab4, w4)\n",
    "print(err4)\n",
    "\n",
    "w5 = LS(train5, label5)\n",
    "y5, err5 = LS_error(test5, testlab5, w5)\n",
    "print(err5)\n",
    "\n",
    "# average prediction error for LS\n",
    "avg = (err1+err2+err3+err4+err5)/5\n",
    "print(\"The average prediction error from 5-fold CV: \", avg)\n",
    "\n",
    "# plot of one of the measured vs predicted target values\n",
    "plt.scatter(testlab4, y4, c='g')\n",
    "plt.plot(testlab4,testlab4, 'b')\n",
    "plt.title(\"Measured vs Predicted Target\")\n",
    "plt.xlabel(\"Measured Target\")\n",
    "plt.ylabel(\"Predicted Target\")\n",
    "plt.show()"
   ]
  },
  {
   "cell_type": "markdown",
   "metadata": {},
   "source": [
    "## Approach 2: Ridge Regression (with K-fold CV)"
   ]
  },
  {
   "cell_type": "markdown",
   "metadata": {},
   "source": [
    "For the ridge regression approach, we used the algorithm and implementation discussed in class. The aim of regression is to be able to find a function such that $$y = w^Tb$$. In lridge regression, we use the following equation to find $\\hat{w}$ which is $$\\hat{w} = (X^TX+\\lambda I)^{-1}y$$ on our training set. We use K fold CV to find the optimal $\\lambda$. We can then use $$y = \\hat{w}^Tb$$ to find the predicted values for our test set."
   ]
  },
  {
   "cell_type": "code",
   "execution_count": 19,
   "metadata": {
    "scrolled": true
   },
   "outputs": [
    {
     "name": "stdout",
     "output_type": "stream",
     "text": [
      "The average prediction error from 5-fold CV:  0.9013913970931414\n",
      "From index:  3\n",
      "Thus, the best lambda value: 0.3333333333333333\n"
     ]
    },
    {
     "data": {
      "image/png": "[encoded data removed]",
      "text/plain": [
       "<Figure size 432x288 with 1 Axes>"
      ]
     },
     "metadata": {},
     "output_type": "display_data"
    }
   ],
   "source": [
    "# function to calculate ridge regression on training data\n",
    "def RR(data, labels, lam):\n",
    "    w_hat = np.matmul(np.matmul(LA.inv(np.matmul(np.transpose(data), data)+lam*np.identity(data.shape[1])), np.transpose(data)), labels)\n",
    "    return w_hat\n",
    "\n",
    "# function to calulcate errors on test data\n",
    "def RR_error(X, labels, w_hat):\n",
    "    y_est = np.matmul(X, w_hat)\n",
    "    error = LA.norm(labels-y_est)**2/X.shape[0]\n",
    "    return y_est, error\n",
    "\n",
    "# setting up lambda and errors for the K fold CV\n",
    "lam = np.linspace(0, 10, num=91)\n",
    "err1 = np.zeros(91)\n",
    "err2 = np.zeros(91)\n",
    "err3 = np.zeros(91)\n",
    "err4 = np.zeros(91)\n",
    "err5 = np.zeros(91)\n",
    "avg = np.zeros(91)\n",
    "\n",
    "# running K fold CV (where K=5) to find optimal lambda and check average prediction error\n",
    "for i in range(0, len(lam)):\n",
    "    w1 = RR(train1, label1, lam[i])\n",
    "    y1, err1[i] = RR_error(test1, testlab1, w1)\n",
    "\n",
    "    w2 = RR(train2, label2, lam[i])\n",
    "    y2, err2[i] = RR_error(test2, testlab2, w2)\n",
    "\n",
    "    w3 = RR(train3, label3, lam[i])\n",
    "    y3, err3[i] = RR_error(test3, testlab3, w3)\n",
    "\n",
    "    w4 = RR(train4, label4, lam[i])\n",
    "    y4, err4[i] = RR_error(test4, testlab4, w4)\n",
    "\n",
    "    w5 = RR(train5, label5, lam[i])\n",
    "    y5, err5[i] = RR_error(test5, testlab5, w5)\n",
    "    \n",
    "    avg[i] = (err1[i]+err2[i]+err3[i]+err4[i]+err5[i])/5\n",
    "\n",
    "# find optimal lambda and report average prediction error\n",
    "print(\"The average prediction error from 5-fold CV: \", np.min(avg))\n",
    "print(\"From index: \", np.argmin(avg))    \n",
    "print(\"Thus, the best lambda value:\", lam[np.argmin(avg)])\n",
    "\n",
    "# plot optimal lambda and prediction for one of the test sets\n",
    "w = RR(train4, label4, lam[np.argmin(avg)])\n",
    "y, err = RR_error(test4, testlab4, w)\n",
    "plt.scatter(testlab4, y, c='g')\n",
    "plt.plot(testlab4,testlab4, 'b')\n",
    "plt.title(\"Measured vs Predicted Target\")\n",
    "plt.xlabel(\"Measured Target\")\n",
    "plt.ylabel(\"Predicted Target\")\n",
    "plt.show()"
   ]
  },
  {
   "cell_type": "markdown",
   "metadata": {},
   "source": [
    "# Regression Trees"
   ]
  },
  {
   "cell_type": "markdown",
   "metadata": {},
   "source": [
    "Split data into train and test set."
   ]
  },
  {
   "cell_type": "code",
   "execution_count": 26,
   "metadata": {},
   "outputs": [
    {
     "name": "stdout",
     "output_type": "stream",
     "text": [
      "(67517, 5)\n",
      "(28936, 5)\n"
     ]
    },
    {
     "data": {
      "text/plain": [
       "DecisionTreeRegressor(criterion='mse', max_depth=5, max_features=None,\n",
       "           max_leaf_nodes=None, min_impurity_decrease=0.0,\n",
       "           min_impurity_split=None, min_samples_leaf=1,\n",
       "           min_samples_split=2, min_weight_fraction_leaf=0.0,\n",
       "           presort=False, random_state=None, splitter='best')"
      ]
     },
     "execution_count": 26,
     "metadata": {},
     "output_type": "execute_result"
    }
   ],
   "source": [
    "import numpy as np\n",
    "from sklearn.tree import DecisionTreeRegressor\n",
    "import matplotlib.pyplot as plt\n",
    "from sklearn.cross_validation import train_test_split\n",
    "\n",
    "X_train, X_test, y_train, y_test = train_test_split(data,target,test_size = 0.3, random_state = 0)\n",
    "\n"
   ]
  },
  {
   "cell_type": "code",
   "execution_count": 27,
   "metadata": {},
   "outputs": [
    {
     "data": {
      "text/plain": [
       "DecisionTreeRegressor(criterion='mse', max_depth=5, max_features=None,\n",
       "           max_leaf_nodes=None, min_impurity_decrease=0.0,\n",
       "           min_impurity_split=None, min_samples_leaf=1,\n",
       "           min_samples_split=2, min_weight_fraction_leaf=0.0,\n",
       "           presort=False, random_state=None, splitter='best')"
      ]
     },
     "execution_count": 27,
     "metadata": {},
     "output_type": "execute_result"
    }
   ],
   "source": [
    "# Fit regression model\n",
    "regr_1 = DecisionTreeRegressor(max_depth=2)\n",
    "regr_2 = DecisionTreeRegressor(max_depth=5)\n",
    "regr_1.fit(X_train, y_train)\n",
    "regr_2.fit(X_train, y_train)"
   ]
  },
  {
   "cell_type": "code",
   "execution_count": 33,
   "metadata": {},
   "outputs": [
    {
     "name": "stdout",
     "output_type": "stream",
     "text": [
      "[ 8.60748019  3.86659221 14.70581917 ... 24.26520062 12.3008703\n",
      "  4.43151514]\n"
     ]
    }
   ],
   "source": [
    "# Predict\n",
    "y_1 = regr_1.predict(X_test)\n",
    "y_2 = regr_2.predict(X_test)\n",
    "print(y2)"
   ]
  },
  {
   "cell_type": "code",
   "execution_count": 34,
   "metadata": {},
   "outputs": [
    {
     "data": {
      "image/png": "[encoded data removed]",
      "text/plain": [
       "<Figure size 432x288 with 1 Axes>"
      ]
     },
     "metadata": {},
     "output_type": "display_data"
    }
   ],
   "source": [
    "# Plot the results\n",
    "plt.figure()\n",
    "plt.scatter(y_test, y_test, s=20, edgecolor=\"black\",\n",
    "            c=\"darkorange\", label=\"data targets\")\n",
    "plt.scatter(y_test, y_1, color=\"cornflowerblue\",\n",
    "         label=\"max_depth=2\")\n",
    "plt.scatter(y_test, y_2, color=\"yellowgreen\", label=\"max_depth=5\")\n",
    "#plt.plot(y_test,y_test,c='g',label='actual')\n",
    "plt.xlabel(\"data\")\n",
    "plt.ylabel(\"target\")\n",
    "plt.title(\"Decision Tree Regression\")\n",
    "plt.legend()\n",
    "plt.show()"
   ]
  },
  {
   "cell_type": "code",
   "execution_count": null,
   "metadata": {},
   "outputs": [],
   "source": []
  }
 ],
 "metadata": {
  "kernelspec": {
   "display_name": "Python 3",
   "language": "python",
   "name": "python3"
  },
  "language_info": {
   "codemirror_mode": {
    "name": "ipython",
    "version": 3
   },
   "file_extension": ".py",
   "mimetype": "text/x-python",
   "name": "python",
   "nbconvert_exporter": "python",
   "pygments_lexer": "ipython3",
   "version": "3.5.6"
  }
 },
 "nbformat": 4,
 "nbformat_minor": 2
}
