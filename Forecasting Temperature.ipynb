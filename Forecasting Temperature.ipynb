{
 "cells": [
  {
   "cell_type": "markdown",
   "metadata": {},
   "source": [
    "# Madrid Air Quality 2018"
   ]
  },
  {
   "cell_type": "markdown",
   "metadata": {},
   "source": [
    "The csv shows the air quality parameters (chemicals) measured at each of the stations in Madrid every 24 hours over the course of 4 months (January to April) in 2018. \n",
    "\n",
    "date BEN CH4 CO\tEBE\tNMHC NO\tNO_2 NOx O_3 PM10 PM25 SO_2 TCH\tTOL\tstation\n",
    "\n",
    "However a lot of data is missing per station. And there is no one air quality feature to get from regression. Not sure if methods discussed in class would be appropriate to estimate a bunch of different chemicals."
   ]
  },
  {
   "cell_type": "code",
   "execution_count": 1,
   "metadata": {},
   "outputs": [
    {
     "name": "stdout",
     "output_type": "stream",
     "text": [
      "(69097, 16)\n",
      "(2880, 15)\n",
      "(2880,)\n"
     ]
    }
   ],
   "source": [
    "import csv\n",
    "import numpy as np\n",
    "import numpy.linalg as la\n",
    "\n",
    "with open('madrid_2018.csv', newline='') as csvfile:\n",
    "    data = list(csv.reader(csvfile))\n",
    "\n",
    "# creating all data for station 28079004\n",
    "data = np.array(data)\n",
    "print(data.shape)\n",
    "data = data[1:data.shape[0],0:data.shape[1]]\n",
    "#print(data[0,:])\n",
    "airq = []\n",
    "date = []\n",
    "for i in range(0, data.shape[0]):\n",
    "    for j in range(0, data.shape[1]):\n",
    "        if(data[i,-1]=='28079004'):\n",
    "            if(j==0):\n",
    "                date.append(data[i,j])\n",
    "            elif(data[i,j]==''):\n",
    "                airq.append('0')\n",
    "            else:\n",
    "                airq.append(data[i,j])\n",
    "            \n",
    "airq = np.array(airq)\n",
    "date = np.array(date)\n",
    "airq = np.reshape(airq, (2880,15))\n",
    "print(airq.shape)\n",
    "print(date.shape)\n",
    "#print(date[2])\n",
    "#print(airq[2,:])\n",
    "\n",
    "airq = airq.astype(np.float)\n",
    "#print(airq[3,:])"
   ]
  },
  {
   "cell_type": "markdown",
   "metadata": {},
   "source": [
    "# Forecasting Temperature"
   ]
  },
  {
   "cell_type": "code",
   "execution_count": 2,
   "metadata": {},
   "outputs": [
    {
     "name": "stdout",
     "output_type": "stream",
     "text": [
      "(69096, 16)\n",
      "['9.472222222222221' '7.3888888888888875' '0.89' '14.1197' '251.0'\n",
      " '15.826300000000002' '0.0' '1015.13']\n",
      "9.472222222222221\n",
      "[7.38888889e+00 8.90000000e-01 1.41197000e+01 2.51000000e+02\n",
      " 1.58263000e+01 0.00000000e+00 1.01513000e+03]\n",
      "(96453,)\n",
      "(96453, 7)\n"
     ]
    }
   ],
   "source": [
    "with open('weatherHistory.csv', newline='') as csvfile:\n",
    "    predata = list(csv.reader(csvfile))\n",
    "\n",
    "# creating all data for station 28079004\n",
    "predata = np.array(predata)\n",
    "print(data.shape)\n",
    "predata = predata[1:predata.shape[0],3:-1]\n",
    "print(predata[0,:])\n",
    "target = predata[:,0].astype(float)\n",
    "data = predata[:,1:predata.shape[1]].astype(float)\n",
    "print(target[0])\n",
    "print(data[0,:])\n",
    "print(target.shape)\n",
    "print(data.shape)"
   ]
  },
  {
   "cell_type": "code",
   "execution_count": 3,
   "metadata": {},
   "outputs": [
    {
     "name": "stdout",
     "output_type": "stream",
     "text": [
      "(96453, 8)\n",
      "0.9005999860504107\n"
     ]
    }
   ],
   "source": [
    "def LeastSquares_RR(train,train_target,test,l):\n",
    "    X = train\n",
    "    #print(X.shape)\n",
    "    t = train_target\n",
    "    I = np.identity(X.shape[1])\n",
    "    #t = train_target.reshape(len(train_target),1)\n",
    "    #print(X.shape)\n",
    "    what = la.inv(X.transpose().dot(X)+l*I).dot(X.transpose()).dot(t)\n",
    "    y_hat = X.dot(what)\n",
    "    lserror = la.norm(t - y_hat)**2/X.shape[0]\n",
    "    \n",
    "    y_pred = test.dot(what)\n",
    "    return what, lserror, y_pred\n",
    "\n",
    "X = data\n",
    "t = target.reshape(96453,1)\n",
    "ones = np.ones((96453,1))\n",
    "X = np.column_stack((data,ones))\n",
    "print(X.shape)\n",
    "what, lserror, y_pred = LeastSquares_RR(X, t, X, 1)\n",
    "print(lserror)"
   ]
  },
  {
   "cell_type": "code",
   "execution_count": 6,
   "metadata": {},
   "outputs": [],
   "source": [
    "def KFCV_RR(l, p):\n",
    "           \n",
    "    test1 = X[0:19290]; train1 = X[19290:38580]; \n",
    "    test1_t = t[0:19290]; train1_t = t[19290:96450]\n",
    "\n",
    "    test2 = X[19290:38580]; train2 = np.vstack((X[0:19290],X[38580:96450])) \n",
    "    test2_t = t[19290:38580]; train2_t = np.vstack((t[0:19290],t[38580:96450]))\n",
    "\n",
    "    test3 = X[38580:57870]; train3 = np.vstack((X[0:38580],X[57870:96450])) ; \n",
    "    test3_t = t[38580:57870]; train3_t = np.vstack((t[0:38580],t[57870:96450])) ; \n",
    "\n",
    "    test4 = X[57870:77160]; train4 = np.vstack((X[0:57870],X[77160:96450])); \n",
    "    test4_t = t[57870:77160]; train4_t = np.vstack((t[0:57870],t[77160:96450]));\n",
    "\n",
    "    test5 = X[77160:96450]; train5 = X[0:77160]; \n",
    "    test5_t = t[77160:96450]; train5_t = t[0:77160]\n",
    "    \n",
    "    test = np.array([test1,test2,test3,test4,test5])\n",
    "    test_t = np.array([test1_t,test2_t,test3_t,test4_t,test5_t])\n",
    "    \n",
    "    Errors = []\n",
    "    for i in range(5):\n",
    "        val = test[i]\n",
    "        val_t = test_t[i]\n",
    "        \"\"\"ktt = np.asarray([[],[],[],[],[],[],[],[],[],[],[],[],[],[]]).transpose()\n",
    "        ktt_t = np.asarray([[]]).transpose()\n",
    "        for g in range(5):\n",
    "            if g!=i:\n",
    "                ktt = np.vstack((ktt,test[g]))\n",
    "                ktt_t = np.vstack((ktt_t,test_t[g]))\n",
    "        print(ktt)\n",
    "        \"\"\"\n",
    "        ktt = []\n",
    "        ktt_t = []\n",
    "        for g in range(5):\n",
    "            if g!=i:\n",
    "                ktt.append(test[g])\n",
    "                ktt_t.append(test_t[g])\n",
    "        #print (test[:i].shape)\n",
    "        #print (test[i+1].shape)\n",
    "        \"\"\"print (test.shape)\n",
    "        ktt = np.vstack((test[:i],test[i+1:]))\n",
    "        ktt_t = np.vstack((test_t[:i],test_t[i+1:]))\n",
    "        \"\"\"\n",
    "        #print(\"len ktt is : \",len(ktt))\n",
    "        whats = []\n",
    "        es = []\n",
    "        ypreds = []\n",
    "        errors = []\n",
    "        for j in range(4):\n",
    "            testk = ktt[j]\n",
    "            testk_t = ktt_t[j]\n",
    "            train = []; train_t = []\n",
    "            if len(ktt[:j])<=0:\n",
    "                #print(\"----\")\n",
    "                train = np.vstack(ktt[j+1:])\n",
    "                train_t = np.vstack(ktt_t[j+1:])\n",
    "            elif ((j+1>=4) or len(ktt[j+1:])<0):\n",
    "                #print(\"----ef\")\n",
    "                train = np.vstack(ktt[:j])\n",
    "                train_t = np.vstack(ktt_t[:j])\n",
    "            else:\n",
    "                train = np.vstack(ktt[:j]+(ktt[j+1:]))\n",
    "                train_t = np.vstack(ktt_t[:j]+ktt_t[j+1:])\n",
    "                \"\"\"print(\"----eee\")\n",
    "                if len(ktt[:j])==1:\n",
    "                    train = ktt[:j]\n",
    "                    train_t = ktt_t[:j]\n",
    "                else:\n",
    "                    train = np.vstack(ktt[:j])\n",
    "                    train_t = np.vstack(ktt_t[:j])\n",
    "                if len(ktt[j+1:])==1:\n",
    "                    t2 = ktt[j+1:]\n",
    "                    t2_t = ktt_t[j+1:]\n",
    "                    train = np.vstack(train.append(t2))\n",
    "                    train_t = np.vstack(train_t.append(t2))\n",
    "                else:\n",
    "                    t2 = np.vstack(ktt[j+1:])\n",
    "                    t2_t = np.vstack(ktt_t[j+1:])\n",
    "                \n",
    "                    #print(train.shape,t2.shape)\n",
    "                    #train = np.vstack((train,t2))\n",
    "                    #train_t = np.vstack((train_t,t2_t))\n",
    "                    train = np.vstack(train.append(t2))\n",
    "                    train_t = np.vstack(train_t.append(t2))\"\"\"\n",
    "            \n",
    "            #print(train.shape)\n",
    "            wh, e, ypred = LeastSquares_RR(train,train_t,testk,l)\n",
    "            whats.append(wh)\n",
    "            es.append(e)\n",
    "            ypreds.append(ypred)\n",
    "            error = la.norm(ypred - testk_t)**2/testk_t.shape[0]\n",
    "            errors.append(error)\n",
    "        kavg_error = np.mean(errors)\n",
    "        idx = np.argmin(errors)\n",
    "        yp = val.dot(whats[idx])\n",
    "        new_e = la.norm(yp - val_t)**2/val_t.shape[0]\n",
    "        Errors.append(new_e)\n",
    "    return np.mean(Errors)"
   ]
  },
  {
   "cell_type": "code",
   "execution_count": 8,
   "metadata": {},
   "outputs": [
    {
     "ename": "LinAlgError",
     "evalue": "Singular matrix",
     "output_type": "error",
     "traceback": [
      "\u001b[1;31m---------------------------------------------------------------------------\u001b[0m",
      "\u001b[1;31mLinAlgError\u001b[0m                               Traceback (most recent call last)",
      "\u001b[1;32m<ipython-input-8-e3090ff8f335>\u001b[0m in \u001b[0;36m<module>\u001b[1;34m()\u001b[0m\n\u001b[0;32m      2\u001b[0m \u001b[0mErrors\u001b[0m \u001b[1;33m=\u001b[0m \u001b[1;33m[\u001b[0m\u001b[1;33m]\u001b[0m\u001b[1;33m\u001b[0m\u001b[0m\n\u001b[0;32m      3\u001b[0m \u001b[1;32mfor\u001b[0m \u001b[0ml\u001b[0m \u001b[1;32min\u001b[0m \u001b[0mL\u001b[0m\u001b[1;33m:\u001b[0m\u001b[1;33m\u001b[0m\u001b[0m\n\u001b[1;32m----> 4\u001b[1;33m     \u001b[0mErrors\u001b[0m\u001b[1;33m.\u001b[0m\u001b[0mappend\u001b[0m\u001b[1;33m(\u001b[0m\u001b[0mKFCV_RR\u001b[0m\u001b[1;33m(\u001b[0m\u001b[0ml\u001b[0m\u001b[1;33m,\u001b[0m\u001b[1;32mFalse\u001b[0m\u001b[1;33m)\u001b[0m\u001b[1;33m)\u001b[0m\u001b[1;33m\u001b[0m\u001b[0m\n\u001b[0m\u001b[0;32m      5\u001b[0m \u001b[0mErrors\u001b[0m \u001b[1;33m=\u001b[0m \u001b[0mnp\u001b[0m\u001b[1;33m.\u001b[0m\u001b[0masarray\u001b[0m\u001b[1;33m(\u001b[0m\u001b[0mErrors\u001b[0m\u001b[1;33m)\u001b[0m\u001b[1;33m\u001b[0m\u001b[0m\n\u001b[0;32m      6\u001b[0m \u001b[0mi\u001b[0m \u001b[1;33m=\u001b[0m \u001b[0mnp\u001b[0m\u001b[1;33m.\u001b[0m\u001b[0margmin\u001b[0m\u001b[1;33m(\u001b[0m\u001b[0mErrors\u001b[0m\u001b[1;33m)\u001b[0m\u001b[1;33m\u001b[0m\u001b[0m\n",
      "\u001b[1;32m<ipython-input-6-4b8c05cb7de5>\u001b[0m in \u001b[0;36mKFCV_RR\u001b[1;34m(l, p)\u001b[0m\n\u001b[0;32m     86\u001b[0m \u001b[1;33m\u001b[0m\u001b[0m\n\u001b[0;32m     87\u001b[0m             \u001b[1;31m#print(train.shape)\u001b[0m\u001b[1;33m\u001b[0m\u001b[1;33m\u001b[0m\u001b[0m\n\u001b[1;32m---> 88\u001b[1;33m             \u001b[0mwh\u001b[0m\u001b[1;33m,\u001b[0m \u001b[0me\u001b[0m\u001b[1;33m,\u001b[0m \u001b[0mypred\u001b[0m \u001b[1;33m=\u001b[0m \u001b[0mLeastSquares_RR\u001b[0m\u001b[1;33m(\u001b[0m\u001b[0mtrain\u001b[0m\u001b[1;33m,\u001b[0m\u001b[0mtrain_t\u001b[0m\u001b[1;33m,\u001b[0m\u001b[0mtestk\u001b[0m\u001b[1;33m,\u001b[0m\u001b[0ml\u001b[0m\u001b[1;33m)\u001b[0m\u001b[1;33m\u001b[0m\u001b[0m\n\u001b[0m\u001b[0;32m     89\u001b[0m             \u001b[0mwhats\u001b[0m\u001b[1;33m.\u001b[0m\u001b[0mappend\u001b[0m\u001b[1;33m(\u001b[0m\u001b[0mwh\u001b[0m\u001b[1;33m)\u001b[0m\u001b[1;33m\u001b[0m\u001b[0m\n\u001b[0;32m     90\u001b[0m             \u001b[0mes\u001b[0m\u001b[1;33m.\u001b[0m\u001b[0mappend\u001b[0m\u001b[1;33m(\u001b[0m\u001b[0me\u001b[0m\u001b[1;33m)\u001b[0m\u001b[1;33m\u001b[0m\u001b[0m\n",
      "\u001b[1;32m<ipython-input-3-90448174366c>\u001b[0m in \u001b[0;36mLeastSquares_RR\u001b[1;34m(train, train_target, test, l)\u001b[0m\n\u001b[0;32m      6\u001b[0m     \u001b[1;31m#t = train_target.reshape(len(train_target),1)\u001b[0m\u001b[1;33m\u001b[0m\u001b[1;33m\u001b[0m\u001b[0m\n\u001b[0;32m      7\u001b[0m     \u001b[1;31m#print(X.shape)\u001b[0m\u001b[1;33m\u001b[0m\u001b[1;33m\u001b[0m\u001b[0m\n\u001b[1;32m----> 8\u001b[1;33m     \u001b[0mwhat\u001b[0m \u001b[1;33m=\u001b[0m \u001b[0mla\u001b[0m\u001b[1;33m.\u001b[0m\u001b[0minv\u001b[0m\u001b[1;33m(\u001b[0m\u001b[0mX\u001b[0m\u001b[1;33m.\u001b[0m\u001b[0mtranspose\u001b[0m\u001b[1;33m(\u001b[0m\u001b[1;33m)\u001b[0m\u001b[1;33m.\u001b[0m\u001b[0mdot\u001b[0m\u001b[1;33m(\u001b[0m\u001b[0mX\u001b[0m\u001b[1;33m)\u001b[0m\u001b[1;33m+\u001b[0m\u001b[0ml\u001b[0m\u001b[1;33m*\u001b[0m\u001b[0mI\u001b[0m\u001b[1;33m)\u001b[0m\u001b[1;33m.\u001b[0m\u001b[0mdot\u001b[0m\u001b[1;33m(\u001b[0m\u001b[0mX\u001b[0m\u001b[1;33m.\u001b[0m\u001b[0mtranspose\u001b[0m\u001b[1;33m(\u001b[0m\u001b[1;33m)\u001b[0m\u001b[1;33m)\u001b[0m\u001b[1;33m.\u001b[0m\u001b[0mdot\u001b[0m\u001b[1;33m(\u001b[0m\u001b[0mt\u001b[0m\u001b[1;33m)\u001b[0m\u001b[1;33m\u001b[0m\u001b[0m\n\u001b[0m\u001b[0;32m      9\u001b[0m     \u001b[0my_hat\u001b[0m \u001b[1;33m=\u001b[0m \u001b[0mX\u001b[0m\u001b[1;33m.\u001b[0m\u001b[0mdot\u001b[0m\u001b[1;33m(\u001b[0m\u001b[0mwhat\u001b[0m\u001b[1;33m)\u001b[0m\u001b[1;33m\u001b[0m\u001b[0m\n\u001b[0;32m     10\u001b[0m     \u001b[0mlserror\u001b[0m \u001b[1;33m=\u001b[0m \u001b[0mla\u001b[0m\u001b[1;33m.\u001b[0m\u001b[0mnorm\u001b[0m\u001b[1;33m(\u001b[0m\u001b[0mt\u001b[0m \u001b[1;33m-\u001b[0m \u001b[0my_hat\u001b[0m\u001b[1;33m)\u001b[0m\u001b[1;33m**\u001b[0m\u001b[1;36m2\u001b[0m\u001b[1;33m/\u001b[0m\u001b[0mX\u001b[0m\u001b[1;33m.\u001b[0m\u001b[0mshape\u001b[0m\u001b[1;33m[\u001b[0m\u001b[1;36m0\u001b[0m\u001b[1;33m]\u001b[0m\u001b[1;33m\u001b[0m\u001b[0m\n",
      "\u001b[1;32mC:\\Users\\Akshitha\\Anaconda3\\lib\\site-packages\\numpy\\linalg\\linalg.py\u001b[0m in \u001b[0;36minv\u001b[1;34m(a)\u001b[0m\n\u001b[0;32m    526\u001b[0m     \u001b[0msignature\u001b[0m \u001b[1;33m=\u001b[0m \u001b[1;34m'D->D'\u001b[0m \u001b[1;32mif\u001b[0m \u001b[0misComplexType\u001b[0m\u001b[1;33m(\u001b[0m\u001b[0mt\u001b[0m\u001b[1;33m)\u001b[0m \u001b[1;32melse\u001b[0m \u001b[1;34m'd->d'\u001b[0m\u001b[1;33m\u001b[0m\u001b[0m\n\u001b[0;32m    527\u001b[0m     \u001b[0mextobj\u001b[0m \u001b[1;33m=\u001b[0m \u001b[0mget_linalg_error_extobj\u001b[0m\u001b[1;33m(\u001b[0m\u001b[0m_raise_linalgerror_singular\u001b[0m\u001b[1;33m)\u001b[0m\u001b[1;33m\u001b[0m\u001b[0m\n\u001b[1;32m--> 528\u001b[1;33m     \u001b[0mainv\u001b[0m \u001b[1;33m=\u001b[0m \u001b[0m_umath_linalg\u001b[0m\u001b[1;33m.\u001b[0m\u001b[0minv\u001b[0m\u001b[1;33m(\u001b[0m\u001b[0ma\u001b[0m\u001b[1;33m,\u001b[0m \u001b[0msignature\u001b[0m\u001b[1;33m=\u001b[0m\u001b[0msignature\u001b[0m\u001b[1;33m,\u001b[0m \u001b[0mextobj\u001b[0m\u001b[1;33m=\u001b[0m\u001b[0mextobj\u001b[0m\u001b[1;33m)\u001b[0m\u001b[1;33m\u001b[0m\u001b[0m\n\u001b[0m\u001b[0;32m    529\u001b[0m     \u001b[1;32mreturn\u001b[0m \u001b[0mwrap\u001b[0m\u001b[1;33m(\u001b[0m\u001b[0mainv\u001b[0m\u001b[1;33m.\u001b[0m\u001b[0mastype\u001b[0m\u001b[1;33m(\u001b[0m\u001b[0mresult_t\u001b[0m\u001b[1;33m,\u001b[0m \u001b[0mcopy\u001b[0m\u001b[1;33m=\u001b[0m\u001b[1;32mFalse\u001b[0m\u001b[1;33m)\u001b[0m\u001b[1;33m)\u001b[0m\u001b[1;33m\u001b[0m\u001b[0m\n\u001b[0;32m    530\u001b[0m \u001b[1;33m\u001b[0m\u001b[0m\n",
      "\u001b[1;32mC:\\Users\\Akshitha\\Anaconda3\\lib\\site-packages\\numpy\\linalg\\linalg.py\u001b[0m in \u001b[0;36m_raise_linalgerror_singular\u001b[1;34m(err, flag)\u001b[0m\n\u001b[0;32m     87\u001b[0m \u001b[1;33m\u001b[0m\u001b[0m\n\u001b[0;32m     88\u001b[0m \u001b[1;32mdef\u001b[0m \u001b[0m_raise_linalgerror_singular\u001b[0m\u001b[1;33m(\u001b[0m\u001b[0merr\u001b[0m\u001b[1;33m,\u001b[0m \u001b[0mflag\u001b[0m\u001b[1;33m)\u001b[0m\u001b[1;33m:\u001b[0m\u001b[1;33m\u001b[0m\u001b[0m\n\u001b[1;32m---> 89\u001b[1;33m     \u001b[1;32mraise\u001b[0m \u001b[0mLinAlgError\u001b[0m\u001b[1;33m(\u001b[0m\u001b[1;34m\"Singular matrix\"\u001b[0m\u001b[1;33m)\u001b[0m\u001b[1;33m\u001b[0m\u001b[0m\n\u001b[0m\u001b[0;32m     90\u001b[0m \u001b[1;33m\u001b[0m\u001b[0m\n\u001b[0;32m     91\u001b[0m \u001b[1;32mdef\u001b[0m \u001b[0m_raise_linalgerror_nonposdef\u001b[0m\u001b[1;33m(\u001b[0m\u001b[0merr\u001b[0m\u001b[1;33m,\u001b[0m \u001b[0mflag\u001b[0m\u001b[1;33m)\u001b[0m\u001b[1;33m:\u001b[0m\u001b[1;33m\u001b[0m\u001b[0m\n",
      "\u001b[1;31mLinAlgError\u001b[0m: Singular matrix"
     ]
    }
   ],
   "source": [
    "L = np.arange(0,3,0.001)\n",
    "Errors = []\n",
    "for l in L:\n",
    "    Errors.append(KFCV_RR(l,False))\n",
    "Errors = np.asarray(Errors)\n",
    "i = np.argmin(Errors)\n",
    "print(\"Optimal lambda is: \",L[i], \"\\nwith average prediction error: \",Errors[i])"
   ]
  },
  {
   "cell_type": "code",
   "execution_count": null,
   "metadata": {},
   "outputs": [],
   "source": []
  }
 ],
 "metadata": {
  "kernelspec": {
   "display_name": "Python 3",
   "language": "python",
   "name": "python3"
  },
  "language_info": {
   "codemirror_mode": {
    "name": "ipython",
    "version": 3
   },
   "file_extension": ".py",
   "mimetype": "text/x-python",
   "name": "python",
   "nbconvert_exporter": "python",
   "pygments_lexer": "ipython3",
   "version": "3.5.6"
  }
 },
 "nbformat": 4,
 "nbformat_minor": 2
}
