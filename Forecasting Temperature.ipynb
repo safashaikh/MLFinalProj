{
 "cells": [
  {
   "cell_type": "markdown",
   "metadata": {},
   "source": [
    "# Madrid Air Quality 2018"
   ]
  },
  {
   "cell_type": "markdown",
   "metadata": {},
   "source": [
    "The csv shows the air quality parameters (chemicals) measured at each of the stations in Madrid every 24 hours over the course of 4 months (January to April) in 2018. \n",
    "\n",
    "date BEN CH4 CO\tEBE\tNMHC NO\tNO_2 NOx O_3 PM10 PM25 SO_2 TCH\tTOL\tstation\n",
    "\n",
    "However a lot of data is missing per station. And there is no one air quality feature to get from regression. Not sure if methods discussed in class would be appropriate to estimate a bunch of different chemicals."
   ]
  },
  {
   "cell_type": "code",
   "execution_count": 10,
   "metadata": {},
   "outputs": [
    {
     "name": "stdout",
     "output_type": "stream",
     "text": [
      "(69097, 16)\n",
      "(2880, 15)\n",
      "(2880,)\n"
     ]
    }
   ],
   "source": [
    "import csv\n",
    "import numpy as np\n",
    "import numpy.linalg as LA\n",
    "import matplotlib.pyplot as plt\n",
    "\n",
    "with open('madrid_2018.csv', newline='') as csvfile:\n",
    "    data = list(csv.reader(csvfile))\n",
    "\n",
    "# creating all data for station 28079004\n",
    "data = np.array(data)\n",
    "print(data.shape)\n",
    "data = data[1:data.shape[0],0:data.shape[1]]\n",
    "#print(data[0,:])\n",
    "airq = []\n",
    "date = []\n",
    "for i in range(0, data.shape[0]):\n",
    "    for j in range(0, data.shape[1]):\n",
    "        if(data[i,-1]=='28079004'):\n",
    "            if(j==0):\n",
    "                date.append(data[i,j])\n",
    "            elif(data[i,j]==''):\n",
    "                airq.append('0')\n",
    "            else:\n",
    "                airq.append(data[i,j])\n",
    "            \n",
    "airq = np.array(airq)\n",
    "date = np.array(date)\n",
    "airq = np.reshape(airq, (2880,15))\n",
    "print(airq.shape)\n",
    "print(date.shape)\n",
    "#print(date[2])\n",
    "#print(airq[2,:])\n",
    "\n",
    "airq = airq.astype(np.float)\n",
    "#print(airq[3,:])"
   ]
  },
  {
   "cell_type": "markdown",
   "metadata": {},
   "source": [
    "# Forecasting Temperature"
   ]
  },
  {
   "cell_type": "code",
   "execution_count": 13,
   "metadata": {},
   "outputs": [
    {
     "name": "stdout",
     "output_type": "stream",
     "text": [
      "(96454, 12)\n",
      "['17.633333333333336' '17.633333333333336' '0.57' '12.6868' '260.0'\n",
      " '11.157300000000001' '0.0' '996.19']\n",
      "17.633333333333336\n",
      "[ 17.63333333   0.57        12.6868     260.          11.1573    ]\n",
      "(96453,)\n",
      "(96453, 5)\n"
     ]
    },
    {
     "data": {
      "text/html": [
       "<div>\n",
       "<style scoped>\n",
       "    .dataframe tbody tr th:only-of-type {\n",
       "        vertical-align: middle;\n",
       "    }\n",
       "\n",
       "    .dataframe tbody tr th {\n",
       "        vertical-align: top;\n",
       "    }\n",
       "\n",
       "    .dataframe thead th {\n",
       "        text-align: right;\n",
       "    }\n",
       "</style>\n",
       "<table border=\"1\" class=\"dataframe\">\n",
       "  <thead>\n",
       "    <tr style=\"text-align: right;\">\n",
       "      <th></th>\n",
       "      <th>Formatted Date</th>\n",
       "      <th>Summary</th>\n",
       "      <th>Precip Type</th>\n",
       "      <th>Temperature (C)</th>\n",
       "      <th>Apparent Temperature (C)</th>\n",
       "      <th>Humidity</th>\n",
       "      <th>Wind Speed (km/h)</th>\n",
       "      <th>Wind Bearing (degrees)</th>\n",
       "      <th>Visibility (km)</th>\n",
       "      <th>Loud Cover</th>\n",
       "      <th>Pressure (millibars)</th>\n",
       "      <th>Daily Summary</th>\n",
       "    </tr>\n",
       "  </thead>\n",
       "  <tbody>\n",
       "    <tr>\n",
       "      <th>0</th>\n",
       "      <td>2006-04-01 00:00:00.000 +0200</td>\n",
       "      <td>Partly Cloudy</td>\n",
       "      <td>rain</td>\n",
       "      <td>9.472222</td>\n",
       "      <td>7.388889</td>\n",
       "      <td>0.89</td>\n",
       "      <td>14.1197</td>\n",
       "      <td>251.0</td>\n",
       "      <td>15.8263</td>\n",
       "      <td>0.0</td>\n",
       "      <td>1015.13</td>\n",
       "      <td>Partly cloudy throughout the day.</td>\n",
       "    </tr>\n",
       "    <tr>\n",
       "      <th>1</th>\n",
       "      <td>2006-04-01 01:00:00.000 +0200</td>\n",
       "      <td>Partly Cloudy</td>\n",
       "      <td>rain</td>\n",
       "      <td>9.355556</td>\n",
       "      <td>7.227778</td>\n",
       "      <td>0.86</td>\n",
       "      <td>14.2646</td>\n",
       "      <td>259.0</td>\n",
       "      <td>15.8263</td>\n",
       "      <td>0.0</td>\n",
       "      <td>1015.63</td>\n",
       "      <td>Partly cloudy throughout the day.</td>\n",
       "    </tr>\n",
       "    <tr>\n",
       "      <th>2</th>\n",
       "      <td>2006-04-01 02:00:00.000 +0200</td>\n",
       "      <td>Mostly Cloudy</td>\n",
       "      <td>rain</td>\n",
       "      <td>9.377778</td>\n",
       "      <td>9.377778</td>\n",
       "      <td>0.89</td>\n",
       "      <td>3.9284</td>\n",
       "      <td>204.0</td>\n",
       "      <td>14.9569</td>\n",
       "      <td>0.0</td>\n",
       "      <td>1015.94</td>\n",
       "      <td>Partly cloudy throughout the day.</td>\n",
       "    </tr>\n",
       "    <tr>\n",
       "      <th>3</th>\n",
       "      <td>2006-04-01 03:00:00.000 +0200</td>\n",
       "      <td>Partly Cloudy</td>\n",
       "      <td>rain</td>\n",
       "      <td>8.288889</td>\n",
       "      <td>5.944444</td>\n",
       "      <td>0.83</td>\n",
       "      <td>14.1036</td>\n",
       "      <td>269.0</td>\n",
       "      <td>15.8263</td>\n",
       "      <td>0.0</td>\n",
       "      <td>1016.41</td>\n",
       "      <td>Partly cloudy throughout the day.</td>\n",
       "    </tr>\n",
       "    <tr>\n",
       "      <th>4</th>\n",
       "      <td>2006-04-01 04:00:00.000 +0200</td>\n",
       "      <td>Mostly Cloudy</td>\n",
       "      <td>rain</td>\n",
       "      <td>8.755556</td>\n",
       "      <td>6.977778</td>\n",
       "      <td>0.83</td>\n",
       "      <td>11.0446</td>\n",
       "      <td>259.0</td>\n",
       "      <td>15.8263</td>\n",
       "      <td>0.0</td>\n",
       "      <td>1016.51</td>\n",
       "      <td>Partly cloudy throughout the day.</td>\n",
       "    </tr>\n",
       "  </tbody>\n",
       "</table>\n",
       "</div>"
      ],
      "text/plain": [
       "                  Formatted Date        Summary Precip Type  Temperature (C)  \\\n",
       "0  2006-04-01 00:00:00.000 +0200  Partly Cloudy        rain         9.472222   \n",
       "1  2006-04-01 01:00:00.000 +0200  Partly Cloudy        rain         9.355556   \n",
       "2  2006-04-01 02:00:00.000 +0200  Mostly Cloudy        rain         9.377778   \n",
       "3  2006-04-01 03:00:00.000 +0200  Partly Cloudy        rain         8.288889   \n",
       "4  2006-04-01 04:00:00.000 +0200  Mostly Cloudy        rain         8.755556   \n",
       "\n",
       "   Apparent Temperature (C)  Humidity  Wind Speed (km/h)  \\\n",
       "0                  7.388889      0.89            14.1197   \n",
       "1                  7.227778      0.86            14.2646   \n",
       "2                  9.377778      0.89             3.9284   \n",
       "3                  5.944444      0.83            14.1036   \n",
       "4                  6.977778      0.83            11.0446   \n",
       "\n",
       "   Wind Bearing (degrees)  Visibility (km)  Loud Cover  Pressure (millibars)  \\\n",
       "0                   251.0          15.8263         0.0               1015.13   \n",
       "1                   259.0          15.8263         0.0               1015.63   \n",
       "2                   204.0          14.9569         0.0               1015.94   \n",
       "3                   269.0          15.8263         0.0               1016.41   \n",
       "4                   259.0          15.8263         0.0               1016.51   \n",
       "\n",
       "                       Daily Summary  \n",
       "0  Partly cloudy throughout the day.  \n",
       "1  Partly cloudy throughout the day.  \n",
       "2  Partly cloudy throughout the day.  \n",
       "3  Partly cloudy throughout the day.  \n",
       "4  Partly cloudy throughout the day.  "
      ]
     },
     "execution_count": 13,
     "metadata": {},
     "output_type": "execute_result"
    }
   ],
   "source": [
    "with open('weatherHistory.csv', newline='') as csvfile:\n",
    "    predata = list(csv.reader(csvfile))\n",
    "\n",
    "# creating all data for station 28079004\n",
    "predata = np.array(predata)\n",
    "print(predata.shape)\n",
    "predata = predata[1:predata.shape[0],3:-1]\n",
    "np.random.shuffle(predata)\n",
    "print(predata[0,:])\n",
    "target = predata[:,0].astype(float)\n",
    "data = predata[:,1:6].astype(float)\n",
    "print(target[0])\n",
    "print(data[0,:])\n",
    "print(target.shape)\n",
    "print(data.shape)\n",
    "import pandas as pd\n",
    "pddata = pd.read_csv(\"weatherHistory.csv\")\n",
    "pddata.head()"
   ]
  },
  {
   "cell_type": "code",
   "execution_count": 17,
   "metadata": {},
   "outputs": [
    {
     "name": "stdout",
     "output_type": "stream",
     "text": [
      "0.8862968533647781\n",
      "0.9082767023022538\n",
      "0.8988187833180715\n",
      "0.9057304050162085\n",
      "0.9078342960621193\n",
      "The average prediction error from 5-fold CV:  0.9013914080126861\n"
     ]
    },
    {
     "data": {
      "image/png": "[encoded data removed]",
      "text/plain": [
       "<Figure size 432x288 with 1 Axes>"
      ]
     },
     "metadata": {},
     "output_type": "display_data"
    }
   ],
   "source": [
    "def LS(data, labels):\n",
    "    w_hat = np.matmul(np.matmul(LA.inv(np.matmul(np.transpose(data), data)), np.transpose(data)), labels)\n",
    "    return w_hat\n",
    "    \n",
    "def LS_error(X, labels, w_hat):\n",
    "    y_est = np.matmul(X, w_hat)\n",
    "    error = LA.norm(labels-y_est)**2/X.shape[0]\n",
    "    return y_est, error\n",
    "\n",
    "X = np.ones((len(data), 6))\n",
    "for i in range(0, len(data)):\n",
    "    for j in range(0, 5):\n",
    "        X[i, j] = data[i, j]\n",
    "\n",
    "test1 = X[0:19290]\n",
    "testlab1 = target[0:19290]\n",
    "train1 = X[19290:96453] \n",
    "label1 = target[19290:96453]\n",
    "\n",
    "test2 = X[19290:38580, :]\n",
    "testlab2 = target[19290:38580]\n",
    "train2 = np.concatenate((X[0:19290, :], X[38580:96453, :]))\n",
    "label2 = np.concatenate((target[0:19290], target[38580:96453]))\n",
    "\n",
    "test3 = X[38580:57870, :]\n",
    "testlab3 = target[38580:57870]\n",
    "train3 = np.concatenate((X[0:38580, :], X[57870:96453, :]))\n",
    "label3 = np.concatenate((target[0:38580], target[57870:96453]))\n",
    "\n",
    "test4 = X[57870:77160, :]\n",
    "testlab4 = target[57870:77160]\n",
    "train4 = np.concatenate((X[0:57870, :], X[77160:96453, :]))\n",
    "label4 = np.concatenate((target[0:57870], target[77160:96453]))\n",
    "\n",
    "test5 = X[77160:96453, :]\n",
    "testlab5 = target[77160:96453]\n",
    "train5 = X[0:77160, :]\n",
    "label5 = target[0:77160]\n",
    "\n",
    "w1 = LS(train1, label1)\n",
    "y1, err1 = LS_error(test1, testlab1, w1)\n",
    "print(err1)\n",
    "\n",
    "w2 = LS(train2, label2)\n",
    "y2, err2 = LS_error(test2, testlab2, w2)\n",
    "print(err2)\n",
    "\n",
    "w3 = LS(train3, label3)\n",
    "y3, err3 = LS_error(test3, testlab3, w3)\n",
    "print(err3)\n",
    "\n",
    "w4 = LS(train4, label4)\n",
    "y4, err4 = LS_error(test4, testlab4, w4)\n",
    "print(err4)\n",
    "\n",
    "w5 = LS(train5, label5)\n",
    "y5, err5 = LS_error(test5, testlab5, w5)\n",
    "print(err5)\n",
    "\n",
    "avg = (err1+err2+err3+err4+err5)/5\n",
    "print(\"The average prediction error from 5-fold CV: \", avg)\n",
    "\n",
    "plt.scatter(testlab4, y4, c='g')\n",
    "plt.plot(testlab4,testlab4, 'b')\n",
    "plt.title(\"Measured vs Predicted Target\")\n",
    "plt.xlabel(\"Measured Target\")\n",
    "plt.ylabel(\"Predicted Target\")\n",
    "plt.show()"
   ]
  },
  {
   "cell_type": "code",
   "execution_count": 19,
   "metadata": {
    "scrolled": true
   },
   "outputs": [
    {
     "name": "stdout",
     "output_type": "stream",
     "text": [
      "The average prediction error from 5-fold CV:  0.9013913970931414\n",
      "From index:  3\n",
      "Thus, the best lambda value: 0.3333333333333333\n"
     ]
    },
    {
     "data": {
      "image/png": "[encoded data removed]",
      "text/plain": [
       "<Figure size 432x288 with 1 Axes>"
      ]
     },
     "metadata": {},
     "output_type": "display_data"
    }
   ],
   "source": [
    "def RR(data, labels, lam):\n",
    "    w_hat = np.matmul(np.matmul(LA.inv(np.matmul(np.transpose(data), data)+lam*np.identity(data.shape[1])), np.transpose(data)), labels)\n",
    "    return w_hat\n",
    "    \n",
    "def RR_error(X, labels, w_hat):\n",
    "    y_est = np.matmul(X, w_hat)\n",
    "    error = LA.norm(labels-y_est)**2/X.shape[0]\n",
    "    return y_est, error\n",
    "\n",
    "#w_hat = RR(X, target, 1)\n",
    "#print(w_hat.shape)\n",
    "#LS_error(X, target, w_hat)\n",
    "lam = np.linspace(0, 10, num=91)\n",
    "err1 = np.zeros(91)\n",
    "err2 = np.zeros(91)\n",
    "err3 = np.zeros(91)\n",
    "err4 = np.zeros(91)\n",
    "err5 = np.zeros(91)\n",
    "avg = np.zeros(91)\n",
    "\n",
    "for i in range(0, len(lam)):\n",
    "    w1 = RR(train1, label1, lam[i])\n",
    "    y1, err1[i] = RR_error(test1, testlab1, w1)\n",
    "\n",
    "    w2 = RR(train2, label2, lam[i])\n",
    "    y2, err2[i] = RR_error(test2, testlab2, w2)\n",
    "\n",
    "    w3 = RR(train3, label3, lam[i])\n",
    "    y3, err3[i] = RR_error(test3, testlab3, w3)\n",
    "\n",
    "    w4 = RR(train4, label4, lam[i])\n",
    "    y4, err4[i] = RR_error(test4, testlab4, w4)\n",
    "\n",
    "    w5 = RR(train5, label5, lam[i])\n",
    "    y5, err5[i] = RR_error(test5, testlab5, w5)\n",
    "    \n",
    "    avg[i] = (err1[i]+err2[i]+err3[i]+err4[i]+err5[i])/5\n",
    "\n",
    "print(\"The average prediction error from 5-fold CV: \", np.min(avg))\n",
    "print(\"From index: \", np.argmin(avg))    \n",
    "print(\"Thus, the best lambda value:\", lam[np.argmin(avg)])\n",
    "\n",
    "w = RR(train4, label4, lam[np.argmin(avg)])\n",
    "y, err = RR_error(test4, testlab4, w)\n",
    "\n",
    "plt.scatter(testlab4, y, c='g')\n",
    "plt.plot(testlab4,testlab4, 'b')\n",
    "plt.title(\"Measured vs Predicted Target\")\n",
    "plt.xlabel(\"Measured Target\")\n",
    "plt.ylabel(\"Predicted Target\")\n",
    "plt.show()"
   ]
  },
  {
   "cell_type": "markdown",
   "metadata": {},
   "source": [
    "# Regression Trees"
   ]
  },
  {
   "cell_type": "markdown",
   "metadata": {},
   "source": [
    "Split data into train and test set."
   ]
  },
  {
   "cell_type": "code",
   "execution_count": 26,
   "metadata": {},
   "outputs": [
    {
     "name": "stdout",
     "output_type": "stream",
     "text": [
      "(67517, 5)\n",
      "(28936, 5)\n"
     ]
    },
    {
     "data": {
      "text/plain": [
       "DecisionTreeRegressor(criterion='mse', max_depth=5, max_features=None,\n",
       "           max_leaf_nodes=None, min_impurity_decrease=0.0,\n",
       "           min_impurity_split=None, min_samples_leaf=1,\n",
       "           min_samples_split=2, min_weight_fraction_leaf=0.0,\n",
       "           presort=False, random_state=None, splitter='best')"
      ]
     },
     "execution_count": 26,
     "metadata": {},
     "output_type": "execute_result"
    }
   ],
   "source": [
    "import numpy as np\n",
    "from sklearn.tree import DecisionTreeRegressor\n",
    "import matplotlib.pyplot as plt\n",
    "from sklearn.cross_validation import train_test_split\n",
    "\n",
    "X_train, X_test, y_train, y_test = train_test_split(data,target,test_size = 0.3, random_state = 0)\n",
    "\n"
   ]
  },
  {
   "cell_type": "code",
   "execution_count": 27,
   "metadata": {},
   "outputs": [
    {
     "data": {
      "text/plain": [
       "DecisionTreeRegressor(criterion='mse', max_depth=5, max_features=None,\n",
       "           max_leaf_nodes=None, min_impurity_decrease=0.0,\n",
       "           min_impurity_split=None, min_samples_leaf=1,\n",
       "           min_samples_split=2, min_weight_fraction_leaf=0.0,\n",
       "           presort=False, random_state=None, splitter='best')"
      ]
     },
     "execution_count": 27,
     "metadata": {},
     "output_type": "execute_result"
    }
   ],
   "source": [
    "# Fit regression model\n",
    "regr_1 = DecisionTreeRegressor(max_depth=2)\n",
    "regr_2 = DecisionTreeRegressor(max_depth=5)\n",
    "regr_1.fit(X_train, y_train)\n",
    "regr_2.fit(X_train, y_train)"
   ]
  },
  {
   "cell_type": "code",
   "execution_count": 33,
   "metadata": {},
   "outputs": [
    {
     "name": "stdout",
     "output_type": "stream",
     "text": [
      "[ 8.60748019  3.86659221 14.70581917 ... 24.26520062 12.3008703\n",
      "  4.43151514]\n"
     ]
    }
   ],
   "source": [
    "# Predict\n",
    "y_1 = regr_1.predict(X_test)\n",
    "y_2 = regr_2.predict(X_test)\n",
    "print(y2)"
   ]
  },
  {
   "cell_type": "code",
   "execution_count": 34,
   "metadata": {},
   "outputs": [
    {
     "data": {
      "image/png": "[encoded data removed]",
      "text/plain": [
       "<Figure size 432x288 with 1 Axes>"
      ]
     },
     "metadata": {},
     "output_type": "display_data"
    }
   ],
   "source": [
    "# Plot the results\n",
    "plt.figure()\n",
    "plt.scatter(y_test, y_test, s=20, edgecolor=\"black\",\n",
    "            c=\"darkorange\", label=\"data targets\")\n",
    "plt.scatter(y_test, y_1, color=\"cornflowerblue\",\n",
    "         label=\"max_depth=2\")\n",
    "plt.scatter(y_test, y_2, color=\"yellowgreen\", label=\"max_depth=5\")\n",
    "#plt.plot(y_test,y_test,c='g',label='actual')\n",
    "plt.xlabel(\"data\")\n",
    "plt.ylabel(\"target\")\n",
    "plt.title(\"Decision Tree Regression\")\n",
    "plt.legend()\n",
    "plt.show()"
   ]
  },
  {
   "cell_type": "code",
   "execution_count": null,
   "metadata": {},
   "outputs": [],
   "source": []
  }
 ],
 "metadata": {
  "kernelspec": {
   "display_name": "Python 3",
   "language": "python",
   "name": "python3"
  },
  "language_info": {
   "codemirror_mode": {
    "name": "ipython",
    "version": 3
   },
   "file_extension": ".py",
   "mimetype": "text/x-python",
   "name": "python",
   "nbconvert_exporter": "python",
   "pygments_lexer": "ipython3",
   "version": "3.6.5"
  }
 },
 "nbformat": 4,
 "nbformat_minor": 2
}
