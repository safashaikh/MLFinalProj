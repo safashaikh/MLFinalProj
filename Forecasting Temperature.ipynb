{
 "cells": [
  {
   "cell_type": "markdown",
   "metadata": {},
   "source": [
    "# Madrid Air Quality 2018"
   ]
  },
  {
   "cell_type": "markdown",
   "metadata": {},
   "source": [
    "The csv shows the air quality parameters (chemicals) measured at each of the stations in Madrid every 24 hours over the course of 4 months (January to April) in 2018. \n",
    "\n",
    "date BEN CH4 CO\tEBE\tNMHC NO\tNO_2 NOx O_3 PM10 PM25 SO_2 TCH\tTOL\tstation\n",
    "\n",
    "However a lot of data is missing per station. And there is no one air quality feature to get from regression. Not sure if methods discussed in class would be appropriate to estimate a bunch of different chemicals."
   ]
  },
  {
   "cell_type": "code",
   "execution_count": 72,
   "metadata": {},
   "outputs": [
    {
     "name": "stdout",
     "output_type": "stream",
     "text": [
      "(69097, 16)\n",
      "(2880, 15)\n",
      "(2880,)\n"
     ]
    }
   ],
   "source": [
    "import csv\n",
    "import numpy as np\n",
    "import numpy.linalg as LA\n",
    "import matplotlib.pyplot as plt\n",
    "\n",
    "with open('madrid_2018.csv', newline='') as csvfile:\n",
    "    data = list(csv.reader(csvfile))\n",
    "\n",
    "# creating all data for station 28079004\n",
    "data = np.array(data)\n",
    "print(data.shape)\n",
    "data = data[1:data.shape[0],0:data.shape[1]]\n",
    "#print(data[0,:])\n",
    "airq = []\n",
    "date = []\n",
    "for i in range(0, data.shape[0]):\n",
    "    for j in range(0, data.shape[1]):\n",
    "        if(data[i,-1]=='28079004'):\n",
    "            if(j==0):\n",
    "                date.append(data[i,j])\n",
    "            elif(data[i,j]==''):\n",
    "                airq.append('0')\n",
    "            else:\n",
    "                airq.append(data[i,j])\n",
    "            \n",
    "airq = np.array(airq)\n",
    "date = np.array(date)\n",
    "airq = np.reshape(airq, (2880,15))\n",
    "print(airq.shape)\n",
    "print(date.shape)\n",
    "#print(date[2])\n",
    "#print(airq[2,:])\n",
    "\n",
    "airq = airq.astype(np.float)\n",
    "#print(airq[3,:])"
   ]
  },
  {
   "cell_type": "markdown",
   "metadata": {},
   "source": [
    "# Forecasting Temperature"
   ]
  },
  {
   "cell_type": "code",
   "execution_count": 73,
   "metadata": {},
   "outputs": [
    {
     "name": "stdout",
     "output_type": "stream",
     "text": [
      "(69096, 16)\n",
      "['-0.21111111111111056' '-0.21111111111111056' '0.92' '3.2039' '352.0'\n",
      " '4.6046000000000005' '0.0' '1039.41']\n",
      "-0.21111111111111056\n",
      "[-2.11111111e-01  9.20000000e-01  3.20390000e+00  3.52000000e+02\n",
      "  4.60460000e+00]\n",
      "(96453,)\n",
      "(96453, 5)\n"
     ]
    }
   ],
   "source": [
    "with open('weatherHistory.csv', newline='') as csvfile:\n",
    "    predata = list(csv.reader(csvfile))\n",
    "\n",
    "# creating all data for station 28079004\n",
    "predata = np.array(predata)\n",
    "print(data.shape)\n",
    "predata = predata[1:predata.shape[0],3:-1]\n",
    "np.random.shuffle(predata)\n",
    "print(predata[0,:])\n",
    "target = predata[:,0].astype(float)\n",
    "data = predata[:,1:6].astype(float)\n",
    "print(target[0])\n",
    "print(data[0,:])\n",
    "print(target.shape)\n",
    "print(data.shape)"
   ]
  },
  {
   "cell_type": "code",
   "execution_count": 74,
   "metadata": {},
   "outputs": [
    {
     "name": "stdout",
     "output_type": "stream",
     "text": [
      "1.0020717364886704\n",
      "1.0351580002558403\n",
      "1.0338781303619988\n",
      "1.0230450567710763\n",
      "1.038429462691012\n",
      "The average prediction error from 5-fold CV:  1.0265164773137196\n"
     ]
    },
    {
     "data": {
      "image/png": "[encoded data removed]",
      "text/plain": [
       "<Figure size 432x288 with 1 Axes>"
      ]
     },
     "metadata": {
      "needs_background": "light"
     },
     "output_type": "display_data"
    }
   ],
   "source": [
    "def LS(data, labels):\n",
    "    w_hat = np.matmul(np.matmul(LA.inv(np.matmul(np.transpose(data), data)), np.transpose(data)), labels)\n",
    "    return w_hat\n",
    "    \n",
    "def LS_error(X, labels, w_hat):\n",
    "    y_est = np.matmul(X, w_hat)\n",
    "    error = LA.norm(labels-y_est)**2/X.shape[0]\n",
    "    return y_est, error\n",
    "\n",
    "X = np.ones((len(data), 5))\n",
    "for i in range(0, len(data)):\n",
    "    for j in range(0, 5):\n",
    "        X[i, j] = data[i, j]\n",
    "\n",
    "test1 = X[0:19290]\n",
    "testlab1 = target[0:19290]\n",
    "train1 = X[19290:96453] \n",
    "label1 = target[19290:96453]\n",
    "\n",
    "test2 = X[19290:38580, :]\n",
    "testlab2 = target[19290:38580]\n",
    "train2 = np.concatenate((X[0:19290, :], X[38580:96453, :]))\n",
    "label2 = np.concatenate((target[0:19290], target[38580:96453]))\n",
    "\n",
    "test3 = X[38580:57870, :]\n",
    "testlab3 = target[38580:57870]\n",
    "train3 = np.concatenate((X[0:38580, :], X[57870:96453, :]))\n",
    "label3 = np.concatenate((target[0:38580], target[57870:96453]))\n",
    "\n",
    "test4 = X[57870:77160, :]\n",
    "testlab4 = target[57870:77160]\n",
    "train4 = np.concatenate((X[0:57870, :], X[77160:96453, :]))\n",
    "label4 = np.concatenate((target[0:57870], target[77160:96453]))\n",
    "\n",
    "test5 = X[77160:96453, :]\n",
    "testlab5 = target[77160:96453]\n",
    "train5 = X[0:77160, :]\n",
    "label5 = target[0:77160]\n",
    "\n",
    "w1 = LS(train1, label1)\n",
    "y1, err1 = LS_error(test1, testlab1, w1)\n",
    "print(err1)\n",
    "\n",
    "w2 = LS(train2, label2)\n",
    "y2, err2 = LS_error(test2, testlab2, w2)\n",
    "print(err2)\n",
    "\n",
    "w3 = LS(train3, label3)\n",
    "y3, err3 = LS_error(test3, testlab3, w3)\n",
    "print(err3)\n",
    "\n",
    "w4 = LS(train4, label4)\n",
    "y4, err4 = LS_error(test4, testlab4, w4)\n",
    "print(err4)\n",
    "\n",
    "w5 = LS(train5, label5)\n",
    "y5, err5 = LS_error(test5, testlab5, w5)\n",
    "print(err5)\n",
    "\n",
    "avg = (err1+err2+err3+err4+err5)/5\n",
    "print(\"The average prediction error from 5-fold CV: \", avg)\n",
    "\n",
    "plt.scatter(testlab4, y4, c='g')\n",
    "plt.plot(testlab4,testlab4, 'b')\n",
    "plt.title(\"Measured vs Predicted Target\")\n",
    "plt.xlabel(\"Measured Target\")\n",
    "plt.ylabel(\"Predicted Target\")\n",
    "plt.show()"
   ]
  },
  {
   "cell_type": "code",
   "execution_count": null,
   "metadata": {},
   "outputs": [],
   "source": []
  },
  {
   "cell_type": "code",
   "execution_count": null,
   "metadata": {},
   "outputs": [],
   "source": []
  },
  {
   "cell_type": "code",
   "execution_count": null,
   "metadata": {},
   "outputs": [],
   "source": []
  },
  {
   "cell_type": "code",
   "execution_count": null,
   "metadata": {},
   "outputs": [],
   "source": []
  },
  {
   "cell_type": "code",
   "execution_count": null,
   "metadata": {},
   "outputs": [],
   "source": []
  }
 ],
 "metadata": {
  "kernelspec": {
   "display_name": "Python 3",
   "language": "python",
   "name": "python3"
  },
  "language_info": {
   "codemirror_mode": {
    "name": "ipython",
    "version": 3
   },
   "file_extension": ".py",
   "mimetype": "text/x-python",
   "name": "python",
   "nbconvert_exporter": "python",
   "pygments_lexer": "ipython3",
   "version": "3.5.6"
  }
 },
 "nbformat": 4,
 "nbformat_minor": 2
}
